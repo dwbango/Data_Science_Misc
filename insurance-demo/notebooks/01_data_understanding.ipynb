{
 "cells": [
  {
   "cell_type": "code",
   "execution_count": 71,
   "id": "ac823e4e-0072-4161-afc1-5c8081f1a6dc",
   "metadata": {},
   "outputs": [],
   "source": [
    "import pandas as pd\n",
    "import matplotlib.pyplot as plt\n",
    "\n",
    "def load_data(path=\"../data/insurance.csv\"):\n",
    "    \"\"\"Load the raw CSV into a DataFrame.\"\"\"\n",
    "    return pd.read_csv(path)\n",
    "\n",
    "def summarize_dataframe(df):\n",
    "    \"\"\"Return a dict with shape, missing_counts, summary_stats.\"\"\"\n",
    "    return {\n",
    "        \"shape\": df.shape,\n",
    "        \"missing_counts\": df.isna().sum(),\n",
    "        \"summary_stats\": df.describe()\n",
    "    }\n",
    "\n",
    "def compute_category_counts(df, cols):\n",
    "    \"\"\"Return a dict of value_counts for each categorical column.\"\"\"\n",
    "    return {col: df[col].value_counts() for col in cols}\n",
    "\n",
    "def compute_numeric_corr(df, cols):\n",
    "    \"\"\"Return correlation matrix for given numeric columns.\"\"\"\n",
    "    return df[cols].corr()\n",
    "\n",
    "def plot_histogram(series, bins=None, title=None, xlabel=None, ylabel=None):\n",
    "    fig, ax = plt.subplots()\n",
    "    ax.hist(series, bins=bins)\n",
    "    if title:  ax.set_title(title)\n",
    "    if xlabel: ax.set_xlabel(xlabel)\n",
    "    if ylabel: ax.set_ylabel(ylabel)\n",
    "    ax.grid(True)\n",
    "    return fig, ax\n",
    "\n",
    "def plot_boxplot(df, column, title=None, ylabel=None):\n",
    "    fig, ax = plt.subplots()\n",
    "    df.boxplot(column=column, ax=ax)\n",
    "    if title:  ax.set_title(title)\n",
    "    if ylabel: ax.set_ylabel(ylabel)\n",
    "    ax.grid(True)\n",
    "    return fig, ax"
   ]
  },
  {
   "cell_type": "code",
   "execution_count": null,
   "id": "acf89cf2-6c49-410c-8213-6999b1943788",
   "metadata": {},
   "outputs": [],
   "source": []
  },
  {
   "cell_type": "code",
   "execution_count": 66,
   "id": "843e1093-9650-4659-81c1-9c13776fee8b",
   "metadata": {},
   "outputs": [],
   "source": [
    "import pandas as pd\n",
    "import matplotlib.pyplot as plt\n",
    "\n",
    "# Load data\n",
    "df = pd.read_csv(\"../data/insurance.csv\")\n"
   ]
  },
  {
   "cell_type": "code",
   "execution_count": 50,
   "id": "f2e62fb3-6f49-4ce7-a739-8816f68dc24b",
   "metadata": {},
   "outputs": [
    {
     "name": "stdout",
     "output_type": "stream",
     "text": [
      "<class 'pandas.core.frame.DataFrame'>\n",
      "RangeIndex: 1338 entries, 0 to 1337\n",
      "Data columns (total 7 columns):\n",
      " #   Column    Non-Null Count  Dtype  \n",
      "---  ------    --------------  -----  \n",
      " 0   age       1338 non-null   int64  \n",
      " 1   sex       1338 non-null   object \n",
      " 2   bmi       1338 non-null   float64\n",
      " 3   children  1338 non-null   int64  \n",
      " 4   smoker    1338 non-null   object \n",
      " 5   region    1338 non-null   object \n",
      " 6   charges   1338 non-null   float64\n",
      "dtypes: float64(2), int64(2), object(3)\n",
      "memory usage: 73.3+ KB\n",
      "info\n"
     ]
    }
   ],
   "source": [
    "# DataFrame info: types & non-null counts\n",
    "info = df.info()\n",
    "print(\"info\")"
   ]
  },
  {
   "cell_type": "code",
   "execution_count": 51,
   "id": "5a36285d-4839-43a5-afd7-9e78243fbfef",
   "metadata": {},
   "outputs": [
    {
     "name": "stdout",
     "output_type": "stream",
     "text": [
      "Missing values per column:\n",
      " age         0\n",
      "sex         0\n",
      "bmi         0\n",
      "children    0\n",
      "smoker      0\n",
      "region      0\n",
      "charges     0\n",
      "dtype: int64\n"
     ]
    }
   ],
   "source": [
    "# missing values\n",
    "missing_counts = df.isna().sum()\n",
    "print(\"Missing values per column:\\n\", missing_counts)"
   ]
  },
  {
   "cell_type": "code",
   "execution_count": 52,
   "id": "d771503c-b42d-4de2-9586-b54cdb13d8b6",
   "metadata": {},
   "outputs": [
    {
     "name": "stdout",
     "output_type": "stream",
     "text": [
      "count     1338.000000\n",
      "mean     13270.422265\n",
      "std      12110.011237\n",
      "min       1121.873900\n",
      "25%       4740.287150\n",
      "50%       9382.033000\n",
      "75%      16639.912515\n",
      "max      63770.428010\n",
      "Name: charges, dtype: float64\n"
     ]
    }
   ],
   "source": [
    "# Quick stats\n",
    "print(df['charges'].describe())"
   ]
  },
  {
   "cell_type": "code",
   "execution_count": 53,
   "id": "31037e23-cee4-43ef-9a50-0a0c5fe679d7",
   "metadata": {},
   "outputs": [
    {
     "name": "stdout",
     "output_type": "stream",
     "text": [
      "Mean charges:   13,270.42\n",
      "Median charges: 9,382.03\n"
     ]
    }
   ],
   "source": [
    "# Compute mean and median\n",
    "mean_charge   = df['charges'].mean()\n",
    "median_charge = df['charges'].median()\n",
    "\n",
    "print(f\"Mean charges:   {mean_charge:,.2f}\")\n",
    "print(f\"Median charges: {median_charge:,.2f}\")"
   ]
  },
  {
   "cell_type": "code",
   "execution_count": 54,
   "id": "e9de5432-21d2-4a59-afa8-31f4e29542d1",
   "metadata": {},
   "outputs": [
    {
     "name": "stdout",
     "output_type": "stream",
     "text": [
      "BMI min = 15.96\n",
      "BMI max = 53.13\n"
     ]
    }
   ],
   "source": [
    "# Compute BMI range\n",
    "bmi_min = df['bmi'].min()\n",
    "bmi_max = df['bmi'].max()\n",
    "\n",
    "print(f\"BMI min = {bmi_min}\")\n",
    "print(f\"BMI max = {bmi_max}\")"
   ]
  },
  {
   "cell_type": "code",
   "execution_count": 55,
   "id": "f222ff3e-d5c4-47e6-9e9f-8f244e67bca6",
   "metadata": {},
   "outputs": [
    {
     "name": "stdout",
     "output_type": "stream",
     "text": [
      "Rows, Columns: (1338, 7)\n"
     ]
    }
   ],
   "source": [
    "shape = df.shape\n",
    "print(\"Rows, Columns:\", shape)"
   ]
  },
  {
   "cell_type": "code",
   "execution_count": 56,
   "id": "ca0ccf1b-6499-4092-a884-e084c7b19064",
   "metadata": {},
   "outputs": [
    {
     "name": "stdout",
     "output_type": "stream",
     "text": [
      "\n",
      "Sex distribution:\n",
      " male      676\n",
      "female    662\n",
      "Name: sex, dtype: int64\n",
      "\n",
      "Smoker distribution:\n",
      " no     1064\n",
      "yes     274\n",
      "Name: smoker, dtype: int64\n",
      "\n",
      "Region distribution:\n",
      " southeast    364\n",
      "southwest    325\n",
      "northwest    325\n",
      "northeast    324\n",
      "Name: region, dtype: int64\n"
     ]
    }
   ],
   "source": [
    "# Category counts\n",
    "sex_counts    = df['sex'].value_counts()\n",
    "smoker_counts = df['smoker'].value_counts()\n",
    "region_counts = df['region'].value_counts()\n",
    "\n",
    "print(\"\\nSex distribution:\\n\", sex_counts)\n",
    "print(\"\\nSmoker distribution:\\n\", smoker_counts)\n",
    "print(\"\\nRegion distribution:\\n\", region_counts)"
   ]
  },
  {
   "cell_type": "code",
   "execution_count": 57,
   "id": "de3b41a3-0093-436f-a697-904a907f8909",
   "metadata": {},
   "outputs": [
    {
     "name": "stdout",
     "output_type": "stream",
     "text": [
      "\n",
      "Numeric correlations:\n",
      "                age       bmi  children   charges\n",
      "age       1.000000  0.109272  0.042469  0.299008\n",
      "bmi       0.109272  1.000000  0.012759  0.198341\n",
      "children  0.042469  0.012759  1.000000  0.067998\n",
      "charges   0.299008  0.198341  0.067998  1.000000\n"
     ]
    }
   ],
   "source": [
    "# correlations for age, bmi, children\n",
    "numeric_corr = df[['age','bmi','children','charges']].corr()\n",
    "print(\"\\nNumeric correlations:\\n\", numeric_corr)\n"
   ]
  },
  {
   "cell_type": "code",
   "execution_count": 58,
   "id": "b3101cdb-1927-449f-bf9c-20c942a22aef",
   "metadata": {},
   "outputs": [
    {
     "data": {
      "image/png": "[encoded data removed]",
      "text/plain": [
       "<Figure size 640x480 with 1 Axes>"
      ]
     },
     "metadata": {},
     "output_type": "display_data"
    }
   ],
   "source": [
    "# Charges histogram\n",
    "fig_charges, ax_charges = plt.subplots()\n",
    "ax_charges.hist(df['charges'], bins=50)\n",
    "ax_charges.set_title('Distribution of Charges')\n",
    "ax_charges.set_xlabel('Charges')\n",
    "ax_charges.set_ylabel('Frequency')\n",
    "ax_charges.grid(True)"
   ]
  },
  {
   "cell_type": "code",
   "execution_count": 59,
   "id": "cf84f18a-1be6-41ff-98b0-905d3c558209",
   "metadata": {},
   "outputs": [
    {
     "name": "stdout",
     "output_type": "stream",
     "text": [
      "Skewness: 1.5158796580240388\n"
     ]
    }
   ],
   "source": [
    "print(\"Skewness:\", df['charges'].skew())"
   ]
  },
  {
   "cell_type": "code",
   "execution_count": 61,
   "id": "6f569ba0-f78c-404e-9569-eea4e4aa1fb2",
   "metadata": {},
   "outputs": [
    {
     "data": {
      "image/png": "[encoded data removed]",
      "text/plain": [
       "<Figure size 640x480 with 1 Axes>"
      ]
     },
     "metadata": {},
     "output_type": "display_data"
    }
   ],
   "source": [
    "# Children count histogram\n",
    "fig_children, ax_children = plt.subplots()\n",
    "ax_children.hist(df['children'], bins=df['children'].nunique())\n",
    "ax_children.set_title('Number of Children Distribution')\n",
    "ax_children.set_xlabel('Children')\n",
    "ax_children.set_ylabel('Frequency')\n",
    "ax_children.grid(True) \n"
   ]
  },
  {
   "cell_type": "code",
   "execution_count": 62,
   "id": "ce822a36-181d-45ee-ae25-00f94a39b157",
   "metadata": {},
   "outputs": [
    {
     "data": {
      "image/png": "[encoded data removed]",
      "text/plain": [
       "<Figure size 640x480 with 1 Axes>"
      ]
     },
     "metadata": {},
     "output_type": "display_data"
    }
   ],
   "source": [
    "# Charges boxplot\n",
    "fig_box, ax_box = plt.subplots()\n",
    "df.boxplot(column='charges', ax=ax_box)\n",
    "ax_box.set_title('Boxplot of Charges')\n",
    "ax_box.set_ylabel('Charges')\n",
    "ax_box.grid(True) "
   ]
  },
  {
   "cell_type": "code",
   "execution_count": null,
   "id": "cd3537f8-1126-4532-8ed9-4a660b50ed70",
   "metadata": {},
   "outputs": [],
   "source": []
  },
  {
   "cell_type": "code",
   "execution_count": null,
   "id": "54b10636-1298-4d18-ad3d-982e9eb691d0",
   "metadata": {},
   "outputs": [],
   "source": []
  }
 ],
 "metadata": {
  "kernelspec": {
   "display_name": "Python 3 (ipykernel)",
   "language": "python",
   "name": "python3"
  },
  "language_info": {
   "codemirror_mode": {
    "name": "ipython",
    "version": 3
   },
   "file_extension": ".py",
   "mimetype": "text/x-python",
   "name": "python",
   "nbconvert_exporter": "python",
   "pygments_lexer": "ipython3",
   "version": "3.10.9"
  }
 },
 "nbformat": 4,
 "nbformat_minor": 5
}
