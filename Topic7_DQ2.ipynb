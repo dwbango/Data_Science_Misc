{
 "cells": [
  {
   "cell_type": "code",
   "execution_count": null,
   "id": "8d09eb0e-f964-429b-8af6-9c5e0dd4b294",
   "metadata": {},
   "outputs": [],
   "source": [
    "_='''\n",
    "Linear Regression Assumptions:\n",
    "\n",
    "Linearity: A linear relationship exists between predictors and the response variable.\n",
    "Independence: Residuals (errors) should be independent of each other.\n",
    "Homoscedasticity: Residuals show constant variance against predicted values.\n",
    "Normality: Residuals should have an approximate normal distribution.\n",
    "No Multicollinearity: Predictors should not be highly correlated.\n",
    "Additivity: The combined effects of predictors are additive.\n",
    "\n",
    "\n",
    "ANOVA Assumptions:\n",
    "\n",
    "Independence: Observations must be independent within and across groups.\n",
    "Random Sampling: Data represents random samples from populations.\n",
    "Normality: Residuals should be approximately normal.\n",
    "Scale: Data should be at the interval or ratio level of measurement\n",
    "Homogeneity of Variances: Variances should be equal across groups.\n",
    "Absence of Outliers: Outliers can skew results and should be addressed.\n",
    "Interactions: In Two-Way ANOVA, interactions between factors should be considered.\n",
    "Equal Group Sizes: not required but ideally, groups should have roughly the same number of observations to enhance test reliability\n",
    "\n",
    "Violating the assumptions of ANOVA or linear regression can compromise model accuracy, making predictions and interpretations less reliable. \n",
    "Additionally, misleading p-values can arise, increasing the risk of incorrect inferences about statistical significance. These issues can \n",
    "undermine the trustworthiness and the generalizability of the results.\n",
    "\n",
    "One way Python's tool can be utilized to help assess an ANOVA test is by using the command \n",
    "f_statistic, p_value = stats.f_oneway(df['group 1'], df['group 2'], df['group 3']) from the scipy.stats library. \n",
    "This function calculates the F-statistic and the associated p-value, providing a straightforward method to test the null \n",
    "hypothesis that all group means are equal. \n",
    "'''"
   ]
  },
  {
   "cell_type": "code",
   "execution_count": 2,
   "id": "a660cf5b-be2d-4e86-a86c-3eef628f9f58",
   "metadata": {},
   "outputs": [
    {
     "name": "stdout",
     "output_type": "stream",
     "text": [
      "F-statistic: 272.52668213457105\n",
      "P-value: 2.5843527350432272e-34\n",
      "There's a statistically significant difference between the groups.\n"
     ]
    }
   ],
   "source": [
    "import pandas as pd\n",
    "import scipy.stats as stats\n",
    "\n",
    "# All assumptions have been met and ANOVA is the appropriate test\n",
    "\n",
    "# H0: The teaching methods (Traditional, Hybrid, Online) have no effect on exam scores.\n",
    "# The means of the exam scores are equal across all three groups.\n",
    "\n",
    "# H1: At least one teaching method leads to different exam scores.\n",
    "# The mean exam score is not the same for all groups. At least one group mean is different.\n",
    "\n",
    "# exam scores\n",
    "data = {\n",
    "    'Traditional': [85, 88, 82, 90, 87, 85, 84, 88, 86, 87, 86, 85, 87, 84, 85, 85, 88, 84, 86, 87, 86, 84, 86, 87, 88],\n",
    "    'Hybrid': [89, 90, 88, 91, 88, 92, 90, 89, 90, 91, 89, 90, 89, 91, 88, 89, 91, 89, 90, 88, 89, 90, 90, 89, 91],\n",
    "    'Online': [80, 82, 79, 81, 82, 80, 83, 81, 80, 82, 80, 79, 80, 82, 79, 80, 81, 82, 80, 79, 81, 80, 82, 80, 79]\n",
    "}\n",
    "\n",
    "# Convert data to a DataFrame\n",
    "df = pd.DataFrame(data)\n",
    "\n",
    "# Perform an ANOVA test to compare means\n",
    "f_statistic, p_value = stats.f_oneway(df['Traditional'], df['Hybrid'], df['Online'])\n",
    "\n",
    "print(f'F-statistic: {f_statistic}')\n",
    "print(f'P-value: {p_value}')\n",
    "\n",
    "# results\n",
    "alpha = 0.05\n",
    "if p_value < alpha:\n",
    "    print(\"There's a statistically significant difference between the groups.\")\n",
    "else:\n",
    "    print(\"There's no statistically significant difference between the groups.\")\n"
   ]
  },
  {
   "cell_type": "code",
   "execution_count": null,
   "id": "e85d64e7-7fce-4e7b-b5a5-45d86eddd31d",
   "metadata": {},
   "outputs": [],
   "source": []
  }
 ],
 "metadata": {
  "kernelspec": {
   "display_name": "Python 3 (ipykernel)",
   "language": "python",
   "name": "python3"
  },
  "language_info": {
   "codemirror_mode": {
    "name": "ipython",
    "version": 3
   },
   "file_extension": ".py",
   "mimetype": "text/x-python",
   "name": "python",
   "nbconvert_exporter": "python",
   "pygments_lexer": "ipython3",
   "version": "3.10.9"
  }
 },
 "nbformat": 4,
 "nbformat_minor": 5
}
