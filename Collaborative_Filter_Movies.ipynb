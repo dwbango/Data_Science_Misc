{
 "cells": [
  {
   "cell_type": "code",
   "execution_count": null,
   "id": "6a5408c5-7c83-4f8f-9ef3-b422f1887edd",
   "metadata": {},
   "outputs": [],
   "source": [
    "# Don Bango\n",
    "# Collaborative filtering Model\n",
    "# MovieLens 100k Dataset\n",
    "# 7 March 2024\n",
    "# Dr. Thakkar"
   ]
  },
  {
   "cell_type": "code",
   "execution_count": 37,
   "id": "ff5cfe13-aa2b-49d1-bb7b-7f2b8c4249e8",
   "metadata": {},
   "outputs": [
    {
     "name": "stdout",
     "output_type": "stream",
     "text": [
      "Requirement already satisfied: scikit-surprise in /Users/don/anaconda3/lib/python3.10/site-packages (1.1.3)\n",
      "Requirement already satisfied: scipy>=1.3.2 in /Users/don/anaconda3/lib/python3.10/site-packages (from scikit-surprise) (1.10.0)\n",
      "Requirement already satisfied: numpy>=1.17.3 in /Users/don/anaconda3/lib/python3.10/site-packages (from scikit-surprise) (1.23.5)\n",
      "Requirement already satisfied: joblib>=1.0.0 in /Users/don/anaconda3/lib/python3.10/site-packages (from scikit-surprise) (1.1.1)\n"
     ]
    }
   ],
   "source": [
    "# Libraries\n",
    "import pandas as pd\n",
    "import numpy as np\n",
    "import matplotlib.pyplot as plt\n",
    "import seaborn as sns\n",
    "!pip install scikit-surprise\n",
    "from surprise import Dataset, Reader\n",
    "from surprise.model_selection import train_test_split\n",
    "from surprise import KNNBasic\n",
    "from surprise import accuracy"
   ]
  },
  {
   "cell_type": "code",
   "execution_count": 27,
   "id": "4c81c80a-8723-47a7-b507-3420850f460a",
   "metadata": {},
   "outputs": [],
   "source": [
    "# Loading Dataset\n",
    "\n",
    "# local directory where the MovieLens data is located\n",
    "base_path = '/Users/don/Downloads/ml-100k/'\n",
    "\n",
    "# Column names based on the MovieLens 100k README\n",
    "user_columns = ['user_id', 'age', 'gender', 'occupation', 'zip_code']\n",
    "\n",
    "item_columns = ['movie_id', 'movie_title', 'release_date', 'video_release_date',\n",
    "                'IMDb_URL', 'unknown', 'Action', 'Adventure', 'Animation', \"Children's\",\n",
    "                'Comedy', 'Crime', 'Documentary', 'Drama', 'Fantasy', 'Film-Noir',\n",
    "                'Horror', 'Musical', 'Mystery', 'Romance', 'Sci-Fi', 'Thriller', 'War', 'Western']\n",
    "\n",
    "rating_columns = ['user_id', 'movie_id', 'rating', 'timestamp']\n",
    "\n",
    "# Load the user data\n",
    "users_df = pd.read_csv(base_path + 'u.user', sep='|', names=user_columns, engine='python')\n",
    "\n",
    "# Load the movie data\n",
    "items_df = pd.read_csv(base_path + 'u.item', sep='|', names=item_columns, engine='python', encoding='ISO-8859-1')\n",
    "\n",
    "# Load the ratings data\n",
    "ratings_df = pd.read_csv(base_path + 'u.data', sep='\\t', names=rating_columns, engine='python')\n",
    "\n",
    "# Display the first few rows of each df\n",
    "\n",
    "#print(users_df.head())\n",
    "\n",
    "#print(items_df.head())\n",
    "\n",
    "#print(ratings_df.head())\n",
    "\n"
   ]
  },
  {
   "cell_type": "code",
   "execution_count": 14,
   "id": "ce54dced-7bf5-445f-aa04-66c7cfdffdb9",
   "metadata": {},
   "outputs": [
    {
     "name": "stdout",
     "output_type": "stream",
     "text": [
      "Number of movies: 1682\n",
      "Number of users: 943\n",
      "Number of ratings: 100000\n"
     ]
    }
   ],
   "source": [
    "# Number of movies\n",
    "print('Number of movies:', items_df.shape[0])\n",
    "\n",
    "# Number of users\n",
    "print('Number of users:', users_df.shape[0])\n",
    "\n",
    "# Number of ratings\n",
    "print('Number of ratings:', ratings_df.shape[0])\n",
    "\n"
   ]
  },
  {
   "cell_type": "code",
   "execution_count": 8,
   "id": "c01d0295-00a6-48be-9dd6-4c09d70d8277",
   "metadata": {},
   "outputs": [
    {
     "name": "stdout",
     "output_type": "stream",
     "text": [
      "Movie genres: ['Action', 'Adventure', 'Animation', \"Children's\", 'Comedy', 'Crime', 'Documentary', 'Drama', 'Fantasy', 'Film-Noir', 'Horror', 'Musical', 'Mystery', 'Romance', 'Sci-Fi', 'Thriller', 'War', 'Western']\n"
     ]
    }
   ],
   "source": [
    "# Movie genres available\n",
    "genre_columns = items_df.columns[6:]  # The first 5 columns are non-genre related\n",
    "\n",
    "print('Movie genres:', genre_columns.tolist())"
   ]
  },
  {
   "cell_type": "code",
   "execution_count": 10,
   "id": "28d28b2b-de4f-499d-ab7b-4b844c6ca6ac",
   "metadata": {},
   "outputs": [
    {
     "name": "stdout",
     "output_type": "stream",
     "text": [
      "<class 'pandas.core.frame.DataFrame'>\n",
      "RangeIndex: 1682 entries, 0 to 1681\n",
      "Data columns (total 24 columns):\n",
      " #   Column              Non-Null Count  Dtype  \n",
      "---  ------              --------------  -----  \n",
      " 0   movie_id            1682 non-null   int64  \n",
      " 1   movie_title         1682 non-null   object \n",
      " 2   release_date        1681 non-null   object \n",
      " 3   video_release_date  0 non-null      float64\n",
      " 4   IMDb_URL            1679 non-null   object \n",
      " 5   unknown             1682 non-null   int64  \n",
      " 6   Action              1682 non-null   int64  \n",
      " 7   Adventure           1682 non-null   int64  \n",
      " 8   Animation           1682 non-null   int64  \n",
      " 9   Children's          1682 non-null   int64  \n",
      " 10  Comedy              1682 non-null   int64  \n",
      " 11  Crime               1682 non-null   int64  \n",
      " 12  Documentary         1682 non-null   int64  \n",
      " 13  Drama               1682 non-null   int64  \n",
      " 14  Fantasy             1682 non-null   int64  \n",
      " 15  Film-Noir           1682 non-null   int64  \n",
      " 16  Horror              1682 non-null   int64  \n",
      " 17  Musical             1682 non-null   int64  \n",
      " 18  Mystery             1682 non-null   int64  \n",
      " 19  Romance             1682 non-null   int64  \n",
      " 20  Sci-Fi              1682 non-null   int64  \n",
      " 21  Thriller            1682 non-null   int64  \n",
      " 22  War                 1682 non-null   int64  \n",
      " 23  Western             1682 non-null   int64  \n",
      "dtypes: float64(1), int64(20), object(3)\n",
      "memory usage: 315.5+ KB\n",
      "None\n"
     ]
    }
   ],
   "source": [
    "# Summary of the movies DataFrame\n",
    "print(items_df.info())"
   ]
  },
  {
   "cell_type": "code",
   "execution_count": 12,
   "id": "0d69d238-55b7-49d8-b810-3893f2ca9bdf",
   "metadata": {},
   "outputs": [
    {
     "name": "stdout",
     "output_type": "stream",
     "text": [
      "count    100000.000000\n",
      "mean          3.529860\n",
      "std           1.125674\n",
      "min           1.000000\n",
      "25%           3.000000\n",
      "50%           4.000000\n",
      "75%           4.000000\n",
      "max           5.000000\n",
      "Name: rating, dtype: float64\n"
     ]
    }
   ],
   "source": [
    "# Descriptive statistics for ratings\n",
    "print(ratings_df['rating'].describe())"
   ]
  },
  {
   "cell_type": "code",
   "execution_count": 16,
   "id": "4a896a5d-8bf0-4386-95fe-91dc1ae4236f",
   "metadata": {},
   "outputs": [
    {
     "name": "stdout",
     "output_type": "stream",
     "text": [
      "Missing values in Users DataFrame:\n",
      "user_id       0\n",
      "age           0\n",
      "gender        0\n",
      "occupation    0\n",
      "zip_code      0\n",
      "dtype: int64\n",
      "\n",
      "Missing values in Items DataFrame:\n",
      "movie_id                 0\n",
      "movie_title              0\n",
      "release_date             1\n",
      "video_release_date    1682\n",
      "IMDb_URL                 3\n",
      "unknown                  0\n",
      "Action                   0\n",
      "Adventure                0\n",
      "Animation                0\n",
      "Children's               0\n",
      "Comedy                   0\n",
      "Crime                    0\n",
      "Documentary              0\n",
      "Drama                    0\n",
      "Fantasy                  0\n",
      "Film-Noir                0\n",
      "Horror                   0\n",
      "Musical                  0\n",
      "Mystery                  0\n",
      "Romance                  0\n",
      "Sci-Fi                   0\n",
      "Thriller                 0\n",
      "War                      0\n",
      "Western                  0\n",
      "dtype: int64\n",
      "\n",
      "Missing values in Ratings DataFrame:\n",
      "user_id      0\n",
      "movie_id     0\n",
      "rating       0\n",
      "timestamp    0\n",
      "dtype: int64\n"
     ]
    }
   ],
   "source": [
    "# Check for missing values in users DataFrame\n",
    "missing_values_users = users_df.isnull().sum()\n",
    "print('Missing values in Users DataFrame:')\n",
    "print(missing_values_users)\n",
    "\n",
    "# Check for missing values in items DataFrame\n",
    "missing_values_items = items_df.isnull().sum()\n",
    "print('\\nMissing values in Items DataFrame:')\n",
    "print(missing_values_items)\n",
    "\n",
    "# Check for missing values in ratings DataFrame\n",
    "missing_values_ratings = ratings_df.isnull().sum()\n",
    "print('\\nMissing values in Ratings DataFrame:')\n",
    "print(missing_values_ratings)\n"
   ]
  },
  {
   "cell_type": "code",
   "execution_count": 22,
   "id": "90633b63-cd89-42f5-aaa8-b46663bbbc07",
   "metadata": {},
   "outputs": [
    {
     "name": "stdout",
     "output_type": "stream",
     "text": [
      "Empty DataFrame\n",
      "Columns: [movie_id, movie_title, release_date, unknown, Action, Adventure, Animation, Children's, Comedy, Crime, Documentary, Drama, Fantasy, Film-Noir, Horror, Musical, Mystery, Romance, Sci-Fi, Thriller, War, Western]\n",
      "Index: []\n",
      "\n",
      "[0 rows x 22 columns]\n"
     ]
    }
   ],
   "source": [
    "# Drop the 'video_release_date' and 'IMDb_URL' columns\n",
    "#items_df = items_df.drop(columns=['video_release_date', 'IMDb_URL'])\n",
    "\n",
    "# Check the row with the missing 'release_date'\n",
    "print(items_df[items_df['release_date'].isnull()])\n",
    "\n",
    "# Options on how to handle the single missing 'release_date':\n",
    "# Option 1: Drop the row with the missing 'release_date'\n",
    "items_df = items_df.dropna(subset=['release_date'])\n",
    "\n",
    "# Option 2: Fill the missing 'release_date' with a placeholder until I find the release date of the movie\n",
    "# items_df['release_date'].fillna('01-Jan-1900', inplace=True) # Example placeholder value\n",
    "\n",
    "# Check the DataFrame after handling missing values\n",
    "#print(items_df.info())\n"
   ]
  },
  {
   "cell_type": "code",
   "execution_count": 23,
   "id": "069a5940-720d-41b1-82fd-5629fdf0fe71",
   "metadata": {},
   "outputs": [
    {
     "name": "stdout",
     "output_type": "stream",
     "text": [
      "Missing values in Users DataFrame:\n",
      "user_id       0\n",
      "age           0\n",
      "gender        0\n",
      "occupation    0\n",
      "zip_code      0\n",
      "dtype: int64\n",
      "\n",
      "Missing values in Items DataFrame:\n",
      "movie_id        0\n",
      "movie_title     0\n",
      "release_date    0\n",
      "unknown         0\n",
      "Action          0\n",
      "Adventure       0\n",
      "Animation       0\n",
      "Children's      0\n",
      "Comedy          0\n",
      "Crime           0\n",
      "Documentary     0\n",
      "Drama           0\n",
      "Fantasy         0\n",
      "Film-Noir       0\n",
      "Horror          0\n",
      "Musical         0\n",
      "Mystery         0\n",
      "Romance         0\n",
      "Sci-Fi          0\n",
      "Thriller        0\n",
      "War             0\n",
      "Western         0\n",
      "dtype: int64\n",
      "\n",
      "Missing values in Ratings DataFrame:\n",
      "user_id      0\n",
      "movie_id     0\n",
      "rating       0\n",
      "timestamp    0\n",
      "dtype: int64\n"
     ]
    }
   ],
   "source": [
    "# Check for missing values in users DataFrame\n",
    "missing_values_users = users_df.isnull().sum()\n",
    "print('Missing values in Users DataFrame:')\n",
    "print(missing_values_users)\n",
    "\n",
    "# Check for missing values in items DataFrame\n",
    "missing_values_items = items_df.isnull().sum()\n",
    "print('\\nMissing values in Items DataFrame:')\n",
    "print(missing_values_items)\n",
    "\n",
    "# Check for missing values in ratings DataFrame\n",
    "missing_values_ratings = ratings_df.isnull().sum()\n",
    "print('\\nMissing values in Ratings DataFrame:')\n",
    "print(missing_values_ratings)"
   ]
  },
  {
   "cell_type": "code",
   "execution_count": 24,
   "id": "7a9eab7e-2eec-430b-bbe4-a39689faa59a",
   "metadata": {},
   "outputs": [
    {
     "data": {
      "image/png": "[encoded data removed]",
      "text/plain": [
       "<Figure size 800x400 with 1 Axes>"
      ]
     },
     "metadata": {},
     "output_type": "display_data"
    },
    {
     "data": {
      "image/png": "[encoded data removed]",
      "text/plain": [
       "<Figure size 800x400 with 1 Axes>"
      ]
     },
     "metadata": {},
     "output_type": "display_data"
    },
    {
     "data": {
      "image/png": "[encoded data removed]",
      "text/plain": [
       "<Figure size 800x400 with 1 Axes>"
      ]
     },
     "metadata": {},
     "output_type": "display_data"
    },
    {
     "data": {
      "image/png": "[encoded data removed]",
      "text/plain": [
       "<Figure size 800x400 with 1 Axes>"
      ]
     },
     "metadata": {},
     "output_type": "display_data"
    }
   ],
   "source": [
    "# Style of the plots\n",
    "sns.set_style('whitegrid')\n",
    "\n",
    "# Histogram of movie ratings\n",
    "plt.figure(figsize=(8, 4))\n",
    "sns.countplot(x='rating', data=ratings_df)\n",
    "plt.title('Distribution of Movie Ratings')\n",
    "plt.show()\n",
    "\n",
    "# Number of ratings per movie\n",
    "ratings_per_movie = ratings_df['movie_id'].value_counts()\n",
    "plt.figure(figsize=(8, 4))\n",
    "sns.histplot(ratings_per_movie, bins=50)\n",
    "plt.title('Number of Ratings per Movie')\n",
    "plt.xlabel('Number of Ratings')\n",
    "plt.ylabel('Number of Movies')\n",
    "plt.show()\n",
    "\n",
    "# Number of ratings per user\n",
    "ratings_per_user = ratings_df['user_id'].value_counts()\n",
    "plt.figure(figsize=(8, 4))\n",
    "sns.histplot(ratings_per_user, bins=50)\n",
    "plt.title('Number of Ratings per User')\n",
    "plt.xlabel('Number of Ratings')\n",
    "plt.ylabel('Number of Users')\n",
    "plt.show()\n",
    "\n",
    "# User age distribution\n",
    "plt.figure(figsize=(8, 4))\n",
    "sns.histplot(users_df['age'], bins=30)\n",
    "plt.title('User Age Distribution')\n",
    "plt.xlabel('Age')\n",
    "plt.ylabel('Number of Users')\n",
    "plt.show()\n"
   ]
  },
  {
   "cell_type": "code",
   "execution_count": 31,
   "id": "43c1410b-2846-4901-8b5d-b1568b130f96",
   "metadata": {},
   "outputs": [],
   "source": [
    "# Prepare the data for surprise package use\n",
    "reader = Reader(rating_scale=(1, 5))  # MovieLens ratings are between 1 and 5\n",
    "data = Dataset.load_from_df(ratings_df[['user_id', 'movie_id', 'rating']], reader)\n"
   ]
  },
  {
   "cell_type": "code",
   "execution_count": 33,
   "id": "26f0dd76-5c10-4fcd-a79a-ab9e976ca960",
   "metadata": {},
   "outputs": [],
   "source": [
    "# Split the data into training and testing sets (80% training, 20% testing)\n",
    "trainset, testset = train_test_split(data, test_size=0.2)\n"
   ]
  },
  {
   "cell_type": "code",
   "execution_count": 34,
   "id": "06660674-47f8-43a7-be76-982f3442ad67",
   "metadata": {},
   "outputs": [
    {
     "name": "stdout",
     "output_type": "stream",
     "text": [
      "Computing the msd similarity matrix...\n",
      "Done computing similarity matrix.\n"
     ]
    },
    {
     "data": {
      "text/plain": [
       "<surprise.prediction_algorithms.knns.KNNBasic at 0x12f1ed390>"
      ]
     },
     "execution_count": 34,
     "metadata": {},
     "output_type": "execute_result"
    }
   ],
   "source": [
    "# Fitting the model\n",
    "from surprise import KNNBasic\n",
    "from surprise import accuracy\n",
    "\n",
    "# Train a KNNBasic model\n",
    "algo = KNNBasic()\n",
    "algo.fit(trainset)"
   ]
  },
  {
   "cell_type": "code",
   "execution_count": 35,
   "id": "8f7bced4-0a0f-4a5c-ac50-3d73287840fb",
   "metadata": {},
   "outputs": [],
   "source": [
    "# Make predictions \n",
    "predictions = algo.test(testset)\n"
   ]
  },
  {
   "cell_type": "code",
   "execution_count": 36,
   "id": "1bdfb100-041c-4fdd-b567-422595f28e68",
   "metadata": {},
   "outputs": [
    {
     "name": "stdout",
     "output_type": "stream",
     "text": [
      "MAE:  0.7718\n",
      "RMSE: 0.9754\n"
     ]
    }
   ],
   "source": [
    "# Use MAE and RMSE to measure/estimate the accuracy of the predictions. \n",
    "mae = accuracy.mae(predictions)\n",
    "rmse = accuracy.rmse(predictions)"
   ]
  },
  {
   "cell_type": "code",
   "execution_count": 38,
   "id": "ad44fd13-7c04-43ab-bd8d-17fb1277459e",
   "metadata": {},
   "outputs": [],
   "source": [
    "# Using GridSearchCV class to fine-tune the algorithm parameters.\n",
    "# Report the best parameter for any accuracy measure. Explain.\n",
    "from surprise.model_selection import GridSearchCV\n",
    "\n",
    "param_grid = {\n",
    "    'k': [20, 30, 40],  # Number of neighbors\n",
    "    'sim_options': {\n",
    "        'name': ['msd', 'cosine', 'pearson'],  # Similarity measure\n",
    "        'user_based': [True, False]  # User-based or item-based CF\n",
    "    }\n",
    "}\n"
   ]
  },
  {
   "cell_type": "code",
   "execution_count": 39,
   "id": "4e435a3d-4a46-46b9-a732-27fa99e4b6dd",
   "metadata": {},
   "outputs": [
    {
     "name": "stdout",
     "output_type": "stream",
     "text": [
      "Computing the msd similarity matrix...\n",
      "Done computing similarity matrix.\n",
      "Computing the msd similarity matrix...\n",
      "Done computing similarity matrix.\n",
      "Computing the msd similarity matrix...\n",
      "Done computing similarity matrix.\n",
      "Computing the msd similarity matrix...\n",
      "Done computing similarity matrix.\n",
      "Computing the msd similarity matrix...\n",
      "Done computing similarity matrix.\n",
      "Computing the msd similarity matrix...\n",
      "Done computing similarity matrix.\n",
      "Computing the cosine similarity matrix...\n",
      "Done computing similarity matrix.\n",
      "Computing the cosine similarity matrix...\n",
      "Done computing similarity matrix.\n",
      "Computing the cosine similarity matrix...\n",
      "Done computing similarity matrix.\n",
      "Computing the cosine similarity matrix...\n",
      "Done computing similarity matrix.\n",
      "Computing the cosine similarity matrix...\n",
      "Done computing similarity matrix.\n",
      "Computing the cosine similarity matrix...\n",
      "Done computing similarity matrix.\n",
      "Computing the pearson similarity matrix...\n",
      "Done computing similarity matrix.\n",
      "Computing the pearson similarity matrix...\n",
      "Done computing similarity matrix.\n",
      "Computing the pearson similarity matrix...\n",
      "Done computing similarity matrix.\n",
      "Computing the pearson similarity matrix...\n",
      "Done computing similarity matrix.\n",
      "Computing the pearson similarity matrix...\n",
      "Done computing similarity matrix.\n",
      "Computing the pearson similarity matrix...\n",
      "Done computing similarity matrix.\n",
      "Computing the msd similarity matrix...\n",
      "Done computing similarity matrix.\n",
      "Computing the msd similarity matrix...\n",
      "Done computing similarity matrix.\n",
      "Computing the msd similarity matrix...\n",
      "Done computing similarity matrix.\n",
      "Computing the msd similarity matrix...\n",
      "Done computing similarity matrix.\n",
      "Computing the msd similarity matrix...\n",
      "Done computing similarity matrix.\n",
      "Computing the msd similarity matrix...\n",
      "Done computing similarity matrix.\n",
      "Computing the cosine similarity matrix...\n",
      "Done computing similarity matrix.\n",
      "Computing the cosine similarity matrix...\n",
      "Done computing similarity matrix.\n",
      "Computing the cosine similarity matrix...\n",
      "Done computing similarity matrix.\n",
      "Computing the cosine similarity matrix...\n",
      "Done computing similarity matrix.\n",
      "Computing the cosine similarity matrix...\n",
      "Done computing similarity matrix.\n",
      "Computing the cosine similarity matrix...\n",
      "Done computing similarity matrix.\n",
      "Computing the pearson similarity matrix...\n",
      "Done computing similarity matrix.\n",
      "Computing the pearson similarity matrix...\n",
      "Done computing similarity matrix.\n",
      "Computing the pearson similarity matrix...\n",
      "Done computing similarity matrix.\n",
      "Computing the pearson similarity matrix...\n",
      "Done computing similarity matrix.\n",
      "Computing the pearson similarity matrix...\n",
      "Done computing similarity matrix.\n",
      "Computing the pearson similarity matrix...\n",
      "Done computing similarity matrix.\n",
      "Computing the msd similarity matrix...\n",
      "Done computing similarity matrix.\n",
      "Computing the msd similarity matrix...\n",
      "Done computing similarity matrix.\n",
      "Computing the msd similarity matrix...\n",
      "Done computing similarity matrix.\n",
      "Computing the msd similarity matrix...\n",
      "Done computing similarity matrix.\n",
      "Computing the msd similarity matrix...\n",
      "Done computing similarity matrix.\n",
      "Computing the msd similarity matrix...\n",
      "Done computing similarity matrix.\n",
      "Computing the cosine similarity matrix...\n",
      "Done computing similarity matrix.\n",
      "Computing the cosine similarity matrix...\n",
      "Done computing similarity matrix.\n",
      "Computing the cosine similarity matrix...\n",
      "Done computing similarity matrix.\n",
      "Computing the cosine similarity matrix...\n",
      "Done computing similarity matrix.\n",
      "Computing the cosine similarity matrix...\n",
      "Done computing similarity matrix.\n",
      "Computing the cosine similarity matrix...\n",
      "Done computing similarity matrix.\n",
      "Computing the pearson similarity matrix...\n",
      "Done computing similarity matrix.\n",
      "Computing the pearson similarity matrix...\n",
      "Done computing similarity matrix.\n",
      "Computing the pearson similarity matrix...\n",
      "Done computing similarity matrix.\n",
      "Computing the pearson similarity matrix...\n",
      "Done computing similarity matrix.\n",
      "Computing the pearson similarity matrix...\n",
      "Done computing similarity matrix.\n",
      "Computing the pearson similarity matrix...\n",
      "Done computing similarity matrix.\n"
     ]
    }
   ],
   "source": [
    "# Run GridSearchCV\n",
    "gs = GridSearchCV(KNNBasic, param_grid, measures=['rmse', 'mae'], cv=3)\n",
    "\n",
    "gs.fit(data)\n"
   ]
  },
  {
   "cell_type": "code",
   "execution_count": 41,
   "id": "7a3a70ec-6b6c-44fa-bf31-1f17446bfa24",
   "metadata": {},
   "outputs": [
    {
     "name": "stdout",
     "output_type": "stream",
     "text": [
      "Best RMSE score attained:  0.9856962078037665\n",
      "Parameters for the best RMSE score:  {'k': 40, 'sim_options': {'name': 'msd', 'user_based': False}}\n",
      "Best MAE score attained:  0.7787251913703329\n",
      "Parameters for the best MAE score:  {'k': 20, 'sim_options': {'name': 'msd', 'user_based': True}}\n"
     ]
    }
   ],
   "source": [
    "# Results\n",
    "# Best RMSE score\n",
    "print(\"Best RMSE score attained: \", gs.best_score['rmse'])\n",
    "\n",
    "# Parameters for the best RMSE score\n",
    "print(\"Parameters for the best RMSE score: \", gs.best_params['rmse'])\n",
    "\n",
    "# MAE:\n",
    "print(\"Best MAE score attained: \", gs.best_score['mae'])\n",
    "print(\"Parameters for the best MAE score: \", gs.best_params['mae'])\n"
   ]
  }
 ],
 "metadata": {
  "kernelspec": {
   "display_name": "Python 3 (ipykernel)",
   "language": "python",
   "name": "python3"
  },
  "language_info": {
   "codemirror_mode": {
    "name": "ipython",
    "version": 3
   },
   "file_extension": ".py",
   "mimetype": "text/x-python",
   "name": "python",
   "nbconvert_exporter": "python",
   "pygments_lexer": "ipython3",
   "version": "3.10.9"
  }
 },
 "nbformat": 4,
 "nbformat_minor": 5
}
