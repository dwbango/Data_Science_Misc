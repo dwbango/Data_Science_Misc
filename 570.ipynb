{
 "cells": [
  {
   "cell_type": "markdown",
   "id": "1067315f-a08b-4e68-98ca-174dc06d9817",
   "metadata": {},
   "source": [
    "# Predicting Final Exam Scores Using Linear Regression\n",
    "\n",
    "**Student Name:** Donald Bango   \n",
    "**Course:** Data Mining  \n",
    "**Instructor:** Dr. Letort  \n",
    "**Date:** 11 September 2024  \n"
   ]
  },
  {
   "cell_type": "markdown",
   "id": "09914ccb-50aa-48af-92ed-1aadd32e1083",
   "metadata": {},
   "source": [
    "**Table of Contents**\n",
    "\n",
    "1. CRISP-DM and the Step Cycles  \n",
    "2. Business Understanding, Data, and Data Preparation  \n",
    "3. Model Creation  \n",
    "4. Analysis of Results  \n",
    "5. Plotting the Data and the Linear Relationship  \n",
    "6. Finding an Equation Using the Method of Least Squares  \n",
    "7. Predicting the Final Exam Grade for a Student Who Scored 86% on the Midterm  \n",
    "8. Conclusion  \n"
   ]
  },
  {
   "cell_type": "markdown",
   "id": "59e6b0aa-ec09-48d3-bcbd-fc7ccb35d075",
   "metadata": {},
   "source": [
    "## CRISP-DM and the Step Cycles\n",
    "\n",
    "The **CRISP-DM (Cross-Industry Standard Process for Data Mining)** methodology is a well-known and widely accepted process for data mining projects. It consists of six main stages, and each stage can be revisited cyclically as necessary. The phases are:\n",
    "\n",
    "1. **Business Understanding**: The goal is to define business objectives and translate them into a data mining problem. For this assignment, the objective is to predict final exam grades based on midterm scores. This analysis helps educators identify students who may need support before the final exam.\n",
    "\n",
    "2. **Data Understanding**: This phase involves collecting and reviewing the dataset, identifying any potential issues, and gaining insights into the data. The dataset provided consists of 12 students’ midterm and final exam scores. The variables are midterm score (X) and final score (Y).\n",
    "\n",
    "3. **Data Preparation**: In this phase, the data is prepared by ensuring it is in the correct format and that any missing or erroneous data is handled. In this case, no significant data cleaning is necessary, as the dataset is already well-organized with no missing values or outliers.\n",
    "\n",
    "4. **Modeling**: The modeling phase involves selecting the appropriate technique to solve the data mining problem. Here, we use linear regression to model the relationship between midterm and final exam scores. Linear regression is a widely used method for predicting a dependent variable (Y) based on one or more independent variables (X).\n",
    "\n",
    "5. **Evaluation**: The model's performance is evaluated to assess its accuracy and effectiveness in predicting final exam scores. Metrics like R-squared are used to determine how well the model fits the data.\n",
    "\n",
    "6. **Deployment**: Once the model is built and evaluated, it is deployed for use. In this case, the model is used to make predictions for students based on their midterm exam scores.\n",
    "\n",
    "Each phase of the CRISP-DM process builds on the previous phase, and it is often necessary to revisit earlier stages to refine the model and improve results. The cyclical nature of the process ensures that new insights are incorporated into the model.\n"
   ]
  },
  {
   "cell_type": "markdown",
   "id": "e498e16d-20e0-4d65-9db0-cbea33b24e2d",
   "metadata": {},
   "source": [
    "## Business Understanding, Data, and Data Preparation\n",
    "\n",
    "### Business Understanding\n",
    "The main business objective is to predict students' final exam scores based on their midterm performance. This can help educators identify students who may struggle in the final exam and offer additional support to improve their outcomes. This understanding is crucial for developing interventions that help students succeed academically.\n",
    "\n",
    "### Data Understanding\n",
    "The dataset consists of 12 pairs of midterm and final exam scores. Each student’s midterm score (X) and final exam score (Y) are recorded as follows:\n",
    "\n",
    "| Midterm Exam (X) | Final Exam (Y) |\n",
    "|------------------|----------------|\n",
    "| 72               | 84             |\n",
    "| 50               | 63             |\n",
    "| 81               | 77             |\n",
    "| 74               | 78             |\n",
    "| 94               | 90             |\n",
    "| 86               | 75             |\n",
    "| 59               | 49             |\n",
    "| 83               | 79             |\n",
    "| 65               | 77             |\n",
    "| 33               | 52             |\n",
    "| 88               | 74             |\n",
    "| 81               | 90             |\n",
    "\n",
    "The data is clean, with no missing values or significant outliers, so no further data preparation is necessary.\n"
   ]
  },
  {
   "cell_type": "markdown",
   "id": "3d008ef0-6a60-46bf-97ce-ca257a122bd8",
   "metadata": {},
   "source": [
    "## Import Necessary Libraries"
   ]
  },
  {
   "cell_type": "code",
   "execution_count": 30,
   "id": "d82d958a-8ef1-4595-8bb4-6f5050751405",
   "metadata": {},
   "outputs": [],
   "source": [
    "# Libraries\n",
    "import numpy as np\n",
    "import pandas as pd\n",
    "from sklearn.linear_model import LinearRegression\n",
    "import matplotlib.pyplot as plt\n",
    "import warnings\n",
    "warnings.filterwarnings('ignore')\n"
   ]
  },
  {
   "cell_type": "markdown",
   "id": "27d1f552-87c5-4349-81ac-9f746519a6d2",
   "metadata": {},
   "source": [
    "## Import Data"
   ]
  },
  {
   "cell_type": "code",
   "execution_count": 32,
   "id": "b91239ec-57e9-4fa1-803e-d996ca6a0966",
   "metadata": {},
   "outputs": [
    {
     "data": {
      "text/plain": [
       "{'Midterm': [72, 50, 81, 74, 94, 86, 59, 83, 65, 33, 88, 81],\n",
       " 'Final': [84, 63, 77, 78, 90, 75, 49, 79, 77, 52, 74, 90]}"
      ]
     },
     "execution_count": 32,
     "metadata": {},
     "output_type": "execute_result"
    }
   ],
   "source": [
    "# Create dataset using the attached data info.\n",
    "data = {\n",
    "    'Midterm': [72, 50, 81, 74, 94, 86, 59, 83, 65, 33, 88, 81],\n",
    "    'Final': [84, 63, 77, 78, 90, 75, 49, 79, 77, 52, 74, 90]\n",
    "}\n",
    "\n",
    "# Convert to DataFrame\n",
    "df = pd.DataFrame(data)\n",
    "\n",
    "# Display the dataset\n",
    "data\n"
   ]
  },
  {
   "cell_type": "markdown",
   "id": "24c2b946-0c97-42ad-9b9f-8f943638f40a",
   "metadata": {},
   "source": [
    "## Model Creation\n",
    "\n",
    "We chose linear regression to predict the final exam score (Y) from the midterm score (X), as it effectively models the linear relationship between two continuous variables. This method is suitable for understanding how the midterm score (X) influences the final exam score (Y).\n",
    "\n",
    "Y = aX + b\n",
    "\n",
    "Where:\n",
    "- (X) is the midterm score (independent variable),\n",
    "- (Y) is the final exam score (dependent variable),\n",
    "- (a) is the slope (rate of change in final exam score for each point increase in midterm score),\n",
    "- (b) is the intercept (the expected final exam score when the midterm score is 0).\n",
    "\n"
   ]
  },
  {
   "cell_type": "code",
   "execution_count": 33,
   "id": "f6efa5aa-ee58-4f18-97f7-4bfd6f01699a",
   "metadata": {},
   "outputs": [
    {
     "data": {
      "text/html": [
       "<style>#sk-container-id-4 {color: black;background-color: white;}#sk-container-id-4 pre{padding: 0;}#sk-container-id-4 div.sk-toggleable {background-color: white;}#sk-container-id-4 label.sk-toggleable__label {cursor: pointer;display: block;width: 100%;margin-bottom: 0;padding: 0.3em;box-sizing: border-box;text-align: center;}#sk-container-id-4 label.sk-toggleable__label-arrow:before {content: \"▸\";float: left;margin-right: 0.25em;color: #696969;}#sk-container-id-4 label.sk-toggleable__label-arrow:hover:before {color: black;}#sk-container-id-4 div.sk-estimator:hover label.sk-toggleable__label-arrow:before {color: black;}#sk-container-id-4 div.sk-toggleable__content {max-height: 0;max-width: 0;overflow: hidden;text-align: left;background-color: #f0f8ff;}#sk-container-id-4 div.sk-toggleable__content pre {margin: 0.2em;color: black;border-radius: 0.25em;background-color: #f0f8ff;}#sk-container-id-4 input.sk-toggleable__control:checked~div.sk-toggleable__content {max-height: 200px;max-width: 100%;overflow: auto;}#sk-container-id-4 input.sk-toggleable__control:checked~label.sk-toggleable__label-arrow:before {content: \"▾\";}#sk-container-id-4 div.sk-estimator input.sk-toggleable__control:checked~label.sk-toggleable__label {background-color: #d4ebff;}#sk-container-id-4 div.sk-label input.sk-toggleable__control:checked~label.sk-toggleable__label {background-color: #d4ebff;}#sk-container-id-4 input.sk-hidden--visually {border: 0;clip: rect(1px 1px 1px 1px);clip: rect(1px, 1px, 1px, 1px);height: 1px;margin: -1px;overflow: hidden;padding: 0;position: absolute;width: 1px;}#sk-container-id-4 div.sk-estimator {font-family: monospace;background-color: #f0f8ff;border: 1px dotted black;border-radius: 0.25em;box-sizing: border-box;margin-bottom: 0.5em;}#sk-container-id-4 div.sk-estimator:hover {background-color: #d4ebff;}#sk-container-id-4 div.sk-parallel-item::after {content: \"\";width: 100%;border-bottom: 1px solid gray;flex-grow: 1;}#sk-container-id-4 div.sk-label:hover label.sk-toggleable__label {background-color: #d4ebff;}#sk-container-id-4 div.sk-serial::before {content: \"\";position: absolute;border-left: 1px solid gray;box-sizing: border-box;top: 0;bottom: 0;left: 50%;z-index: 0;}#sk-container-id-4 div.sk-serial {display: flex;flex-direction: column;align-items: center;background-color: white;padding-right: 0.2em;padding-left: 0.2em;position: relative;}#sk-container-id-4 div.sk-item {position: relative;z-index: 1;}#sk-container-id-4 div.sk-parallel {display: flex;align-items: stretch;justify-content: center;background-color: white;position: relative;}#sk-container-id-4 div.sk-item::before, #sk-container-id-4 div.sk-parallel-item::before {content: \"\";position: absolute;border-left: 1px solid gray;box-sizing: border-box;top: 0;bottom: 0;left: 50%;z-index: -1;}#sk-container-id-4 div.sk-parallel-item {display: flex;flex-direction: column;z-index: 1;position: relative;background-color: white;}#sk-container-id-4 div.sk-parallel-item:first-child::after {align-self: flex-end;width: 50%;}#sk-container-id-4 div.sk-parallel-item:last-child::after {align-self: flex-start;width: 50%;}#sk-container-id-4 div.sk-parallel-item:only-child::after {width: 0;}#sk-container-id-4 div.sk-dashed-wrapped {border: 1px dashed gray;margin: 0 0.4em 0.5em 0.4em;box-sizing: border-box;padding-bottom: 0.4em;background-color: white;}#sk-container-id-4 div.sk-label label {font-family: monospace;font-weight: bold;display: inline-block;line-height: 1.2em;}#sk-container-id-4 div.sk-label-container {text-align: center;}#sk-container-id-4 div.sk-container {/* jupyter's `normalize.less` sets `[hidden] { display: none; }` but bootstrap.min.css set `[hidden] { display: none !important; }` so we also need the `!important` here to be able to override the default hidden behavior on the sphinx rendered scikit-learn.org. See: https://github.com/scikit-learn/scikit-learn/issues/21755 */display: inline-block !important;position: relative;}#sk-container-id-4 div.sk-text-repr-fallback {display: none;}</style><div id=\"sk-container-id-4\" class=\"sk-top-container\"><div class=\"sk-text-repr-fallback\"><pre>LinearRegression()</pre><b>In a Jupyter environment, please rerun this cell to show the HTML representation or trust the notebook. <br />On GitHub, the HTML representation is unable to render, please try loading this page with nbviewer.org.</b></div><div class=\"sk-container\" hidden><div class=\"sk-item\"><div class=\"sk-estimator sk-toggleable\"><input class=\"sk-toggleable__control sk-hidden--visually\" id=\"sk-estimator-id-4\" type=\"checkbox\" checked><label for=\"sk-estimator-id-4\" class=\"sk-toggleable__label sk-toggleable__label-arrow\">LinearRegression</label><div class=\"sk-toggleable__content\"><pre>LinearRegression()</pre></div></div></div></div></div>"
      ],
      "text/plain": [
       "LinearRegression()"
      ]
     },
     "execution_count": 33,
     "metadata": {},
     "output_type": "execute_result"
    }
   ],
   "source": [
    "# Linear regression model using the least squares.\n",
    "X = df[['Midterm']]  # Reshape to 2D array\n",
    "y = df['Final']\n",
    "\n",
    "# Create the linear regression model\n",
    "model = LinearRegression()\n",
    "\n",
    "# Train the model\n",
    "model.fit(X, y)\n"
   ]
  },
  {
   "cell_type": "code",
   "execution_count": 35,
   "id": "7e0901d4-dc65-401c-b042-be5ad1bcbccf",
   "metadata": {},
   "outputs": [
    {
     "name": "stdout",
     "output_type": "stream",
     "text": [
      "Slope (a): 0.582\n",
      "Intercept (b): 32.028\n"
     ]
    }
   ],
   "source": [
    "# Extract slope and intercept\n",
    "slope = model.coef_[0]\n",
    "intercept = model.intercept_\n",
    "\n",
    "# Display results\n",
    "print(f\"Slope (a): {slope:.3f}\")\n",
    "print(f\"Intercept (b): {intercept:.3f}\")\n"
   ]
  },
  {
   "cell_type": "markdown",
   "id": "e811a7bb-d166-441e-92be-85e4b0226bdd",
   "metadata": {},
   "source": [
    "## Analysis of Results\n",
    "\n",
    "The regression model yielded the following equation:\n",
    "\n",
    "Y = 0.582X + 32.03\n",
    "\n",
    "## Equation Interpretation\n",
    "For every additional point a student scores on their midterm, their final exam score is expected to increase by approximately 0.582 points. The intercept value of 32.03 suggests that if a student scored 0 on the midterm, their predicted final score would be about 32."
   ]
  },
  {
   "cell_type": "markdown",
   "id": "173082f2-9e1e-4254-b883-8132d58e141b",
   "metadata": {},
   "source": [
    "## Plotting the Data and the Linear Relationship\n",
    "\n",
    "Ploting the midterm scores against the final scores to visualize the relationship, adding the best-fit line generated by the linear regression model.\n"
   ]
  },
  {
   "cell_type": "code",
   "execution_count": 37,
   "id": "592627a3-d54d-4055-be6a-b9cab7d1c0c4",
   "metadata": {},
   "outputs": [
    {
     "data": {
      "image/png": "[encoded data removed]",
      "text/plain": [
       "<Figure size 640x480 with 1 Axes>"
      ]
     },
     "metadata": {},
     "output_type": "display_data"
    }
   ],
   "source": [
    "# Plot the data points\n",
    "plt.scatter(X, y, color='blue', label='Data Points')\n",
    "\n",
    "# Plot the best-fit regression line\n",
    "plt.plot(X, model.predict(X), color='red', label='Regression Line')\n",
    "plt.xlabel('Midterm Score (%)')\n",
    "plt.ylabel('Final Score (%)')\n",
    "plt.title('Midterm vs. Final Exam Scores')\n",
    "plt.legend()\n",
    "plt.grid(True)\n",
    "plt.show()\n"
   ]
  },
  {
   "cell_type": "markdown",
   "id": "b08b7bfd-7d05-405e-8ffa-6b7bd7c25f70",
   "metadata": {},
   "source": [
    "## Finding an Equation Using the Method of Least Squares  \n",
    "The equation derived from the regression analysis using the method of least squares is:\n",
    "\n",
    "Y = 0.582X + 32.03\n",
    "\n",
    "Where (X) is the midterm score and (Y) is the predicted final score.\n"
   ]
  },
  {
   "cell_type": "markdown",
   "id": "eaa7e76c-96f4-405b-8d31-cf3a3e0d78af",
   "metadata": {},
   "source": [
    "## Predicting the Final Exam Grade for a Student (Scored 86 on the Midterm)"
   ]
  },
  {
   "cell_type": "code",
   "execution_count": 38,
   "id": "a4403abe-cb88-4946-9c54-0c4064c38ffc",
   "metadata": {},
   "outputs": [
    {
     "name": "stdout",
     "output_type": "stream",
     "text": [
      "Predicted Final Exam Score for a student with 86% on the midterm: 82.05%\n"
     ]
    }
   ],
   "source": [
    "# Predict the final exam score for a midterm score of 86\n",
    "midterm_score = 86\n",
    "predicted_final = model.predict([[midterm_score]])\n",
    "\n",
    "# Display the predicted final exam score\n",
    "print(f\"Predicted Final Exam Score for a student with {midterm_score}% on the midterm: {predicted_final[0]:.2f}%\")\n"
   ]
  },
  {
   "cell_type": "markdown",
   "id": "b377530f-8188-4c64-b7a2-5c361511b4ad",
   "metadata": {},
   "source": [
    "## Conclusion\n",
    "\n",
    "In this solution, we applied the CRISP-DM methodology to explore and predict students' final exam scores based on their midterm scores. The linear regression model indicated a positive relationship between the two scores, with an equation of (Y = 0.582X + 32.03 ). This model can assist educators in identifying students who may need additional support to improve their final exam outcomes.\n"
   ]
  },
  {
   "cell_type": "markdown",
   "id": "4345fa60-c603-4b95-b9e9-36f784fdf349",
   "metadata": {},
   "source": [
    "## References\n"
   ]
  },
  {
   "cell_type": "code",
   "execution_count": null,
   "id": "61052182-0267-425c-b525-58c18d56c3ce",
   "metadata": {},
   "outputs": [],
   "source": []
  }
 ],
 "metadata": {
  "kernelspec": {
   "display_name": "Python 3 (ipykernel)",
   "language": "python",
   "name": "python3"
  },
  "language_info": {
   "codemirror_mode": {
    "name": "ipython",
    "version": 3
   },
   "file_extension": ".py",
   "mimetype": "text/x-python",
   "name": "python",
   "nbconvert_exporter": "python",
   "pygments_lexer": "ipython3",
   "version": "3.10.9"
  }
 },
 "nbformat": 4,
 "nbformat_minor": 5
}
