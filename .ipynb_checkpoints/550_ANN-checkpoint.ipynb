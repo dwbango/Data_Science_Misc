{
 "cells": [
  {
   "cell_type": "markdown",
   "id": "62682783-700e-4a3f-bc90-d999052bd896",
   "metadata": {},
   "source": [
    "### Donald Bango\n",
    "### ANN Model\n",
    "### 22 May 2024\n",
    "### Dr. Ali Wahid"
   ]
  },
  {
   "cell_type": "markdown",
   "id": "27eeb545-9cf4-42a4-af8c-6087ed370e61",
   "metadata": {},
   "source": [
    "**Title:**\n",
    "\n",
    "NFL Play Statistics dataset (primary)\n",
    "\n",
    "**Link to Dataset:** \n",
    "\n",
    "https://www.kaggle.com/datasets/toddsteussie/nfl-play-statistics-dataset-2004-to-present\n",
    "\n",
    "**Dataset Description:**\n",
    "\n",
    "The NFL dataset provides a comprehensive view of various aspects of NFL games, including statistics, player participation, annual NFL combine data, and NFL draft information. This dataset spans NFL play data from 2004 to the 2019 season, with detailed records for each play, player, coach, and game official. It includes data tables for the NFL Draft from 1989 to present, NFL Combine from 1999 to present, NFL rosters from 1998 to present, NFL schedules, stadium information, and many more box score, player statistics, and game statistics. The details of NFL statistics varies by season, with detailed data collection starting from 2012\n",
    "\n",
    "**License:** \n",
    "\n",
    "CC0: Public Domain\n",
    "\n",
    "**Problem Statement:**\n",
    "\n",
    "The NFL is one of the most popular sports leagues in the world, and fans, analysts, and coaches alike seek to understand the performance and characteristics of players to build optimal teams. This project aims to address the problem of selecting the most optimal NFL team by leveraging advanced data analytics and machine learning techniques.\n",
    "\n",
    "The objective is to build a deep artificial neural network (ANN), specifically a multilayer perceptron (MLP), to predict the optimal team composition from a pool of active and retired players based on their performance statistics. By defining the criteria for an optimal team and utilizing a variety of player characteristics, we seek to identify the top 33 players who would constitute the best offense, special teams, and defense.\n",
    "\n",
    "Through this research, we aim to demonstrate the effectiveness of MLPs in learning complex relationships from data and predicting outcomes that can be applied to real-world scenarios, such as team selection in professional sports.\n",
    "\n",
    "**Why Use ANNs for NFL Player Classification?:**\n",
    "\n",
    "Artificial Neural Networks (ANNs) are well-suited for the task of NFL player classification due to their ability to capture complex, non-linear relationships within large and diverse datasets. ANNs excel at pattern recognition, enabling them to effectively analyze various player statistics and performance metrics to predict optimal team compositions. The multilayer perceptron (MLP) architecture, with its multiple hidden layers and activation functions, allows the model to learn intricate features and interactions that simpler models might miss. Additionally, ANNs can handle high-dimensional data and can be fine-tuned through backpropagation and optimization techniques, leading to improved predictive accuracy and generalization capabilities. This makes ANNs a powerful tool for selecting the best NFL players based on their comprehensive performance data.\n",
    "\n",
    "**Key Questions for NFL Player Classification Using ANN:**\n",
    "\n",
    "- Can the ANN model accurately identify and differentiate between optimal and non-optimal NFL players from the dataset?\n",
    "\n",
    "- How does the model perform when predicting the optimal team from a new pool of players compared to the training data?\n",
    "\n",
    "- How does the model’s output assist in interpreting and selecting the optimal football team from the given dataset?\n",
    "\n",
    "\n"
   ]
  },
  {
   "cell_type": "markdown",
   "id": "60f6bde9-6590-477c-ba7a-c7f20e404479",
   "metadata": {},
   "source": [
    "**Algorithm of the Solution:**\n",
    "\n",
    "1. **Load Libraries:**\n",
    "   - Import the necessary Python libraries such as pandas, numpy, scikit-learn, TensorFlow, Keras, and matplotlib.\n",
    "\n",
    "2. **Import Dataset:**\n",
    "   - Download the \"NFL Players Dataset\" from Kaggle.\n",
    "   - Load the dataset into pandas DataFrames.\n",
    "\n",
    "3. **Exploratory Data Analysis (EDA) and Preprocessing:**\n",
    "   - Print out the columns to understand the structure.\n",
    "   - Handle missing values and assess outliers.\n",
    "   - Fill NA values.\n",
    "   - Explore data distributions for relevant stats. \n",
    "   - Standardize the features.\n",
    "\n",
    "4. **Select a Pool of Players:**\n",
    "   - Select a random pool of 200 active and 200 retired players based on the age criteria (e.g., below 35 years for active players).\n",
    "\n",
    "5. **Define Optimal Team:**\n",
    "   - Define the optimal team criteria for offense, special teams, and defense.\n",
    "   - Aggregate relevant statistics for players to calculate their performance scores.\n",
    "   - Select the top 11 players for each team based on the calculated scores.\n",
    "\n",
    "6. **Identify Optimal Team Players:**\n",
    "   - Identify and list the players selected for the optimal team from the pool.\n",
    "\n",
    "7. **Build the MLP Model:**\n",
    "   - Define the input features and target variable.\n",
    "   - Split the data into training (80%) and testing (20%) sets.\n",
    "   - Build and compile the deep artificial neural network (MLP).\n",
    "   - Train the model.\n",
    "\n",
    "8. **Activate the MLP:**\n",
    "   - Forward propagate the patterns of the training data through the network to generate an output.\n",
    "   - Based on the network's output, calculate the error that we want to minimize using a cost function.\n",
    "   - Backpropagate the error, find its derivative with respect to each weight in the network, and update the model.\n",
    "   - Repeat steps 1 through 3 for multiple epochs to learn the weights of the MLP.\n",
    "   - Use forward propagation to calculate the network output\n",
    "   - Apply a threshold function to obtain the predicted class labels in the one-hot representation (one-hot represenation is most likely not necessary).\n",
    "   - Interpret the output in the context of selecting an optimal football team.\n",
    "\n",
    "9. **Evaluate Model Performance:**\n",
    "   - Evaluate the model using metrics such as accuracy and loss.\n",
    "   - Plot training and validation accuracy and loss graphs.\n",
    "\n",
    "10. **Predict Optimal Team from New Pool:**\n",
    "    - Select a new pool of 400 players (200 active, 200 retired).\n",
    "    - Use the trained model to predict which players from this new pool would make up the optimal team.\n",
    "    - Interpret the model’s predictions.\n",
    "\n",
    "11. **Technical Report:**\n",
    "    - Document the process in a Python notebook.\n",
    "    - Include analysis of the findings, and references.\n"
   ]
  },
  {
   "cell_type": "code",
   "execution_count": 231,
   "id": "959e84c5-adf6-4a17-a2b8-4f0f6ef9d12e",
   "metadata": {},
   "outputs": [],
   "source": [
    "# Import libraries\n",
    "import pandas as pd\n",
    "import numpy as np\n",
    "import seaborn as sns\n",
    "from sklearn.model_selection import train_test_split\n",
    "from sklearn.preprocessing import StandardScaler\n",
    "from tensorflow.keras.models import Sequential\n",
    "from tensorflow.keras.layers import Dense, Dropout, Input\n",
    "import matplotlib.pyplot as plt\n",
    "import warnings\n",
    "warnings.filterwarnings('ignore')"
   ]
  },
  {
   "cell_type": "code",
   "execution_count": 232,
   "id": "18ac007f-7b0e-43d8-8efd-cc1d49fc6d62",
   "metadata": {},
   "outputs": [],
   "source": [
    "# Directory path\n",
    "directory = '/Users/don/Downloads/archive_2'\n",
    "\n",
    "# Load CSV files\n",
    "tackles_df = pd.read_csv(f'{directory}/tackles.csv')\n",
    "sacks_df = pd.read_csv(f'{directory}/sacks.csv')\n",
    "rusher_df = pd.read_csv(f'{directory}/rusher.csv')\n",
    "receiver_df = pd.read_csv(f'{directory}/receiver.csv')\n",
    "qhHits_df = pd.read_csv(f'{directory}/qhHits.csv')\n",
    "plays_df = pd.read_csv(f'{directory}/plays.csv')\n",
    "players_df = pd.read_csv(f'{directory}/players.csv')\n",
    "penalties_df = pd.read_csv(f'{directory}/penalties.csv')\n",
    "passer_df = pd.read_csv(f'{directory}/passer.csv')\n",
    "passDef_df = pd.read_csv(f'{directory}/passDef.csv')\n",
    "officials_df = pd.read_csv(f'{directory}/officials.csv')\n",
    "kicks_df = pd.read_csv(f'{directory}/kicks.csv')\n",
    "kickReturns_df = pd.read_csv(f'{directory}/kickReturns.csv')\n",
    "interceptions_df = pd.read_csv(f'{directory}/interceptions.csv')\n",
    "games_df = pd.read_csv(f'{directory}/games.csv')\n",
    "gameParticipation_df = pd.read_csv(f'{directory}/gameParticipation.csv')\n",
    "fumbles_df = pd.read_csv(f'{directory}/fumbles.csv')\n",
    "fumblForced_df = pd.read_csv(f'{directory}/fumblForced.csv')\n",
    "draft_df = pd.read_csv(f'{directory}/draft.csv')\n",
    "combine_df = pd.read_csv(f'{directory}/combine.csv')"
   ]
  },
  {
   "cell_type": "code",
   "execution_count": 199,
   "id": "f8d813e1-4cc9-4adc-8786-f9c5d789cc9f",
   "metadata": {},
   "outputs": [
    {
     "data": {
      "image/jpeg": "[encoded data removed]",
      "text/plain": [
       "<IPython.core.display.Image object>"
      ]
     },
     "metadata": {},
     "output_type": "display_data"
    }
   ],
   "source": [
    "from IPython.display import Image, display\n",
    "# An Artificial Neural Network Model Image\n",
    "\n",
    "# Path to the image\n",
    "image_path = '/Users/don/downloads/Picture1.jpg'\n",
    "\n",
    "# Display the image\n",
    "display(Image(filename=image_path))"
   ]
  },
  {
   "cell_type": "code",
   "execution_count": 233,
   "id": "1bd50afb-96fc-4095-a44c-bc13992f17a0",
   "metadata": {},
   "outputs": [],
   "source": [
    "# List of DataFrames and their names\n",
    "dfs = {\n",
    "    'tackles_df': tackles_df,\n",
    "    'sacks_df': sacks_df,\n",
    "    'rusher_df': rusher_df,\n",
    "    'receiver_df': receiver_df,\n",
    "    'qhHits_df': qhHits_df,\n",
    "    'plays_df': plays_df,\n",
    "    'players_df': players_df,\n",
    "    'penalties_df': penalties_df,\n",
    "    'passer_df': passer_df,\n",
    "    'passDef_df': passDef_df,\n",
    "    'officials_df': officials_df,\n",
    "    'kicks_df': kicks_df,\n",
    "    'kickReturns_df': kickReturns_df,\n",
    "    'interceptions_df': interceptions_df,\n",
    "    'games_df': games_df,\n",
    "    'gameParticipation_df': gameParticipation_df,\n",
    "    'fumbles_df': fumbles_df,\n",
    "    'fumblForced_df': fumblForced_df,\n",
    "    'draft_df': draft_df,\n",
    "    'combine_df': combine_df\n",
    "}\n",
    "\n",
    "# Loop through each DataFrame to check shape and NaN values\n",
    "#for df_name, df in dfs.items():\n",
    "#    print(f\"DataFrame: {df_name}\")\n",
    "#    print(f\"Shape: {df.shape}\")\n",
    "#    print(f\"NaN values per column:\\n{df.isna().sum()}\")\n",
    "#    print(\"\\n\")\n",
    "\n",
    "# Check for missing data after adding features\n",
    "def check_missing_data(players_df):\n",
    "    missing_data = players_df.isnull().sum().reset_index()\n",
    "    missing_data.columns = ['Feature', 'MissingValues']\n",
    "    return missing_data\n",
    "\n",
    "#for df in dfs:\n",
    "#    mdf = dfs[df]\n",
    "#    rdf = check_missing_data(mdf)\n",
    "#    print(\"-----------------------\",df,\"-----------------------\")\n",
    "#    print(mdf.shape)\n",
    "#    print(rdf)\n",
    "\n"
   ]
  },
  {
   "cell_type": "code",
   "execution_count": 234,
   "id": "8670e395-aac5-4bc3-a8fa-b68ede1c4ac9",
   "metadata": {},
   "outputs": [
    {
     "name": "stdout",
     "output_type": "stream",
     "text": [
      "Columns in players_df: Index(['playerId', 'nameFirst', 'nameLast', 'nameFull', 'position',\n",
      "       'collegeId', 'nflId', 'combineId', 'college', 'heightInches', 'weight',\n",
      "       'dob', 'ageAtDraft', 'playerProfileUrl', 'homeCity', 'homeState',\n",
      "       'homeCountry', 'highSchool', 'hsCity', 'hsState', 'hsCountry'],\n",
      "      dtype='object')\n"
     ]
    },
    {
     "data": {
      "text/html": [
       "<div>\n",
       "<style scoped>\n",
       "    .dataframe tbody tr th:only-of-type {\n",
       "        vertical-align: middle;\n",
       "    }\n",
       "\n",
       "    .dataframe tbody tr th {\n",
       "        vertical-align: top;\n",
       "    }\n",
       "\n",
       "    .dataframe thead th {\n",
       "        text-align: right;\n",
       "    }\n",
       "</style>\n",
       "<table border=\"1\" class=\"dataframe\">\n",
       "  <thead>\n",
       "    <tr style=\"text-align: right;\">\n",
       "      <th></th>\n",
       "      <th>playerId</th>\n",
       "      <th>nameFirst</th>\n",
       "      <th>nameLast</th>\n",
       "      <th>nameFull</th>\n",
       "      <th>position</th>\n",
       "      <th>collegeId</th>\n",
       "      <th>nflId</th>\n",
       "      <th>combineId</th>\n",
       "      <th>college</th>\n",
       "      <th>heightInches</th>\n",
       "      <th>...</th>\n",
       "      <th>dob</th>\n",
       "      <th>ageAtDraft</th>\n",
       "      <th>playerProfileUrl</th>\n",
       "      <th>homeCity</th>\n",
       "      <th>homeState</th>\n",
       "      <th>homeCountry</th>\n",
       "      <th>highSchool</th>\n",
       "      <th>hsCity</th>\n",
       "      <th>hsState</th>\n",
       "      <th>hsCountry</th>\n",
       "    </tr>\n",
       "  </thead>\n",
       "  <tbody>\n",
       "    <tr>\n",
       "      <th>0</th>\n",
       "      <td>19770001</td>\n",
       "      <td>Ricky</td>\n",
       "      <td>Bell</td>\n",
       "      <td>Ricky Bell</td>\n",
       "      <td>RB</td>\n",
       "      <td>90089</td>\n",
       "      <td>2509366</td>\n",
       "      <td>NaN</td>\n",
       "      <td>USC</td>\n",
       "      <td>74.0</td>\n",
       "      <td>...</td>\n",
       "      <td>1955-04-08</td>\n",
       "      <td>22.084932</td>\n",
       "      <td>http://www.nfl.com/player/RickyBell/2509366/pr...</td>\n",
       "      <td>Houston</td>\n",
       "      <td>TX</td>\n",
       "      <td>USA</td>\n",
       "      <td>NaN</td>\n",
       "      <td>NaN</td>\n",
       "      <td>NaN</td>\n",
       "      <td>NaN</td>\n",
       "    </tr>\n",
       "    <tr>\n",
       "      <th>1</th>\n",
       "      <td>19770002</td>\n",
       "      <td>Tony</td>\n",
       "      <td>Dorsett</td>\n",
       "      <td>Tony Dorsett</td>\n",
       "      <td>RB</td>\n",
       "      <td>15260</td>\n",
       "      <td>2513084</td>\n",
       "      <td>NaN</td>\n",
       "      <td>Pittsburgh</td>\n",
       "      <td>71.0</td>\n",
       "      <td>...</td>\n",
       "      <td>1954-04-07</td>\n",
       "      <td>23.087671</td>\n",
       "      <td>http://www.nfl.com/player/TonyDorsett/2513084/...</td>\n",
       "      <td>Rochester</td>\n",
       "      <td>PA</td>\n",
       "      <td>USA</td>\n",
       "      <td>NaN</td>\n",
       "      <td>NaN</td>\n",
       "      <td>NaN</td>\n",
       "      <td>NaN</td>\n",
       "    </tr>\n",
       "    <tr>\n",
       "      <th>2</th>\n",
       "      <td>19770003</td>\n",
       "      <td>Eddie</td>\n",
       "      <td>Edwards</td>\n",
       "      <td>Eddie Edwards</td>\n",
       "      <td>DE</td>\n",
       "      <td>33124</td>\n",
       "      <td>2513479</td>\n",
       "      <td>NaN</td>\n",
       "      <td>Miami (FL)</td>\n",
       "      <td>77.0</td>\n",
       "      <td>...</td>\n",
       "      <td>1954-04-25</td>\n",
       "      <td>23.038356</td>\n",
       "      <td>http://www.nfl.com/player/EddieEdwards/2513479...</td>\n",
       "      <td>Sumter</td>\n",
       "      <td>SC</td>\n",
       "      <td>USA</td>\n",
       "      <td>NaN</td>\n",
       "      <td>NaN</td>\n",
       "      <td>NaN</td>\n",
       "      <td>NaN</td>\n",
       "    </tr>\n",
       "  </tbody>\n",
       "</table>\n",
       "<p>3 rows × 21 columns</p>\n",
       "</div>"
      ],
      "text/plain": [
       "   playerId nameFirst nameLast       nameFull position  collegeId    nflId  \\\n",
       "0  19770001     Ricky     Bell     Ricky Bell       RB      90089  2509366   \n",
       "1  19770002      Tony  Dorsett   Tony Dorsett       RB      15260  2513084   \n",
       "2  19770003     Eddie  Edwards  Eddie Edwards       DE      33124  2513479   \n",
       "\n",
       "   combineId     college  heightInches  ...         dob ageAtDraft  \\\n",
       "0        NaN         USC          74.0  ...  1955-04-08  22.084932   \n",
       "1        NaN  Pittsburgh          71.0  ...  1954-04-07  23.087671   \n",
       "2        NaN  Miami (FL)          77.0  ...  1954-04-25  23.038356   \n",
       "\n",
       "                                    playerProfileUrl   homeCity homeState  \\\n",
       "0  http://www.nfl.com/player/RickyBell/2509366/pr...    Houston        TX   \n",
       "1  http://www.nfl.com/player/TonyDorsett/2513084/...  Rochester        PA   \n",
       "2  http://www.nfl.com/player/EddieEdwards/2513479...     Sumter        SC   \n",
       "\n",
       "  homeCountry highSchool hsCity hsState hsCountry  \n",
       "0         USA        NaN    NaN     NaN       NaN  \n",
       "1         USA        NaN    NaN     NaN       NaN  \n",
       "2         USA        NaN    NaN     NaN       NaN  \n",
       "\n",
       "[3 rows x 21 columns]"
      ]
     },
     "execution_count": 234,
     "metadata": {},
     "output_type": "execute_result"
    }
   ],
   "source": [
    "# Display players dataFrame columns\n",
    "print(\"Columns in players_df:\", players_df.columns)\n",
    "players_df.head(3)"
   ]
  },
  {
   "cell_type": "markdown",
   "id": "6315d0fa-4bbe-4f26-bc78-1806553d49fe",
   "metadata": {},
   "source": [
    "An Artificial Neural Network Model. Reprinted from Python Machine Learning: Machine Learning and Deep Learning with Python, scikit-learn, and TensorFlow 2 (3rd ed.), by Raschka, S. and Mirjalili, V., 2019, p. 388, Packt Publishing"
   ]
  },
  {
   "cell_type": "code",
   "execution_count": 227,
   "id": "6f522586-4fbc-4bae-ab04-d5b7ad9643ca",
   "metadata": {},
   "outputs": [],
   "source": [
    "# Print the columns of DataFrames\n",
    "#for df in dfs:\n",
    "#    print(dfs[df].columns)\n",
    "\n"
   ]
  },
  {
   "cell_type": "markdown",
   "id": "a57f500a-54ea-407d-bf73-33095649f544",
   "metadata": {},
   "source": [
    "Many of the columns in the files contain `playerId`, which allows for merging of data across different tables."
   ]
  },
  {
   "cell_type": "code",
   "execution_count": 202,
   "id": "06704d05-d352-4368-9fd2-af5cec4b5097",
   "metadata": {},
   "outputs": [
    {
     "name": "stdout",
     "output_type": "stream",
     "text": [
      "Minimum season: 2004\n",
      "Maximum season: 2019\n"
     ]
    }
   ],
   "source": [
    "# Range of the season column\n",
    "print(f\"Minimum season: {games_df['season'].min()}\")\n",
    "print(f\"Maximum season: {games_df['season'].max()}\")"
   ]
  },
  {
   "cell_type": "markdown",
   "id": "752d05f2-3824-4e71-87d3-0e750718598a",
   "metadata": {},
   "source": [
    "### Selecting Pool of Players"
   ]
  },
  {
   "cell_type": "code",
   "execution_count": 158,
   "id": "8a0be64c-23a4-4397-a3c5-17dc4279a270",
   "metadata": {},
   "outputs": [],
   "source": [
    "# Add an age column to players_df based on a fixed reference date (e.g., the 2020-01-01)\n",
    "players_df['dob'] = pd.to_datetime(players_df['dob'])\n",
    "reference_date = pd.to_datetime('2020-01-01')\n",
    "players_df['age'] = (reference_date - players_df['dob']).astype('<m8[Y]')\n",
    "\n",
    "# Define active and retired players\n",
    "active_players = players_df[players_df['age'] < 35]\n",
    "retired_players = players_df[players_df['age'] >= 35]\n",
    "\n",
    "# Randomly sample 200 players from each group\n",
    "active_sample = active_players.sample(n=200, random_state=42)\n",
    "retired_sample = retired_players.sample(n=200, random_state=42)\n",
    "\n",
    "# Combine active and retired samples into one pool\n",
    "selected_players = pd.concat([active_sample, retired_sample])\n"
   ]
  },
  {
   "cell_type": "code",
   "execution_count": 210,
   "id": "7be68628-eaf0-4c7f-9860-252113abc65c",
   "metadata": {},
   "outputs": [
    {
     "data": {
      "image/png": "[encoded data removed]",
      "text/plain": [
       "<Figure size 1000x600 with 1 Axes>"
      ]
     },
     "metadata": {},
     "output_type": "display_data"
    }
   ],
   "source": [
    "# Plot the age distribution\n",
    "plt.figure(figsize=(10, 6))\n",
    "sns.histplot(selected_players['age'], bins=15, kde=True, color='green')\n",
    "plt.title('Age Distribution of Selected NFL Players')\n",
    "plt.xlabel('Age')\n",
    "plt.ylabel('Frequency')\n",
    "plt.show()"
   ]
  },
  {
   "cell_type": "markdown",
   "id": "fecda59b-7401-4376-a544-ae4113d5a455",
   "metadata": {},
   "source": [
    "The age of the players in our random pool are skewed right with a peak from 23 to 40 as expected due to the age requirement to join the NFL and the wide range of ages for retired players"
   ]
  },
  {
   "cell_type": "code",
   "execution_count": 159,
   "id": "4f94df6d-576a-4dfb-a6b5-f34016847989",
   "metadata": {},
   "outputs": [],
   "source": [
    "# Aggregate functions to summarize player statistics\n",
    "def aggregate_passer_stats(df):\n",
    "    return df.groupby('playerId').agg({'passLength': 'sum', 'passTd': 'sum'}).reset_index()\n",
    "\n",
    "def aggregate_rusher_stats(df):\n",
    "    return df.groupby('playerId').agg({'rushYards': 'sum', 'rushTd': 'sum'}).reset_index()\n",
    "\n",
    "def aggregate_receiver_stats(df):\n",
    "    return df.groupby('playerId').agg({'recYards': 'sum', 'rec': 'sum'}).reset_index()\n",
    "\n",
    "def aggregate_tackles_stats(df):\n",
    "    return df.groupby('playerId').agg({'tackleYdsScrim': 'sum', 'tackleType': 'count'}).reset_index()\n",
    "\n",
    "def aggregate_sacks_stats(df):\n",
    "    return df.groupby('playerId').agg({'sackYards': 'sum', 'sackType': 'count'}).reset_index()\n",
    "\n",
    "def aggregate_interceptions_stats(df):\n",
    "    return df.groupby('playerId').agg({'int': 'sum'}).reset_index().rename(columns={'int': 'interceptions'})\n",
    "\n",
    "def aggregate_kicks_stats(df):\n",
    "    return df.groupby('playerId').agg({'kickReturnYds': 'sum', 'kickNetYds': 'sum'}).reset_index()\n",
    "\n",
    "def aggregate_kick_returns_stats(df):\n",
    "    return df.groupby('playerId').agg({'kickRetYds': 'sum', 'kickRetTd': 'sum'}).reset_index()"
   ]
  },
  {
   "cell_type": "code",
   "execution_count": 160,
   "id": "ae2636e9-62ff-4b2a-a835-53ce9b53dc07",
   "metadata": {},
   "outputs": [],
   "source": [
    "# Aggregate statistics for active and retired players \n",
    "# Apply the aggregation functions defined earlier to their respective DataFrames\n",
    "aggregated_passer_stats = aggregate_passer_stats(passer_df)\n",
    "aggregated_rusher_stats = aggregate_rusher_stats(rusher_df)\n",
    "aggregated_receiver_stats = aggregate_receiver_stats(receiver_df)\n",
    "aggregated_tackles_stats = aggregate_tackles_stats(tackles_df)\n",
    "aggregated_sacks_stats = aggregate_sacks_stats(sacks_df)\n",
    "aggregated_interceptions_stats = aggregate_interceptions_stats(interceptions_df)\n",
    "aggregated_kicks_stats = aggregate_kicks_stats(kicks_df)\n",
    "aggregated_kick_returns_stats = aggregate_kick_returns_stats(kickReturns_df)\n",
    "\n"
   ]
  },
  {
   "cell_type": "code",
   "execution_count": 161,
   "id": "e7f7e708-d5fa-4af1-9e31-517b804ee8e6",
   "metadata": {},
   "outputs": [],
   "source": [
    "# Merge the selected players with aggregated statistics\n",
    "selected_players = pd.merge(selected_players, aggregated_passer_stats, on='playerId', how='left')\n",
    "selected_players = pd.merge(selected_players, aggregated_rusher_stats, on='playerId', how='left')\n",
    "selected_players = pd.merge(selected_players, aggregated_receiver_stats, on='playerId', how='left')\n",
    "selected_players = pd.merge(selected_players, aggregated_tackles_stats, on='playerId', how='left')\n",
    "selected_players = pd.merge(selected_players, aggregated_sacks_stats, on='playerId', how='left')\n",
    "selected_players = pd.merge(selected_players, aggregated_interceptions_stats, on='playerId', how='left')\n",
    "selected_players = pd.merge(selected_players, aggregated_kicks_stats, on='playerId', how='left')\n",
    "selected_players = pd.merge(selected_players, aggregated_kick_returns_stats, on='playerId', how='left')\n",
    "\n",
    "# Fill NaN values with 0\n",
    "selected_players.fillna(0, inplace=True)\n"
   ]
  },
  {
   "cell_type": "markdown",
   "id": "a10ea6eb-3292-4fed-ba6d-de11d211edc7",
   "metadata": {},
   "source": [
    "***Handling Missing Values***\n",
    "\n",
    "We decided to fill these NaN values with 0 because in football player statistics, positions such as kickers, punters, and some defensive roles naturally have instances where certain statistical categories do not apply or are not recorded, hence representing these instances with 0 accurately reflects the absence of data without altering the statistical integrity of the dataset."
   ]
  },
  {
   "cell_type": "code",
   "execution_count": 162,
   "id": "97715aad-5fb2-4217-911e-0a46ede4c19e",
   "metadata": {},
   "outputs": [
    {
     "data": {
      "text/html": [
       "<div>\n",
       "<style scoped>\n",
       "    .dataframe tbody tr th:only-of-type {\n",
       "        vertical-align: middle;\n",
       "    }\n",
       "\n",
       "    .dataframe tbody tr th {\n",
       "        vertical-align: top;\n",
       "    }\n",
       "\n",
       "    .dataframe thead th {\n",
       "        text-align: right;\n",
       "    }\n",
       "</style>\n",
       "<table border=\"1\" class=\"dataframe\">\n",
       "  <thead>\n",
       "    <tr style=\"text-align: right;\">\n",
       "      <th></th>\n",
       "      <th>playerId</th>\n",
       "      <th>nameFirst</th>\n",
       "      <th>nameLast</th>\n",
       "      <th>nameFull</th>\n",
       "      <th>position</th>\n",
       "      <th>collegeId</th>\n",
       "      <th>nflId</th>\n",
       "      <th>combineId</th>\n",
       "      <th>college</th>\n",
       "      <th>heightInches</th>\n",
       "      <th>...</th>\n",
       "      <th>rec</th>\n",
       "      <th>tackleYdsScrim</th>\n",
       "      <th>tackleType</th>\n",
       "      <th>sackYards</th>\n",
       "      <th>sackType</th>\n",
       "      <th>interceptions</th>\n",
       "      <th>kickReturnYds</th>\n",
       "      <th>kickNetYds</th>\n",
       "      <th>kickRetYds</th>\n",
       "      <th>kickRetTd</th>\n",
       "    </tr>\n",
       "  </thead>\n",
       "  <tbody>\n",
       "    <tr>\n",
       "      <th>0</th>\n",
       "      <td>20080618</td>\n",
       "      <td>Dan</td>\n",
       "      <td>Howell</td>\n",
       "      <td>Dan Howell</td>\n",
       "      <td>LB</td>\n",
       "      <td>98195</td>\n",
       "      <td>2507443</td>\n",
       "      <td>0.0</td>\n",
       "      <td>Washington</td>\n",
       "      <td>72.0</td>\n",
       "      <td>...</td>\n",
       "      <td>0.0</td>\n",
       "      <td>0.0</td>\n",
       "      <td>0.0</td>\n",
       "      <td>0.0</td>\n",
       "      <td>0.0</td>\n",
       "      <td>0.0</td>\n",
       "      <td>0.0</td>\n",
       "      <td>0.0</td>\n",
       "      <td>0.0</td>\n",
       "      <td>0.0</td>\n",
       "    </tr>\n",
       "    <tr>\n",
       "      <th>1</th>\n",
       "      <td>20080615</td>\n",
       "      <td>Maurice</td>\n",
       "      <td>Leggett</td>\n",
       "      <td>Maurice Leggett</td>\n",
       "      <td>DB</td>\n",
       "      <td>31698</td>\n",
       "      <td>2507440</td>\n",
       "      <td>0.0</td>\n",
       "      <td>Valdosta State (GA)</td>\n",
       "      <td>71.0</td>\n",
       "      <td>...</td>\n",
       "      <td>0.0</td>\n",
       "      <td>135.0</td>\n",
       "      <td>24.0</td>\n",
       "      <td>0.0</td>\n",
       "      <td>0.0</td>\n",
       "      <td>0.0</td>\n",
       "      <td>0.0</td>\n",
       "      <td>0.0</td>\n",
       "      <td>0.0</td>\n",
       "      <td>0.0</td>\n",
       "    </tr>\n",
       "    <tr>\n",
       "      <th>2</th>\n",
       "      <td>20120812</td>\n",
       "      <td>Emmanuel</td>\n",
       "      <td>Lamur</td>\n",
       "      <td>Emmanuel Lamur</td>\n",
       "      <td>LB</td>\n",
       "      <td>66506</td>\n",
       "      <td>2536032</td>\n",
       "      <td>0.0</td>\n",
       "      <td>Kansas State</td>\n",
       "      <td>76.0</td>\n",
       "      <td>...</td>\n",
       "      <td>0.0</td>\n",
       "      <td>2619.0</td>\n",
       "      <td>426.0</td>\n",
       "      <td>-3.0</td>\n",
       "      <td>3.0</td>\n",
       "      <td>6.0</td>\n",
       "      <td>0.0</td>\n",
       "      <td>0.0</td>\n",
       "      <td>0.0</td>\n",
       "      <td>0.0</td>\n",
       "    </tr>\n",
       "    <tr>\n",
       "      <th>3</th>\n",
       "      <td>20140677</td>\n",
       "      <td>Charles</td>\n",
       "      <td>Barnett</td>\n",
       "      <td>C.J. Barnett</td>\n",
       "      <td>S</td>\n",
       "      <td>43210</td>\n",
       "      <td>2550316</td>\n",
       "      <td>0.0</td>\n",
       "      <td>Ohio State</td>\n",
       "      <td>73.0</td>\n",
       "      <td>...</td>\n",
       "      <td>0.0</td>\n",
       "      <td>81.0</td>\n",
       "      <td>6.0</td>\n",
       "      <td>0.0</td>\n",
       "      <td>0.0</td>\n",
       "      <td>0.0</td>\n",
       "      <td>0.0</td>\n",
       "      <td>0.0</td>\n",
       "      <td>0.0</td>\n",
       "      <td>0.0</td>\n",
       "    </tr>\n",
       "    <tr>\n",
       "      <th>4</th>\n",
       "      <td>20080205</td>\n",
       "      <td>Pierre</td>\n",
       "      <td>Garcon</td>\n",
       "      <td>Pierre Garcon</td>\n",
       "      <td>WR</td>\n",
       "      <td>44601</td>\n",
       "      <td>2346</td>\n",
       "      <td>16587.0</td>\n",
       "      <td>Mount Union (OH)</td>\n",
       "      <td>72.0</td>\n",
       "      <td>...</td>\n",
       "      <td>589.0</td>\n",
       "      <td>0.0</td>\n",
       "      <td>18.0</td>\n",
       "      <td>0.0</td>\n",
       "      <td>0.0</td>\n",
       "      <td>0.0</td>\n",
       "      <td>0.0</td>\n",
       "      <td>0.0</td>\n",
       "      <td>0.0</td>\n",
       "      <td>0.0</td>\n",
       "    </tr>\n",
       "  </tbody>\n",
       "</table>\n",
       "<p>5 rows × 37 columns</p>\n",
       "</div>"
      ],
      "text/plain": [
       "   playerId nameFirst nameLast         nameFull position  collegeId    nflId  \\\n",
       "0  20080618       Dan   Howell       Dan Howell       LB      98195  2507443   \n",
       "1  20080615   Maurice  Leggett  Maurice Leggett       DB      31698  2507440   \n",
       "2  20120812  Emmanuel    Lamur   Emmanuel Lamur       LB      66506  2536032   \n",
       "3  20140677   Charles  Barnett     C.J. Barnett        S      43210  2550316   \n",
       "4  20080205    Pierre   Garcon    Pierre Garcon       WR      44601     2346   \n",
       "\n",
       "   combineId              college  heightInches  ...    rec tackleYdsScrim  \\\n",
       "0        0.0           Washington          72.0  ...    0.0            0.0   \n",
       "1        0.0  Valdosta State (GA)          71.0  ...    0.0          135.0   \n",
       "2        0.0         Kansas State          76.0  ...    0.0         2619.0   \n",
       "3        0.0           Ohio State          73.0  ...    0.0           81.0   \n",
       "4    16587.0     Mount Union (OH)          72.0  ...  589.0            0.0   \n",
       "\n",
       "   tackleType sackYards sackType interceptions kickReturnYds kickNetYds  \\\n",
       "0         0.0       0.0      0.0           0.0           0.0        0.0   \n",
       "1        24.0       0.0      0.0           0.0           0.0        0.0   \n",
       "2       426.0      -3.0      3.0           6.0           0.0        0.0   \n",
       "3         6.0       0.0      0.0           0.0           0.0        0.0   \n",
       "4        18.0       0.0      0.0           0.0           0.0        0.0   \n",
       "\n",
       "  kickRetYds kickRetTd  \n",
       "0        0.0       0.0  \n",
       "1        0.0       0.0  \n",
       "2        0.0       0.0  \n",
       "3        0.0       0.0  \n",
       "4        0.0       0.0  \n",
       "\n",
       "[5 rows x 37 columns]"
      ]
     },
     "execution_count": 162,
     "metadata": {},
     "output_type": "execute_result"
    }
   ],
   "source": [
    "# Display the first few rows of the selected players\n",
    "selected_players.head(5)"
   ]
  },
  {
   "cell_type": "code",
   "execution_count": 163,
   "id": "db8a0b78-cb4d-412c-81e9-c92114713f1e",
   "metadata": {},
   "outputs": [
    {
     "data": {
      "text/plain": [
       "400"
      ]
     },
     "execution_count": 163,
     "metadata": {},
     "output_type": "execute_result"
    }
   ],
   "source": [
    "len(selected_players)"
   ]
  },
  {
   "cell_type": "code",
   "execution_count": 167,
   "id": "dc9ab707-8d33-460f-a747-004b4e5d1876",
   "metadata": {},
   "outputs": [],
   "source": [
    "# Define weights for the different positions\n",
    "weights = {\n",
    "    'QB': {'passLength': 0.6, 'passTd': 0.4},\n",
    "    'RB': {'rushYards': 0.7, 'rushTd': 0.3},\n",
    "    'WR': {'recYards': 0.7, 'rec': 0.3},\n",
    "    'TE': {'recYards': 0.7, 'rec': 0.3},\n",
    "    'OL': {'tackleYdsScrim': 1.0},\n",
    "    'DB': {'interceptions': 0.6, 'tackleType': 0.4},\n",
    "    'LB': {'tackleType': 0.7, 'sackType': 0.3},\n",
    "    'DL': {'sackType': 0.7, 'sackYards': 0.3},\n",
    "    'P': {'kickNetYds': 1.0},\n",
    "    'KR': {'kickRetYds': 1.0},\n",
    "}\n",
    "\n",
    "# Apply weights and calculate weighted scores\n",
    "def calculate_weighted_scores(row, weights):\n",
    "    position = row['position']\n",
    "    score = 0\n",
    "    if position in weights:\n",
    "        for stat, weight in weights[position].items():\n",
    "            score += row[stat] * weight\n",
    "    return score\n",
    "\n",
    "# Add weighted scores to the DataFrame\n",
    "selected_players['score'] = selected_players.apply(lambda row: calculate_weighted_scores(row, weights), axis=1)\n"
   ]
  },
  {
   "cell_type": "markdown",
   "id": "5f95d1a9-8caa-4060-948d-c201301e761d",
   "metadata": {},
   "source": [
    "\n"
   ]
  },
  {
   "cell_type": "markdown",
   "id": "782c8f16-89b3-4d1a-8f8f-205287eb2f08",
   "metadata": {},
   "source": [
    "The code defines initial weights for different positions based on various performance metrics and applies them to calculate a weighted score for each player. These weights are subject to change as we analyze and measure the importance of each stat on player success and their ability to impact wins in football."
   ]
  },
  {
   "cell_type": "code",
   "execution_count": 168,
   "id": "44d7dfa4-d09f-43a5-b503-7252c75e09a1",
   "metadata": {},
   "outputs": [],
   "source": [
    "# Define functions to select players based on weighted scores\n",
    "def select_players_by_score(df, position, n):\n",
    "    return df[df['position'] == position].nlargest(n, 'score')['playerId'].tolist()\n",
    "\n",
    "# Select offense team\n",
    "offense_team_ids = select_players_by_score(selected_players, 'QB', 1) + \\\n",
    "                   select_players_by_score(selected_players, 'RB', 2) + \\\n",
    "                   select_players_by_score(selected_players, 'WR', 3) + \\\n",
    "                   select_players_by_score(selected_players, 'TE', 1) + \\\n",
    "                   select_players_by_score(selected_players, 'OL', 4)\n",
    "\n",
    "# Select special teams\n",
    "special_teams_ids = select_players_by_score(selected_players, 'P', 1) + \\\n",
    "                    select_players_by_score(selected_players, 'KR', 1) + \\\n",
    "                    select_players_by_score(selected_players, 'LB', 9)\n",
    "\n",
    "# Select defense team\n",
    "defense_team_ids = select_players_by_score(selected_players, 'DB', 5) + \\\n",
    "                   select_players_by_score(selected_players, 'LB', 3) + \\\n",
    "                   select_players_by_score(selected_players, 'DL', 3)\n",
    "\n"
   ]
  },
  {
   "cell_type": "markdown",
   "id": "9fed4bfb-d7ff-477c-9609-e0e9cd0775f8",
   "metadata": {},
   "source": [
    "Selecting 11 players for each team based on the weighted scores"
   ]
  },
  {
   "cell_type": "code",
   "execution_count": null,
   "id": "7c6cd874-362b-471d-9159-be1dd4fef047",
   "metadata": {},
   "outputs": [],
   "source": [
    "# Combine all selected player IDs ensuring no overlaps\n",
    "optimal_team_ids = list(set(offense_team_ids + special_teams_ids + defense_team_ids))\n",
    "\n",
    "# Create final DataFrame for the optimal team\n",
    "optimal_team_df = selected_players[selected_players['playerId'].isin(optimal_team_ids)]\n",
    "\n",
    "# Create DataFrames for each team\n",
    "offense_team_df = selected_players[selected_players['playerId'].isin(offense_team_ids)]\n",
    "defense_team_df = selected_players[selected_players['playerId'].isin(defense_team_ids)]\n",
    "special_teams_df = selected_players[selected_players['playerId'].isin(special_teams_ids)]"
   ]
  },
  {
   "cell_type": "code",
   "execution_count": 172,
   "id": "2a31a3fc-620d-4f5c-a1c4-ace4efa24407",
   "metadata": {},
   "outputs": [
    {
     "name": "stdout",
     "output_type": "stream",
     "text": [
      "Offense Team:\n",
      "     playerId           nameFull position    score\n",
      "4    20080205      Pierre Garcon       WR   5039.6\n",
      "26   20170086        Kareem Hunt       RB   3835.5\n",
      "34   20150114      Jamil Douglas       OL      0.0\n",
      "55   20110407      Paul Fenaroli       OL      0.0\n",
      "113  20140439      Parker Graham       OL      0.0\n",
      "118  20080091  Jermichael Finley       TE   1036.5\n",
      "172  20140947        A.J. Dalton       OL      0.0\n",
      "181  20150020     Nelson Agholor       WR   3128.8\n",
      "293  20080720  Anthony Armstrong       WR   2160.0\n",
      "387  19970036        Tiki Barber       RB   3856.7\n",
      "391  20010001       Michael Vick       QB  12752.8\n",
      "\n",
      "Defense Team:\n",
      "     playerId           nameFull position  score\n",
      "37   20080407    Wesley Woodyard       LB  897.2\n",
      "69   20150972     Justin Coleman       DB  131.2\n",
      "78   20170772       Nelson Adams       DL    0.0\n",
      "81   20080598     Kyle Arrington       DB  166.2\n",
      "82   20100476        Jeff Stehle       DL    0.0\n",
      "129  20140996         Todd Davis       LB  557.7\n",
      "152  20180840   Chandon Sullivan       DB   42.4\n",
      "180  20120058      Lavonte David       LB  904.8\n",
      "279  20010486  Felipe Claybrooks       DL   -2.2\n",
      "326  19990062  Daylon McCutcheon       DB   59.8\n",
      "344  20030111     Terrence McGee       DB  181.6\n",
      "\n",
      "Special Teams:\n",
      "     playerId           nameFull position    score\n",
      "2    20120812     Emmanuel Lamur       LB    299.1\n",
      "37   20080407    Wesley Woodyard       LB    897.2\n",
      "41   20090035  James Laurinaitis       LB    550.2\n",
      "65   20080200           Joe Mays       LB    189.6\n",
      "129  20140996         Todd Davis       LB    557.7\n",
      "177  20100047   Daryl Washington       LB    248.7\n",
      "180  20120058      Lavonte David       LB    904.8\n",
      "229  20070101       Adam Podlesh        P  23253.0\n",
      "247  20060035     Rocky McIntosh       LB    370.9\n",
      "262  20030563     Stephen Cooper       LB    371.4\n",
      "Overlapping Players:\n",
      "No overlapping players found.\n"
     ]
    }
   ],
   "source": [
    "# Display the selected teams\n",
    "print(\"Offense Team:\")\n",
    "print(offense_team_df[['playerId', 'nameFull', 'position', 'score']])\n",
    "\n",
    "print(\"\\nDefense Team:\")\n",
    "print(defense_team_df[['playerId', 'nameFull', 'position', 'score']])\n",
    "\n",
    "print(\"\\nSpecial Teams:\")\n",
    "print(special_teams_df[['playerId', 'nameFull', 'position', 'score']])\n",
    "\n",
    "# Check for overlapping players\n",
    "overlapping_players = set(offense_team_ids).intersection(set(defense_team_ids), set(special_teams_ids))\n",
    "\n",
    "# Print the overlapping players\n",
    "print(\"Overlapping Players:\")\n",
    "if overlapping_players:\n",
    "    for player_id in overlapping_players:\n",
    "        player_info = selected_players[selected_players['playerId'] == player_id]\n",
    "        print(player_info[['playerId', 'nameFull', 'position', 'score']].to_string(index=False))\n",
    "else:\n",
    "    print(\"No overlapping players found.\")\n"
   ]
  },
  {
   "cell_type": "code",
   "execution_count": 173,
   "id": "445be0c6-bce5-47f1-ba68-3d2e66fffa6b",
   "metadata": {},
   "outputs": [
    {
     "name": "stdout",
     "output_type": "stream",
     "text": [
      "Total number of players in the optimal team: 33\n",
      "\n",
      "Final Selected Optimal Team:\n",
      "     playerId           nameFull position    score\n",
      "2    20120812     Emmanuel Lamur       LB    299.1\n",
      "4    20080205      Pierre Garcon       WR   5039.6\n",
      "26   20170086        Kareem Hunt       RB   3835.5\n",
      "34   20150114      Jamil Douglas       OL      0.0\n",
      "37   20080407    Wesley Woodyard       LB    897.2\n",
      "41   20090035  James Laurinaitis       LB    550.2\n",
      "55   20110407      Paul Fenaroli       OL      0.0\n",
      "65   20080200           Joe Mays       LB    189.6\n",
      "69   20150972     Justin Coleman       DB    131.2\n",
      "78   20170772       Nelson Adams       DL      0.0\n",
      "81   20080598     Kyle Arrington       DB    166.2\n",
      "82   20100476        Jeff Stehle       DL      0.0\n",
      "113  20140439      Parker Graham       OL      0.0\n",
      "118  20080091  Jermichael Finley       TE   1036.5\n",
      "129  20140996         Todd Davis       LB    557.7\n",
      "145  20140956       Seth Roberts       WR   1807.5\n",
      "152  20180840   Chandon Sullivan       DB     42.4\n",
      "172  20140947        A.J. Dalton       OL      0.0\n",
      "177  20100047   Daryl Washington       LB    248.7\n",
      "180  20120058      Lavonte David       LB    904.8\n",
      "181  20150020     Nelson Agholor       WR   3128.8\n",
      "229  20070101       Adam Podlesh        P  23253.0\n",
      "247  20060035     Rocky McIntosh       LB    370.9\n",
      "262  20030563     Stephen Cooper       LB    371.4\n",
      "265  19990460       Chris Hanson        P  20271.0\n",
      "279  20010486  Felipe Claybrooks       DL     -2.2\n",
      "293  20080720  Anthony Armstrong       WR   2160.0\n",
      "326  19990062  Daylon McCutcheon       DB     59.8\n",
      "344  20030111     Terrence McGee       DB    181.6\n",
      "351  20020186    J.T. O'Sullivan       QB   2573.6\n",
      "387  19970036        Tiki Barber       RB   3856.7\n",
      "389  19940193       Mitch Berger        P  17940.0\n",
      "391  20010001       Michael Vick       QB  12752.8\n"
     ]
    }
   ],
   "source": [
    "# Print the number of players in the optimal team\n",
    "print(f\"Total number of players in the optimal team: {optimal_team_df.shape[0]}\")\n",
    "\n",
    "# Display the final selected optimal team and count the number of players\n",
    "print(\"\\nFinal Selected Optimal Team:\")\n",
    "print(optimal_team_df[['playerId', 'nameFull', 'position', 'score']])"
   ]
  },
  {
   "cell_type": "code",
   "execution_count": 213,
   "id": "d377decd-e8c2-457b-9806-11a4a1147eda",
   "metadata": {},
   "outputs": [
    {
     "name": "stdout",
     "output_type": "stream",
     "text": [
      "Top 5 Rushers:\n",
      "     playerId        nameFull  rushYards\n",
      "391  20010001    Michael Vick     5977.0\n",
      "387  19970036     Tiki Barber     5498.0\n",
      "26   20170086     Kareem Hunt     5466.0\n",
      "22   20170188  Elijah McGuire     1431.0\n",
      "86   20090173    Javon Ringer     1272.0\n",
      "Top 5 Passers:\n",
      "     playerId         nameFull  passLength\n",
      "391  20010001     Michael Vick     21170.0\n",
      "351  20020186  J.T. O'Sullivan      4276.0\n",
      "119  20190015   Dwayne Haskins      2559.0\n",
      "13   20090178        Mike Teel       408.0\n",
      "50   20190495     Brett Rypien       341.0\n",
      "Top 5 Touchdown Scorers:\n",
      "     playerId        nameFull  totalTd\n",
      "4    20080205   Pierre Garcon    589.0\n",
      "181  20150020  Nelson Agholor    375.0\n",
      "26   20170086     Kareem Hunt    319.0\n",
      "145  20140956    Seth Roberts    229.0\n",
      "387  19970036     Tiki Barber    208.0\n"
     ]
    }
   ],
   "source": [
    "# Top Rushers\n",
    "top_rushers = selected_players[['playerId', 'nameFull', 'rushYards']].sort_values(by='rushYards', ascending=False).head(5)\n",
    "print(\"Top 5 Rushers:\")\n",
    "print(top_rushers)\n",
    "\n",
    "# Top Passers\n",
    "top_passers = selected_players[['playerId', 'nameFull', 'passLength']].sort_values(by='passLength', ascending=False).head(5)\n",
    "print(\"Top 5 Passers:\")\n",
    "print(top_passers)\n",
    "\n",
    "# Top Touchdown Scorers (Combining Rushing and Receiving TDs)\n",
    "selected_players['totalTd'] = selected_players['rushTd'] + selected_players['rec']  # Assuming 'rec' represents receiving touchdowns\n",
    "top_td_scorers = selected_players[['playerId', 'nameFull', 'totalTd']].sort_values(by='totalTd', ascending=False).head(5)\n",
    "print(\"Top 5 Touchdown Scorers:\")\n",
    "print(top_td_scorers)"
   ]
  },
  {
   "cell_type": "markdown",
   "id": "83522693-d7b5-4df9-9186-b7729cb32cf5",
   "metadata": {},
   "source": [
    "The final selected optimal team includes several top performers based on various performance metrics, confirming their inclusion in the optimal lineup. For instance, Michael Vick, who is part of our optimal team, ranks as the top passer with a pass length of 21,170 yards and also appears among the top rushers with 5,977 rushing yards. Similarly, Pierre Garcon, another member of our optimal team, stands out as the top touchdown scorer with 589 total touchdowns. These top performers demonstrate the effectiveness of our criteria and model in identifying key players for the optimal team."
   ]
  },
  {
   "cell_type": "code",
   "execution_count": 178,
   "id": "192525b2-19a1-40ce-9df8-ddc27aff1a98",
   "metadata": {},
   "outputs": [],
   "source": [
    "# Define the input features and target variable\n",
    "features = ['passLength', 'passTd', 'rushYards', 'rushTd', 'recYards', 'rec', \n",
    "            'tackleYdsScrim', 'tackleType', 'sackYards', 'sackType', 'interceptions', 'kickNetYds', 'kickRetYds']\n"
   ]
  },
  {
   "cell_type": "markdown",
   "id": "b2705660-f8a9-4a99-8d88-ddfc29412c50",
   "metadata": {},
   "source": [
    "The list of features represents the different player statistics that are relevant to determine the optimal team. These features are the inputs to the neural network."
   ]
  },
  {
   "cell_type": "code",
   "execution_count": 180,
   "id": "4c044591-256d-4a2d-ae5b-51de03ae823a",
   "metadata": {},
   "outputs": [],
   "source": [
    "# Create the target variable for the model\n",
    "selected_players['target'] = selected_players['playerId'].isin(optimal_team_df['playerId']).astype(int)\n"
   ]
  },
  {
   "cell_type": "markdown",
   "id": "ead411dc-7e44-492a-a622-cd8f59987b94",
   "metadata": {},
   "source": [
    "The target variable is a binary indicator of whether a player is part of the optimal team (1) or not (0). This serves as the output the neural network will learn to predict."
   ]
  },
  {
   "cell_type": "code",
   "execution_count": 215,
   "id": "203daf19-ff03-4637-b3e9-54a7d0a8fde3",
   "metadata": {},
   "outputs": [],
   "source": [
    "# Select the relevant features and target variable\n",
    "X = selected_players[features].values\n",
    "y = selected_players['target'].values\n"
   ]
  },
  {
   "cell_type": "code",
   "execution_count": 216,
   "id": "bce0a296-03b3-421e-a11a-70aeca03d04f",
   "metadata": {},
   "outputs": [],
   "source": [
    "# Split data into 80% training and 20% testing sets to prevent overfitting\n",
    "X_train, X_test, y_train, y_test = train_test_split(X, y, test_size=0.2, random_state=31)\n"
   ]
  },
  {
   "cell_type": "code",
   "execution_count": 183,
   "id": "6e818ae6-21f5-47bf-80ba-7b54e345a60a",
   "metadata": {},
   "outputs": [],
   "source": [
    "# Standardize the features\n",
    "scaler = StandardScaler()\n",
    "X_train = scaler.fit_transform(X_train)\n",
    "X_test = scaler.transform(X_test)"
   ]
  },
  {
   "cell_type": "markdown",
   "id": "9c438fa7-9813-4e5f-ae90-ef1dd6cfa884",
   "metadata": {},
   "source": [
    "Standardizing features is crucial because it ensures that each feature contributes equally to the model's performance and helps the model converge faster during training. By scaling features to have a mean of zero and a standard deviation of one, standardization ensures equal contribution, faster convergence, and avoids numerical instability. According to Shanker, Hu, and Hung in their study published in Omega (Volume 24, Issue 4, August 1996), networks trained on standardized data generally yield better results, although the advantage diminishes with larger network and sample sizes. This preprocessing step is essential for the efficient learning and optimal performance of neural networks "
   ]
  },
  {
   "cell_type": "code",
   "execution_count": 184,
   "id": "4f89ae30-7d24-4203-a345-e6cf6c9fb260",
   "metadata": {},
   "outputs": [],
   "source": [
    "# Define the model\n",
    "model = Sequential()\n",
    "\n",
    "model.add(Input(shape=(X_train.shape[1],)))  # Input layer\n",
    "\n",
    "model.add(Dense(units=64, activation='relu'))  # Hidden layer 1\n",
    "\n",
    "model.add(Dense(units=64, activation='relu'))  # Hidden layer 2\n",
    "\n",
    "model.add(Dropout(0.5))  # Dropout layer to prevent overfitting\n",
    "\n",
    "model.add(Dense(units=32, activation='relu'))  # Hidden layer 3\n",
    "\n",
    "model.add(Dropout(0.5))  # Dropout layer to prevent overfitting\n",
    "\n",
    "model.add(Dense(units=1, activation='sigmoid'))  # Output layer\n"
   ]
  },
  {
   "cell_type": "markdown",
   "id": "81a3707f-a20d-4ab3-ba26-60f69ddb68bc",
   "metadata": {},
   "source": [
    "**Neural Network Architecture:**\n",
    "\n",
    "The architecture of our deep artificial neural network (ANN) is designed to predict the optimal NFL players based on their performance metrics. The network consists of the following layers:\n",
    "\n",
    "1. **Input Layer**: This layer receives the input features, which are various performance metrics of the NFL players. The input shape is determined by the number of features used to represent each player.\n",
    "\n",
    "2. **Hidden Layer 1**: This is the first hidden layer with 64 neurons. The ReLU activation function is applied to introduce non-linearity into the model, helping it learn complex patterns.\n",
    "\n",
    "3. **Hidden Layer 2**: Similar to the first hidden layer, this layer also has 64 neurons with ReLU activation. It further processes the data to extract deeper patterns.\n",
    "\n",
    "4. **Dropout Layer 1**: This layer is added to prevent overfitting by randomly setting a fraction (50%) of input units to 0 at each update during training time, which helps the model generalize better on new data.\n",
    "\n",
    "5. **Hidden Layer 3**: This layer has 32 neurons with ReLU activation, further refining the patterns learned by the previous layers.\n",
    "\n",
    "6. **Dropout Layer 2**: Another dropout layer with the same dropout rate (50%) is added to prevent overfitting.\n",
    "\n",
    "7. **Output Layer**: The final layer consists of a single neuron with a sigmoid activation function. This layer outputs a probability score indicating whether a player is part of the optimal team (1) or not (0).\n",
    "\n",
    "**Input Features:**\n",
    "\n",
    "The input features for the model are various performance metrics of NFL players, which include:\n",
    "- `passLength`: Total passing length.\n",
    "- `passTd`: Total passing touchdowns.\n",
    "- `rushYards`: Total rushing yards.\n",
    "- `rushTd`: Total rushing touchdowns.\n",
    "- `recYards`: Total receiving yards.\n",
    "- `rec`: Total receptions.\n",
    "- `tackleYdsScrim`: Total tackle yards from scrimmage.\n",
    "- `tackleType`: Count of tackles.\n",
    "- `sackYards`: Total sack yards.\n",
    "- `sackType`: Count of sacks.\n",
    "- `interceptions`: Total interceptions.\n",
    "\n",
    "These features are aggregated from the players' statistics and are used as inputs to the model. Each feature represents a key performance indicator that contributes to evaluating whether a player is optimal for the team. By utilizing these input features and the described neural network architecture, the model aims to learn the complex relationships between player characteristics and their suitability for being part of the optimal NFL team.\n"
   ]
  },
  {
   "cell_type": "code",
   "execution_count": 185,
   "id": "e68cade7-c315-410c-971a-0b575842c3fe",
   "metadata": {},
   "outputs": [],
   "source": [
    "# Compile the model\n",
    "model.compile(optimizer='adam', loss='binary_crossentropy', metrics=['accuracy'])\n"
   ]
  },
  {
   "cell_type": "markdown",
   "id": "1a92c15c-a265-428d-b154-94df71922702",
   "metadata": {},
   "source": [
    "Based on the network's output, the error is calculated using a cost function, which is the binary cross-entropy loss in this task. The model.compile() function sets up the loss function with the optimizer, configuring the model for training. During the training process initiated by model.fit(), the network generates outputs for the input data and the loss function calculates the error between these outputs and the actual target values. This error is then minimized by the optimizer through backpropagation, adjusting the weights to improve the model's predictions over successive epochs. This process is required for training the ANN to accurately predict the desired outcomes.\n",
    "\n",
    "This method is widely used in tasks like binary classification, where the goal is to categorize data into two classes, which in our case is the goal, optimal or not (Saxena, 2024)."
   ]
  },
  {
   "cell_type": "code",
   "execution_count": 186,
   "id": "c4ecf4de-b7e7-4fd8-88f2-b219292d4b82",
   "metadata": {},
   "outputs": [
    {
     "name": "stdout",
     "output_type": "stream",
     "text": [
      "Epoch 1/50\n",
      "\u001b[1m8/8\u001b[0m \u001b[32m━━━━━━━━━━━━━━━━━━━━\u001b[0m\u001b[37m\u001b[0m \u001b[1m1s\u001b[0m 13ms/step - accuracy: 0.6027 - loss: 0.6910 - val_accuracy: 0.9062 - val_loss: 0.6417\n",
      "Epoch 2/50\n",
      "\u001b[1m8/8\u001b[0m \u001b[32m━━━━━━━━━━━━━━━━━━━━\u001b[0m\u001b[37m\u001b[0m \u001b[1m0s\u001b[0m 3ms/step - accuracy: 0.8738 - loss: 0.6543 - val_accuracy: 0.8906 - val_loss: 0.5856\n",
      "Epoch 3/50\n",
      "\u001b[1m8/8\u001b[0m \u001b[32m━━━━━━━━━━━━━━━━━━━━\u001b[0m\u001b[37m\u001b[0m \u001b[1m0s\u001b[0m 3ms/step - accuracy: 0.9271 - loss: 0.5913 - val_accuracy: 0.9219 - val_loss: 0.5343\n",
      "Epoch 4/50\n",
      "\u001b[1m8/8\u001b[0m \u001b[32m━━━━━━━━━━━━━━━━━━━━\u001b[0m\u001b[37m\u001b[0m \u001b[1m0s\u001b[0m 3ms/step - accuracy: 0.9003 - loss: 0.5608 - val_accuracy: 0.9062 - val_loss: 0.4788\n",
      "Epoch 5/50\n",
      "\u001b[1m8/8\u001b[0m \u001b[32m━━━━━━━━━━━━━━━━━━━━\u001b[0m\u001b[37m\u001b[0m \u001b[1m0s\u001b[0m 3ms/step - accuracy: 0.9289 - loss: 0.4684 - val_accuracy: 0.9062 - val_loss: 0.4147\n",
      "Epoch 6/50\n",
      "\u001b[1m8/8\u001b[0m \u001b[32m━━━━━━━━━━━━━━━━━━━━\u001b[0m\u001b[37m\u001b[0m \u001b[1m0s\u001b[0m 3ms/step - accuracy: 0.9048 - loss: 0.4697 - val_accuracy: 0.9062 - val_loss: 0.3571\n",
      "Epoch 7/50\n",
      "\u001b[1m8/8\u001b[0m \u001b[32m━━━━━━━━━━━━━━━━━━━━\u001b[0m\u001b[37m\u001b[0m \u001b[1m0s\u001b[0m 3ms/step - accuracy: 0.9230 - loss: 0.3257 - val_accuracy: 0.8906 - val_loss: 0.3065\n",
      "Epoch 8/50\n",
      "\u001b[1m8/8\u001b[0m \u001b[32m━━━━━━━━━━━━━━━━━━━━\u001b[0m\u001b[37m\u001b[0m \u001b[1m0s\u001b[0m 3ms/step - accuracy: 0.9632 - loss: 0.2508 - val_accuracy: 0.9062 - val_loss: 0.2677\n",
      "Epoch 9/50\n",
      "\u001b[1m8/8\u001b[0m \u001b[32m━━━━━━━━━━━━━━━━━━━━\u001b[0m\u001b[37m\u001b[0m \u001b[1m0s\u001b[0m 3ms/step - accuracy: 0.9394 - loss: 0.2764 - val_accuracy: 0.9062 - val_loss: 0.2426\n",
      "Epoch 10/50\n",
      "\u001b[1m8/8\u001b[0m \u001b[32m━━━━━━━━━━━━━━━━━━━━\u001b[0m\u001b[37m\u001b[0m \u001b[1m0s\u001b[0m 3ms/step - accuracy: 0.9716 - loss: 0.2122 - val_accuracy: 0.9219 - val_loss: 0.2305\n",
      "Epoch 11/50\n",
      "\u001b[1m8/8\u001b[0m \u001b[32m━━━━━━━━━━━━━━━━━━━━\u001b[0m\u001b[37m\u001b[0m \u001b[1m0s\u001b[0m 3ms/step - accuracy: 0.9720 - loss: 0.1717 - val_accuracy: 0.9062 - val_loss: 0.2238\n",
      "Epoch 12/50\n",
      "\u001b[1m8/8\u001b[0m \u001b[32m━━━━━━━━━━━━━━━━━━━━\u001b[0m\u001b[37m\u001b[0m \u001b[1m0s\u001b[0m 3ms/step - accuracy: 0.9628 - loss: 0.1753 - val_accuracy: 0.9062 - val_loss: 0.2251\n",
      "Epoch 13/50\n",
      "\u001b[1m8/8\u001b[0m \u001b[32m━━━━━━━━━━━━━━━━━━━━\u001b[0m\u001b[37m\u001b[0m \u001b[1m0s\u001b[0m 3ms/step - accuracy: 0.9745 - loss: 0.1607 - val_accuracy: 0.9219 - val_loss: 0.2281\n",
      "Epoch 14/50\n",
      "\u001b[1m8/8\u001b[0m \u001b[32m━━━━━━━━━━━━━━━━━━━━\u001b[0m\u001b[37m\u001b[0m \u001b[1m0s\u001b[0m 3ms/step - accuracy: 0.9641 - loss: 0.1235 - val_accuracy: 0.9219 - val_loss: 0.2312\n",
      "Epoch 15/50\n",
      "\u001b[1m8/8\u001b[0m \u001b[32m━━━━━━━━━━━━━━━━━━━━\u001b[0m\u001b[37m\u001b[0m \u001b[1m0s\u001b[0m 3ms/step - accuracy: 0.9745 - loss: 0.1186 - val_accuracy: 0.9219 - val_loss: 0.2342\n",
      "Epoch 16/50\n",
      "\u001b[1m8/8\u001b[0m \u001b[32m━━━━━━━━━━━━━━━━━━━━\u001b[0m\u001b[37m\u001b[0m \u001b[1m0s\u001b[0m 3ms/step - accuracy: 0.9716 - loss: 0.1430 - val_accuracy: 0.9219 - val_loss: 0.2346\n",
      "Epoch 17/50\n",
      "\u001b[1m8/8\u001b[0m \u001b[32m━━━━━━━━━━━━━━━━━━━━\u001b[0m\u001b[37m\u001b[0m \u001b[1m0s\u001b[0m 3ms/step - accuracy: 0.9682 - loss: 0.1341 - val_accuracy: 0.9219 - val_loss: 0.2353\n",
      "Epoch 18/50\n",
      "\u001b[1m8/8\u001b[0m \u001b[32m━━━━━━━━━━━━━━━━━━━━\u001b[0m\u001b[37m\u001b[0m \u001b[1m0s\u001b[0m 3ms/step - accuracy: 0.9716 - loss: 0.1036 - val_accuracy: 0.9219 - val_loss: 0.2379\n",
      "Epoch 19/50\n",
      "\u001b[1m8/8\u001b[0m \u001b[32m━━━━━━━━━━━━━━━━━━━━\u001b[0m\u001b[37m\u001b[0m \u001b[1m0s\u001b[0m 3ms/step - accuracy: 0.9603 - loss: 0.1401 - val_accuracy: 0.9219 - val_loss: 0.2402\n",
      "Epoch 20/50\n",
      "\u001b[1m8/8\u001b[0m \u001b[32m━━━━━━━━━━━━━━━━━━━━\u001b[0m\u001b[37m\u001b[0m \u001b[1m0s\u001b[0m 3ms/step - accuracy: 0.9530 - loss: 0.1863 - val_accuracy: 0.9219 - val_loss: 0.2432\n",
      "Epoch 21/50\n",
      "\u001b[1m8/8\u001b[0m \u001b[32m━━━━━━━━━━━━━━━━━━━━\u001b[0m\u001b[37m\u001b[0m \u001b[1m0s\u001b[0m 3ms/step - accuracy: 0.9546 - loss: 0.1216 - val_accuracy: 0.9219 - val_loss: 0.2492\n",
      "Epoch 22/50\n",
      "\u001b[1m8/8\u001b[0m \u001b[32m━━━━━━━━━━━━━━━━━━━━\u001b[0m\u001b[37m\u001b[0m \u001b[1m0s\u001b[0m 3ms/step - accuracy: 0.9715 - loss: 0.1027 - val_accuracy: 0.9219 - val_loss: 0.2558\n",
      "Epoch 23/50\n",
      "\u001b[1m8/8\u001b[0m \u001b[32m━━━━━━━━━━━━━━━━━━━━\u001b[0m\u001b[37m\u001b[0m \u001b[1m0s\u001b[0m 3ms/step - accuracy: 0.9738 - loss: 0.0856 - val_accuracy: 0.9375 - val_loss: 0.2602\n",
      "Epoch 24/50\n",
      "\u001b[1m8/8\u001b[0m \u001b[32m━━━━━━━━━━━━━━━━━━━━\u001b[0m\u001b[37m\u001b[0m \u001b[1m0s\u001b[0m 3ms/step - accuracy: 0.9777 - loss: 0.0725 - val_accuracy: 0.9219 - val_loss: 0.2678\n",
      "Epoch 25/50\n",
      "\u001b[1m8/8\u001b[0m \u001b[32m━━━━━━━━━━━━━━━━━━━━\u001b[0m\u001b[37m\u001b[0m \u001b[1m0s\u001b[0m 3ms/step - accuracy: 0.9567 - loss: 0.1127 - val_accuracy: 0.9219 - val_loss: 0.2749\n",
      "Epoch 26/50\n",
      "\u001b[1m8/8\u001b[0m \u001b[32m━━━━━━━━━━━━━━━━━━━━\u001b[0m\u001b[37m\u001b[0m \u001b[1m0s\u001b[0m 3ms/step - accuracy: 0.9726 - loss: 0.0996 - val_accuracy: 0.9219 - val_loss: 0.2779\n",
      "Epoch 27/50\n",
      "\u001b[1m8/8\u001b[0m \u001b[32m━━━━━━━━━━━━━━━━━━━━\u001b[0m\u001b[37m\u001b[0m \u001b[1m0s\u001b[0m 3ms/step - accuracy: 0.9776 - loss: 0.1365 - val_accuracy: 0.9219 - val_loss: 0.2815\n",
      "Epoch 28/50\n",
      "\u001b[1m8/8\u001b[0m \u001b[32m━━━━━━━━━━━━━━━━━━━━\u001b[0m\u001b[37m\u001b[0m \u001b[1m0s\u001b[0m 3ms/step - accuracy: 0.9658 - loss: 0.1142 - val_accuracy: 0.9219 - val_loss: 0.2863\n",
      "Epoch 29/50\n",
      "\u001b[1m8/8\u001b[0m \u001b[32m━━━━━━━━━━━━━━━━━━━━\u001b[0m\u001b[37m\u001b[0m \u001b[1m0s\u001b[0m 3ms/step - accuracy: 0.9804 - loss: 0.0920 - val_accuracy: 0.9219 - val_loss: 0.2912\n",
      "Epoch 30/50\n",
      "\u001b[1m8/8\u001b[0m \u001b[32m━━━━━━━━━━━━━━━━━━━━\u001b[0m\u001b[37m\u001b[0m \u001b[1m0s\u001b[0m 3ms/step - accuracy: 0.9813 - loss: 0.1041 - val_accuracy: 0.9219 - val_loss: 0.2957\n",
      "Epoch 31/50\n",
      "\u001b[1m8/8\u001b[0m \u001b[32m━━━━━━━━━━━━━━━━━━━━\u001b[0m\u001b[37m\u001b[0m \u001b[1m0s\u001b[0m 4ms/step - accuracy: 0.9770 - loss: 0.0977 - val_accuracy: 0.9375 - val_loss: 0.2955\n",
      "Epoch 32/50\n",
      "\u001b[1m8/8\u001b[0m \u001b[32m━━━━━━━━━━━━━━━━━━━━\u001b[0m\u001b[37m\u001b[0m \u001b[1m0s\u001b[0m 3ms/step - accuracy: 0.9786 - loss: 0.0676 - val_accuracy: 0.9375 - val_loss: 0.2941\n",
      "Epoch 33/50\n",
      "\u001b[1m8/8\u001b[0m \u001b[32m━━━━━━━━━━━━━━━━━━━━\u001b[0m\u001b[37m\u001b[0m \u001b[1m0s\u001b[0m 3ms/step - accuracy: 0.9686 - loss: 0.1203 - val_accuracy: 0.9375 - val_loss: 0.2948\n",
      "Epoch 34/50\n",
      "\u001b[1m8/8\u001b[0m \u001b[32m━━━━━━━━━━━━━━━━━━━━\u001b[0m\u001b[37m\u001b[0m \u001b[1m0s\u001b[0m 3ms/step - accuracy: 0.9844 - loss: 0.0777 - val_accuracy: 0.9219 - val_loss: 0.2972\n",
      "Epoch 35/50\n",
      "\u001b[1m8/8\u001b[0m \u001b[32m━━━━━━━━━━━━━━━━━━━━\u001b[0m\u001b[37m\u001b[0m \u001b[1m0s\u001b[0m 3ms/step - accuracy: 0.9930 - loss: 0.0670 - val_accuracy: 0.9219 - val_loss: 0.3010\n",
      "Epoch 36/50\n",
      "\u001b[1m8/8\u001b[0m \u001b[32m━━━━━━━━━━━━━━━━━━━━\u001b[0m\u001b[37m\u001b[0m \u001b[1m0s\u001b[0m 4ms/step - accuracy: 0.9881 - loss: 0.0728 - val_accuracy: 0.9375 - val_loss: 0.3026\n",
      "Epoch 37/50\n",
      "\u001b[1m8/8\u001b[0m \u001b[32m━━━━━━━━━━━━━━━━━━━━\u001b[0m\u001b[37m\u001b[0m \u001b[1m0s\u001b[0m 4ms/step - accuracy: 0.9794 - loss: 0.0780 - val_accuracy: 0.9375 - val_loss: 0.3060\n",
      "Epoch 38/50\n",
      "\u001b[1m8/8\u001b[0m \u001b[32m━━━━━━━━━━━━━━━━━━━━\u001b[0m\u001b[37m\u001b[0m \u001b[1m0s\u001b[0m 5ms/step - accuracy: 0.9771 - loss: 0.1219 - val_accuracy: 0.9219 - val_loss: 0.3085\n",
      "Epoch 39/50\n",
      "\u001b[1m8/8\u001b[0m \u001b[32m━━━━━━━━━━━━━━━━━━━━\u001b[0m\u001b[37m\u001b[0m \u001b[1m0s\u001b[0m 4ms/step - accuracy: 0.9978 - loss: 0.0444 - val_accuracy: 0.9219 - val_loss: 0.3140\n",
      "Epoch 40/50\n",
      "\u001b[1m8/8\u001b[0m \u001b[32m━━━━━━━━━━━━━━━━━━━━\u001b[0m\u001b[37m\u001b[0m \u001b[1m0s\u001b[0m 4ms/step - accuracy: 0.9709 - loss: 0.1123 - val_accuracy: 0.9219 - val_loss: 0.3193\n",
      "Epoch 41/50\n",
      "\u001b[1m8/8\u001b[0m \u001b[32m━━━━━━━━━━━━━━━━━━━━\u001b[0m\u001b[37m\u001b[0m \u001b[1m0s\u001b[0m 5ms/step - accuracy: 0.9809 - loss: 0.1628 - val_accuracy: 0.9219 - val_loss: 0.3198\n",
      "Epoch 42/50\n",
      "\u001b[1m8/8\u001b[0m \u001b[32m━━━━━━━━━━━━━━━━━━━━\u001b[0m\u001b[37m\u001b[0m \u001b[1m0s\u001b[0m 6ms/step - accuracy: 0.9838 - loss: 0.0790 - val_accuracy: 0.9219 - val_loss: 0.3237\n",
      "Epoch 43/50\n",
      "\u001b[1m8/8\u001b[0m \u001b[32m━━━━━━━━━━━━━━━━━━━━\u001b[0m\u001b[37m\u001b[0m \u001b[1m0s\u001b[0m 6ms/step - accuracy: 0.9773 - loss: 0.1032 - val_accuracy: 0.9219 - val_loss: 0.3283\n",
      "Epoch 44/50\n",
      "\u001b[1m8/8\u001b[0m \u001b[32m━━━━━━━━━━━━━━━━━━━━\u001b[0m\u001b[37m\u001b[0m \u001b[1m0s\u001b[0m 6ms/step - accuracy: 0.9892 - loss: 0.0583 - val_accuracy: 0.9219 - val_loss: 0.3344\n",
      "Epoch 45/50\n",
      "\u001b[1m8/8\u001b[0m \u001b[32m━━━━━━━━━━━━━━━━━━━━\u001b[0m\u001b[37m\u001b[0m \u001b[1m0s\u001b[0m 4ms/step - accuracy: 0.9646 - loss: 0.0620 - val_accuracy: 0.9219 - val_loss: 0.3397\n",
      "Epoch 46/50\n",
      "\u001b[1m8/8\u001b[0m \u001b[32m━━━━━━━━━━━━━━━━━━━━\u001b[0m\u001b[37m\u001b[0m \u001b[1m0s\u001b[0m 4ms/step - accuracy: 0.9640 - loss: 0.0957 - val_accuracy: 0.9219 - val_loss: 0.3436\n",
      "Epoch 47/50\n",
      "\u001b[1m8/8\u001b[0m \u001b[32m━━━━━━━━━━━━━━━━━━━━\u001b[0m\u001b[37m\u001b[0m \u001b[1m0s\u001b[0m 3ms/step - accuracy: 0.9827 - loss: 0.1142 - val_accuracy: 0.9219 - val_loss: 0.3469\n",
      "Epoch 48/50\n",
      "\u001b[1m8/8\u001b[0m \u001b[32m━━━━━━━━━━━━━━━━━━━━\u001b[0m\u001b[37m\u001b[0m \u001b[1m0s\u001b[0m 3ms/step - accuracy: 0.9646 - loss: 0.0880 - val_accuracy: 0.9219 - val_loss: 0.3510\n",
      "Epoch 49/50\n",
      "\u001b[1m8/8\u001b[0m \u001b[32m━━━━━━━━━━━━━━━━━━━━\u001b[0m\u001b[37m\u001b[0m \u001b[1m0s\u001b[0m 3ms/step - accuracy: 0.9893 - loss: 0.0771 - val_accuracy: 0.9219 - val_loss: 0.3577\n",
      "Epoch 50/50\n",
      "\u001b[1m8/8\u001b[0m \u001b[32m━━━━━━━━━━━━━━━━━━━━\u001b[0m\u001b[37m\u001b[0m \u001b[1m0s\u001b[0m 4ms/step - accuracy: 0.9789 - loss: 0.1296 - val_accuracy: 0.9219 - val_loss: 0.3604\n"
     ]
    }
   ],
   "source": [
    "# Train the model\n",
    "history = model.fit(X_train, y_train, epochs=50, batch_size=32, validation_split=0.2)\n"
   ]
  },
  {
   "cell_type": "markdown",
   "id": "8b2581d1-a360-4f31-b2a0-ff58454db6aa",
   "metadata": {},
   "source": [
    "**Model Training:**\n",
    "\n",
    "During the training process initiated by the model.fit() function, the model takes the training data (X_train, y_train) and passes it through the input layer, hidden layers, and output layer to generate outputs. Parameters such as 50 epochs specify how many times the entire dataset passes through the network, and batch_size defines the number of samples processed before updating model parameters. During backpropagation, the derivative of the loss is calculated concerning each weight in the network, and the optimizer (Adam) updates the model weights to minimize the loss. This iterative process helps the model learn and improve its performance. The model.fit() function repeats forward propagation, error calculation, and backpropagation for the specified number of epochs, allowing the model to adjust weights based on previous errors, progressively minimizing the loss and improving accuracy. This iterative learning process is crucial for achieving optimal performance in the MLP."
   ]
  },
  {
   "cell_type": "code",
   "execution_count": 187,
   "id": "4ac3b5d0-0fdc-42e2-a1d5-08f68ecb66d1",
   "metadata": {},
   "outputs": [
    {
     "name": "stdout",
     "output_type": "stream",
     "text": [
      "\u001b[1m3/3\u001b[0m \u001b[32m━━━━━━━━━━━━━━━━━━━━\u001b[0m\u001b[37m\u001b[0m \u001b[1m0s\u001b[0m 1ms/step - accuracy: 0.9328 - loss: 0.3374 \n",
      "Test Accuracy: 91.25%\n"
     ]
    }
   ],
   "source": [
    "# Evaluate the model\n",
    "test_loss, test_accuracy = model.evaluate(X_test, y_test)\n",
    "print(f\"Test Accuracy: {test_accuracy * 100:.2f}%\")"
   ]
  },
  {
   "cell_type": "markdown",
   "id": "3149b999-03d1-426f-85f4-43866371f7d2",
   "metadata": {},
   "source": [
    "**Evaluation of the Model:**\n",
    "\n",
    "\n",
    "The evaluation of the model on the test data yielded the following results:\n",
    "\n",
    "Test Accuracy: The model achieved a test accuracy of 91.25%. This indicates that the model correctly predicted the class labels for 91.25% of the test samples. This high accuracy demonstrates that the model generalizes well to new, unseen data, making it a reliable predictor for the task.\n",
    "\n",
    "Evaluation Accuracy: During the final evaluation step, the model achieved an accuracy of 93.28%. This metric reflects the accuracy of the model when predicting the class labels for the test set during the evaluation phase. This value is consistent with the test accuracy, further confirming the model's strong performance.\n",
    "\n",
    "Test Loss: The test loss was 0.3374. This value represents the model's error on the test set, with lower values indicating better performance. A loss of 0.3374 suggests that the model's predictions were close to the actual values, although there is still some room for improvement.\n",
    "\n",
    "Overall, the high test accuracy, evaluation accuracy, and relatively low test loss indicate that the model performs well in predicting the optimal NFL team members from the given player statistics."
   ]
  },
  {
   "cell_type": "code",
   "execution_count": 217,
   "id": "a386ec17-9091-4ff7-9db6-b82aac9339e2",
   "metadata": {},
   "outputs": [
    {
     "data": {
      "text/html": [
       "<pre style=\"white-space:pre;overflow-x:auto;line-height:normal;font-family:Menlo,'DejaVu Sans Mono',consolas,'Courier New',monospace\"><span style=\"font-weight: bold\">Model: \"sequential_7\"</span>\n",
       "</pre>\n"
      ],
      "text/plain": [
       "\u001b[1mModel: \"sequential_7\"\u001b[0m\n"
      ]
     },
     "metadata": {},
     "output_type": "display_data"
    },
    {
     "data": {
      "text/html": [
       "<pre style=\"white-space:pre;overflow-x:auto;line-height:normal;font-family:Menlo,'DejaVu Sans Mono',consolas,'Courier New',monospace\">┏━━━━━━━━━━━━━━━━━━━━━━━━━━━━━━━━━┳━━━━━━━━━━━━━━━━━━━━━━━━┳━━━━━━━━━━━━━━━┓\n",
       "┃<span style=\"font-weight: bold\"> Layer (type)                    </span>┃<span style=\"font-weight: bold\"> Output Shape           </span>┃<span style=\"font-weight: bold\">       Param # </span>┃\n",
       "┡━━━━━━━━━━━━━━━━━━━━━━━━━━━━━━━━━╇━━━━━━━━━━━━━━━━━━━━━━━━╇━━━━━━━━━━━━━━━┩\n",
       "│ dense_27 (<span style=\"color: #0087ff; text-decoration-color: #0087ff\">Dense</span>)                │ (<span style=\"color: #00d7ff; text-decoration-color: #00d7ff\">None</span>, <span style=\"color: #00af00; text-decoration-color: #00af00\">64</span>)             │           <span style=\"color: #00af00; text-decoration-color: #00af00\">960</span> │\n",
       "├─────────────────────────────────┼────────────────────────┼───────────────┤\n",
       "│ dense_28 (<span style=\"color: #0087ff; text-decoration-color: #0087ff\">Dense</span>)                │ (<span style=\"color: #00d7ff; text-decoration-color: #00d7ff\">None</span>, <span style=\"color: #00af00; text-decoration-color: #00af00\">64</span>)             │         <span style=\"color: #00af00; text-decoration-color: #00af00\">4,160</span> │\n",
       "├─────────────────────────────────┼────────────────────────┼───────────────┤\n",
       "│ dropout_14 (<span style=\"color: #0087ff; text-decoration-color: #0087ff\">Dropout</span>)            │ (<span style=\"color: #00d7ff; text-decoration-color: #00d7ff\">None</span>, <span style=\"color: #00af00; text-decoration-color: #00af00\">64</span>)             │             <span style=\"color: #00af00; text-decoration-color: #00af00\">0</span> │\n",
       "├─────────────────────────────────┼────────────────────────┼───────────────┤\n",
       "│ dense_29 (<span style=\"color: #0087ff; text-decoration-color: #0087ff\">Dense</span>)                │ (<span style=\"color: #00d7ff; text-decoration-color: #00d7ff\">None</span>, <span style=\"color: #00af00; text-decoration-color: #00af00\">32</span>)             │         <span style=\"color: #00af00; text-decoration-color: #00af00\">2,080</span> │\n",
       "├─────────────────────────────────┼────────────────────────┼───────────────┤\n",
       "│ dropout_15 (<span style=\"color: #0087ff; text-decoration-color: #0087ff\">Dropout</span>)            │ (<span style=\"color: #00d7ff; text-decoration-color: #00d7ff\">None</span>, <span style=\"color: #00af00; text-decoration-color: #00af00\">32</span>)             │             <span style=\"color: #00af00; text-decoration-color: #00af00\">0</span> │\n",
       "├─────────────────────────────────┼────────────────────────┼───────────────┤\n",
       "│ dense_30 (<span style=\"color: #0087ff; text-decoration-color: #0087ff\">Dense</span>)                │ (<span style=\"color: #00d7ff; text-decoration-color: #00d7ff\">None</span>, <span style=\"color: #00af00; text-decoration-color: #00af00\">1</span>)              │            <span style=\"color: #00af00; text-decoration-color: #00af00\">33</span> │\n",
       "└─────────────────────────────────┴────────────────────────┴───────────────┘\n",
       "</pre>\n"
      ],
      "text/plain": [
       "┏━━━━━━━━━━━━━━━━━━━━━━━━━━━━━━━━━┳━━━━━━━━━━━━━━━━━━━━━━━━┳━━━━━━━━━━━━━━━┓\n",
       "┃\u001b[1m \u001b[0m\u001b[1mLayer (type)                   \u001b[0m\u001b[1m \u001b[0m┃\u001b[1m \u001b[0m\u001b[1mOutput Shape          \u001b[0m\u001b[1m \u001b[0m┃\u001b[1m \u001b[0m\u001b[1m      Param #\u001b[0m\u001b[1m \u001b[0m┃\n",
       "┡━━━━━━━━━━━━━━━━━━━━━━━━━━━━━━━━━╇━━━━━━━━━━━━━━━━━━━━━━━━╇━━━━━━━━━━━━━━━┩\n",
       "│ dense_27 (\u001b[38;5;33mDense\u001b[0m)                │ (\u001b[38;5;45mNone\u001b[0m, \u001b[38;5;34m64\u001b[0m)             │           \u001b[38;5;34m960\u001b[0m │\n",
       "├─────────────────────────────────┼────────────────────────┼───────────────┤\n",
       "│ dense_28 (\u001b[38;5;33mDense\u001b[0m)                │ (\u001b[38;5;45mNone\u001b[0m, \u001b[38;5;34m64\u001b[0m)             │         \u001b[38;5;34m4,160\u001b[0m │\n",
       "├─────────────────────────────────┼────────────────────────┼───────────────┤\n",
       "│ dropout_14 (\u001b[38;5;33mDropout\u001b[0m)            │ (\u001b[38;5;45mNone\u001b[0m, \u001b[38;5;34m64\u001b[0m)             │             \u001b[38;5;34m0\u001b[0m │\n",
       "├─────────────────────────────────┼────────────────────────┼───────────────┤\n",
       "│ dense_29 (\u001b[38;5;33mDense\u001b[0m)                │ (\u001b[38;5;45mNone\u001b[0m, \u001b[38;5;34m32\u001b[0m)             │         \u001b[38;5;34m2,080\u001b[0m │\n",
       "├─────────────────────────────────┼────────────────────────┼───────────────┤\n",
       "│ dropout_15 (\u001b[38;5;33mDropout\u001b[0m)            │ (\u001b[38;5;45mNone\u001b[0m, \u001b[38;5;34m32\u001b[0m)             │             \u001b[38;5;34m0\u001b[0m │\n",
       "├─────────────────────────────────┼────────────────────────┼───────────────┤\n",
       "│ dense_30 (\u001b[38;5;33mDense\u001b[0m)                │ (\u001b[38;5;45mNone\u001b[0m, \u001b[38;5;34m1\u001b[0m)              │            \u001b[38;5;34m33\u001b[0m │\n",
       "└─────────────────────────────────┴────────────────────────┴───────────────┘\n"
      ]
     },
     "metadata": {},
     "output_type": "display_data"
    },
    {
     "data": {
      "text/html": [
       "<pre style=\"white-space:pre;overflow-x:auto;line-height:normal;font-family:Menlo,'DejaVu Sans Mono',consolas,'Courier New',monospace\"><span style=\"font-weight: bold\"> Total params: </span><span style=\"color: #00af00; text-decoration-color: #00af00\">21,701</span> (84.77 KB)\n",
       "</pre>\n"
      ],
      "text/plain": [
       "\u001b[1m Total params: \u001b[0m\u001b[38;5;34m21,701\u001b[0m (84.77 KB)\n"
      ]
     },
     "metadata": {},
     "output_type": "display_data"
    },
    {
     "data": {
      "text/html": [
       "<pre style=\"white-space:pre;overflow-x:auto;line-height:normal;font-family:Menlo,'DejaVu Sans Mono',consolas,'Courier New',monospace\"><span style=\"font-weight: bold\"> Trainable params: </span><span style=\"color: #00af00; text-decoration-color: #00af00\">7,233</span> (28.25 KB)\n",
       "</pre>\n"
      ],
      "text/plain": [
       "\u001b[1m Trainable params: \u001b[0m\u001b[38;5;34m7,233\u001b[0m (28.25 KB)\n"
      ]
     },
     "metadata": {},
     "output_type": "display_data"
    },
    {
     "data": {
      "text/html": [
       "<pre style=\"white-space:pre;overflow-x:auto;line-height:normal;font-family:Menlo,'DejaVu Sans Mono',consolas,'Courier New',monospace\"><span style=\"font-weight: bold\"> Non-trainable params: </span><span style=\"color: #00af00; text-decoration-color: #00af00\">0</span> (0.00 B)\n",
       "</pre>\n"
      ],
      "text/plain": [
       "\u001b[1m Non-trainable params: \u001b[0m\u001b[38;5;34m0\u001b[0m (0.00 B)\n"
      ]
     },
     "metadata": {},
     "output_type": "display_data"
    },
    {
     "data": {
      "text/html": [
       "<pre style=\"white-space:pre;overflow-x:auto;line-height:normal;font-family:Menlo,'DejaVu Sans Mono',consolas,'Courier New',monospace\"><span style=\"font-weight: bold\"> Optimizer params: </span><span style=\"color: #00af00; text-decoration-color: #00af00\">14,468</span> (56.52 KB)\n",
       "</pre>\n"
      ],
      "text/plain": [
       "\u001b[1m Optimizer params: \u001b[0m\u001b[38;5;34m14,468\u001b[0m (56.52 KB)\n"
      ]
     },
     "metadata": {},
     "output_type": "display_data"
    }
   ],
   "source": [
    "#Print the model summary\n",
    "model.summary()"
   ]
  },
  {
   "cell_type": "code",
   "execution_count": 218,
   "id": "7e2602dd-f683-4a16-ac72-1c77b76e5512",
   "metadata": {},
   "outputs": [
    {
     "name": "stdout",
     "output_type": "stream",
     "text": [
      "\u001b[1m3/3\u001b[0m \u001b[32m━━━━━━━━━━━━━━━━━━━━\u001b[0m\u001b[37m\u001b[0m \u001b[1m0s\u001b[0m 2ms/step \n",
      "Predicted Class Labels:\n",
      "[[1]\n",
      " [0]\n",
      " [0]\n",
      " [0]\n",
      " [0]\n",
      " [1]\n",
      " [1]\n",
      " [0]\n",
      " [1]\n",
      " [1]\n",
      " [0]\n",
      " [0]\n",
      " [0]\n",
      " [1]\n",
      " [1]\n",
      " [0]\n",
      " [1]\n",
      " [1]\n",
      " [1]\n",
      " [0]\n",
      " [1]\n",
      " [1]\n",
      " [1]\n",
      " [0]\n",
      " [0]\n",
      " [1]\n",
      " [0]\n",
      " [0]\n",
      " [1]\n",
      " [1]\n",
      " [1]\n",
      " [0]\n",
      " [0]\n",
      " [1]\n",
      " [1]\n",
      " [1]\n",
      " [0]\n",
      " [1]\n",
      " [0]\n",
      " [0]\n",
      " [0]\n",
      " [1]\n",
      " [1]\n",
      " [0]\n",
      " [0]\n",
      " [0]\n",
      " [1]\n",
      " [1]\n",
      " [1]\n",
      " [0]\n",
      " [0]\n",
      " [0]\n",
      " [1]\n",
      " [0]\n",
      " [0]\n",
      " [0]\n",
      " [1]\n",
      " [0]\n",
      " [0]\n",
      " [1]\n",
      " [0]\n",
      " [1]\n",
      " [0]\n",
      " [0]\n",
      " [1]\n",
      " [0]\n",
      " [0]\n",
      " [1]\n",
      " [1]\n",
      " [0]\n",
      " [1]\n",
      " [0]\n",
      " [1]\n",
      " [1]\n",
      " [1]\n",
      " [0]\n",
      " [1]\n",
      " [0]\n",
      " [1]\n",
      " [0]]\n",
      "Confusion Matrix:\n",
      "[[38 33]\n",
      " [ 3  6]]\n",
      "Classification Report:\n",
      "              precision    recall  f1-score   support\n",
      "\n",
      " Non-Optimal       0.93      0.54      0.68        71\n",
      "     Optimal       0.15      0.67      0.25         9\n",
      "\n",
      "    accuracy                           0.55        80\n",
      "   macro avg       0.54      0.60      0.46        80\n",
      "weighted avg       0.84      0.55      0.63        80\n",
      "\n"
     ]
    }
   ],
   "source": [
    "#Use Forward Propagation and Apply Threshold Function\n",
    "\n",
    "# Predict class labels for the test set\n",
    "y_pred = (model.predict(X_test) > 0.5).astype(\"int32\")\n",
    "\n",
    "# Print the predicted class labels\n",
    "print(\"Predicted Class Labels:\")\n",
    "print(y_pred)\n",
    "\n",
    "# Calculate the confusion matrix\n",
    "conf_matrix = confusion_matrix(y_test, y_pred)\n",
    "print(\"Confusion Matrix:\")\n",
    "print(conf_matrix)\n",
    "\n",
    "# Calculate the classification report\n",
    "class_report = classification_report(y_test, y_pred, target_names=['Non-Optimal', 'Optimal'])\n",
    "print(\"Classification Report:\")\n",
    "print(class_report)\n"
   ]
  },
  {
   "cell_type": "markdown",
   "id": "b0a0f05e-3f21-4445-8411-eaac8b2b7d92",
   "metadata": {},
   "source": [
    "*** Confusion Matrix and Classification Report Interpretation:***\n",
    "\n",
    "The confusion matrix and classification report provide a detailed analysis of the model's performance. The confusion matrix indicates that there are 6 true positives (optimal players correctly identified by the model), 38 true negatives (non-optimal players correctly identified), 33 false positives (non-optimal players incorrectly classified as optimal), and 3 false negatives (optimal players incorrectly classified as non-optimal).\n",
    "\n",
    "The classification report shows that for non-optimal players, the model has a precision of 0.93, meaning it is usually correct when predicting a player as non-optimal. However, the recall for non-optimal players is 0.54, indicating that the model identifies just over half of the actual non-optimal players. The F1-score for non-optimal players is 0.68, balancing precision and recall.\n",
    "\n",
    "For optimal players, the precision is 0.15, reflecting a high number of false positives, but the recall is 0.67, indicating the model's ability to identify a majority of the optimal players. The F1-score for optimal players is 0.25, highlighting the need for improvement in the model's ability to correctly classify optimal players.\n",
    "\n",
    "The overall accuracy of the model is 55%, suggesting moderate performance. The macro averages for precision, recall, and F1-score are 0.54, 0.60, and 0.46, respectively. The weighted averages are 0.84, 0.55, and 0.63, reflecting the imbalance in the dataset.\n",
    "\n",
    "In summary, the model performs well in identifying non-optimal players but struggles with optimal players. The high recall for optimal players indicates that the model is relatively good at identifying them, but this comes with a high false-positive rate. The overall accuracy suggests that while the model has some predictive capability, there is room for improvement, particularly in accurately distinguishing optimal players. Further model tuning and more applicable methods to our dataset characteristics may be needed to better balance precision and recall for both classes.\n",
    "\n",
    "Class imbalance might be a significant factor contributing to the model's performance. With many more non-optimal players (71) compared to optimal players (9), the model may have learned to predict the majority class (non-optimal) more effectively. Addressing this class imbalance through techniques such as oversampling the minority class, undersampling the majority class, or using class weights during training could potentially improve the model's performance."
   ]
  },
  {
   "cell_type": "code",
   "execution_count": 190,
   "id": "dac2df90-0402-4f3a-813e-445582448ac9",
   "metadata": {},
   "outputs": [
    {
     "data": {
      "image/png": "[encoded data removed]",
      "text/plain": [
       "<Figure size 1400x500 with 1 Axes>"
      ]
     },
     "metadata": {},
     "output_type": "display_data"
    }
   ],
   "source": [
    "# Plot training & validation accuracy values\n",
    "plt.figure(figsize=(14, 5))\n",
    "plt.plot(history.history['accuracy'])\n",
    "plt.plot(history.history['val_accuracy'])\n",
    "plt.title('Model accuracy')\n",
    "plt.ylabel('Accuracy')\n",
    "plt.xlabel('Epoch')\n",
    "plt.legend(['Train', 'Validation'], loc='upper left')\n",
    "plt.show()\n"
   ]
  },
  {
   "cell_type": "markdown",
   "id": "c9852afd-2462-4367-aaeb-85c2c1ffe644",
   "metadata": {},
   "source": [
    "**Interpretation of Model Accuracy Graph:**\n",
    "\n",
    "The graph shows the model's accuracy for training (blue line) and validation (orange line) over 50 epochs. It indicates:\n",
    "\n",
    "1. **Training Accuracy**: Rapid increase to nearly 100% within the first few epochs, stabilizing close to 100%.\n",
    "2. **Validation Accuracy**: Quick rise to around 90%, then stabilizes around 90-92%.\n",
    "\n",
    "The difference between the high training accuracy and the lower, stable validation accuracy suggests overfitting. The model performs well on the training data but less effectively on new, unseen data, indicating it may not generalize as well as desired. Despite this, a validation accuracy of 90-92% shows the model has reasonable predictive power on new data. Further steps like regularization or adjusting the dataset size may help reduce overfitting and improve generalization."
   ]
  },
  {
   "cell_type": "code",
   "execution_count": 191,
   "id": "8328ede7-ab1c-417d-bc2b-8d84c6c4ab99",
   "metadata": {},
   "outputs": [
    {
     "data": {
      "image/png": "[encoded data removed]",
      "text/plain": [
       "<Figure size 1400x500 with 1 Axes>"
      ]
     },
     "metadata": {},
     "output_type": "display_data"
    }
   ],
   "source": [
    "# Plot training & validation loss values\n",
    "plt.figure(figsize=(14, 5))\n",
    "plt.plot(history.history['loss'])\n",
    "plt.plot(history.history['val_loss'])\n",
    "plt.title('Model loss')\n",
    "plt.ylabel('Loss')\n",
    "plt.xlabel('Epoch')\n",
    "plt.legend(['Train', 'Validation'], loc='upper left')\n",
    "plt.show()"
   ]
  },
  {
   "cell_type": "markdown",
   "id": "0c31b072-fc06-4792-ac63-08d8e7c761ab",
   "metadata": {},
   "source": [
    "**Interpretation of Model Loss Graph:**\n",
    "\n",
    "The graph shows the model's loss for both training (blue line) and validation (orange line) over 50 epochs. \n",
    "\n",
    "1. **Training Loss**: Rapidly decreases and stabilizes at a low value, indicating the model is effectively learning from the training data.\n",
    "2. **Validation Loss**: Decreases initially but then plateaus and starts to increase slightly, indicating potential overfitting.\n",
    "\n",
    "The initial alignment of training and validation loss suggests the model was learning effectively. However, as training progresses, the validation loss increases, showing the model might be overfitting—learning the training data well but struggling to generalize to new data.\n",
    "\n",
    "This is consistent with our accuracy metrics: a high training accuracy (near 100%) but a lower and stable validation accuracy (around 90-92%). The gap between the two losses and the subsequent increase in validation loss underline the need for techniques to improve generalization, such as regularization or early stopping."
   ]
  },
  {
   "cell_type": "markdown",
   "id": "20bebaa3-1b61-40d2-9507-087820eb3c50",
   "metadata": {},
   "source": [
    "**Revisiting our Key Questions:**\n",
    "\n",
    "***Can the ANN model accurately identify and differentiate between optimal and non-optimal NFL players from the dataset?***\n",
    "\n",
    "The ANN model demonstrated an overall test accuracy of 91.25%, indicating its strong capability to differentiate between optimal and non-optimal NFL players. However, the classification report and confusion matrix revealed challenges with our model: the model achieved a precision of 0.93 for non-optimal players but only 0.15 for optimal players. This disparity suggests the model is more confident in identifying non-optimal players while struggling to accurately classify optimal players, possibly due to class imbalance or the complexity of player performance metrics.\n",
    "\n",
    "***How does the model perform when predicting the optimal team from a new pool of players compared to the training data?***\n",
    "\n",
    "When predicting the optimal team from a new pool of players, the model's accuracy remained high, but it still faced issues with classifying optimal players correctly. The validation accuracy stabilized around 92.19%, consistent with the training accuracy, indicating good generalization. However, the model's tendency to misclassify optimal players (as seen in the low recall of 0.67 for optimal players) suggests room for improvement, particularly in refining the model's sensitivity to key performance metrics that define an optimal player.\n",
    "\n",
    "***How does the model’s output assist in interpreting and selecting the optimal football team from the given dataset?***\n",
    "\n",
    "The model's output provides a probability score indicating whether a player is part of the optimal team. By applying a threshold function, we classify players into optimal or non-optimal categories. This helps in objectively selecting players based on their performance metrics. For example, top performers like Michael Vick and Tiki Barber, who scored high in rushing and passing yards respectively, were correctly identified as optimal players, validating the model's utility in selecting a well-rounded team.\n",
    "\n"
   ]
  },
  {
   "cell_type": "markdown",
   "id": "1d5cf295-49f1-4b78-b8eb-74b08ef7cfb6",
   "metadata": {},
   "source": [
    "**Potential Improvements for the Model:**\n",
    "\n",
    "**Addressing Class Imbalance**\n",
    "\n",
    "The significant imbalance between the number of optimal and non-optimal players affects the model's performance. Techniques such as oversampling the minority class (optimal players) or undersampling the majority class (non-optimal players) can help balance the training dataset. Additionally, applying advanced methods like Synthetic Minority Over-sampling Technique (SMOTE) can generate synthetic samples to further alleviate this imbalance.\n",
    "\n",
    "**Regularization Techniques and Adjusting Dropout Rate:**\n",
    "\n",
    "Regularization techniques, such as L1 or L2 regularization, can help prevent overfitting by penalizing large weights in the network. This encourages the model to find simpler, more generalizable patterns in the data, leading to better performance on unseen data. Regularization can be especially beneficial for complex models like MLPs, ensuring they do not become too reliant on any single feature or pathway, as demonstrated by Ramchoun et al. (2017) in their work on MLP architecture optimization with regularization (Ramchoun, Idrissi, Ghanou, & Ettaouil, 2017).\n",
    "\n",
    "Additionally, adjusting the dropout rate can fine-tune the regularization applied to the network. Modifying the dropout rate helps balance the trade-off between underfitting and overfitting, enhancing the model's ability to generalize from training data to unseen data."
   ]
  },
  {
   "cell_type": "markdown",
   "id": "671589ac-d5a2-4de2-88a0-056fa2bc3d2c",
   "metadata": {},
   "source": [
    "# References\n",
    "[1.] Shanker, M., Hu, M. Y., & Hung, M. S. (1996). Effect of data standardization on neural network training. *Omega, 24*(4), 385-397. https://doi.org/10.1016/0305-0483(96)00010-2\n",
    "\n",
    "[2]. Steussie, T. (n.d.). NFL Play Statistics dataset (2004 to present). *Kaggle*. https://www.kaggle.com/datasets/toddsteussie/nfl-play-statistics-dataset-2004-to-present\n",
    "\n",
    "[3.] Raschka, S., & Mirjalili, V. (2019). An Artificial Neural Network Model. In *Python Machine Learning: Machine Learning and Deep Learning with Python, scikit-learn, and TensorFlow 2* (3rd ed., p. 388). Packt Publishing.\n",
    "\n",
    "[4.] Saxena, S. (2021, March 1). Binary Cross Entropy/Log Loss for Binary Classification. *Analytics Vidhya*. https://www.analyticsvidhya.com/blog/2021/03/binary-cross-entropy-log-loss-for-binary-classification/#:~:text=Binary%20Cross%20Entropy%20is%20a,training%20by%20penalizing%20inaccurate%20predictions\n",
    "\n",
    "[5.] Ramchoun, H., Idrissi, M., Ghanou, Y., & Ettaouil, M. (2017). New Modeling of Multilayer Perceptron Architecture Optimization with Regularization: An Application to Pattern Classification. *IAENG International Journal of Computer Science, 44*(3), 261-269. https://www.researchgate.net/publication/319234445_New_Modeling_of_Multilayer_Perceptron_Architecture_Optimization_with_Regularization_An_Application_to_Pattern_Classification\n",
    "\n",
    "[6.] Cormier, J. (2020, April 24). How Neural Networks Can Predict Performance in The NFL. *The Sports Scientist*. https://medium.com/the-sports-scientist/how-neural-networks-can-predict-performance-in-the-nfl-24fa845c1d15\n"
   ]
  },
  {
   "cell_type": "code",
   "execution_count": null,
   "id": "4661bab6-56bf-465a-9ff3-e61008f52e79",
   "metadata": {},
   "outputs": [],
   "source": []
  }
 ],
 "metadata": {
  "kernelspec": {
   "display_name": "Python 3 (ipykernel)",
   "language": "python",
   "name": "python3"
  },
  "language_info": {
   "codemirror_mode": {
    "name": "ipython",
    "version": 3
   },
   "file_extension": ".py",
   "mimetype": "text/x-python",
   "name": "python",
   "nbconvert_exporter": "python",
   "pygments_lexer": "ipython3",
   "version": "3.10.9"
  }
 },
 "nbformat": 4,
 "nbformat_minor": 5
}
