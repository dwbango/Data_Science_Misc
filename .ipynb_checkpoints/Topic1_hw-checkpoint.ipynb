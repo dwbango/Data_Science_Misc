{
 "cells": [
  {
   "cell_type": "code",
   "execution_count": null,
   "id": "6ffc501a-e05c-4d4f-8459-fc15b1042d23",
   "metadata": {},
   "outputs": [],
   "source": [
    "# Don\n",
    "# Dr. Ofori\n",
    "# DSC-510 Python Proficiency with statistics\n",
    "#September 2023"
   ]
  },
  {
   "cell_type": "code",
   "execution_count": 1,
   "id": "93ec5738-2ef2-4755-a196-3c65a66e873e",
   "metadata": {},
   "outputs": [],
   "source": [
    "import pandas as pd\n",
    "import random"
   ]
  },
  {
   "cell_type": "code",
   "execution_count": 20,
   "id": "6c8ad9c4-8148-4454-9cd8-34d9eb991908",
   "metadata": {},
   "outputs": [],
   "source": [
    "# Generate synthetic data\n",
    "data = {\n",
    "    'Participant ID': [random.randint(100, 999) for _ in range(100)],\n",
    "    'Exercise group': [random.choice([\"jogging\", \"weightlifting\", \"yoga\"]) for _ in range(100)],\n",
    "    'Pre-exercise systolic blood pressure': [random.randint(95, 145) for _ in range(100)],\n",
    "    'Post-exercise systolic blood pressure': [random.randint(90, 150) for _ in range(100)],\n",
    "}\n",
    "\n",
    "# Create a DataFrame\n",
    "df = pd.DataFrame(data)\n",
    "\n",
    "# Save the DataFrame as a CSV file\n",
    "df.to_csv('exercise_data.csv', index=False)"
   ]
  },
  {
   "cell_type": "code",
   "execution_count": 21,
   "id": "e4c71006-ad07-478b-acfa-31d0d7b7b07d",
   "metadata": {},
   "outputs": [],
   "source": [
    "#Computational Aspect: Synthetic data is generated using Python's random module to emulate the characteristics\n",
    "#of the study. The data includes participant IDs, exercise groups, and pre- and post-exercise blood pressure measurements.\n",
    "\n",
    "#Statistical Aspect: There is no direct statistical analysis involved in this data generation.\n",
    "#This task establishes the groundwork for future statistical analysis, as it provides data for the subsequent analysis, \n",
    "#ensuring that the dataset matches the study's description."
   ]
  },
  {
   "cell_type": "code",
   "execution_count": 22,
   "id": "20609854-0304-4000-9a3d-79647d52cdf3",
   "metadata": {},
   "outputs": [
    {
     "name": "stdout",
     "output_type": "stream",
     "text": [
      "Number of vowels in weightlifting: 4\n"
     ]
    }
   ],
   "source": [
    "def count_vowels(exercise_group):\n",
    "    vowels = \"aeiouAEIOU\"\n",
    "    return sum(1 for char in exercise_group if char in vowels)\n",
    "\n",
    "# Example:\n",
    "exercise_group = \"weightlifting\"\n",
    "vowel_count = count_vowels(exercise_group)\n",
    "print(f\"Number of vowels in {exercise_group}: {vowel_count}\")"
   ]
  },
  {
   "cell_type": "code",
   "execution_count": 23,
   "id": "fb693ce9-0e9b-43b3-b78d-b2c304b87ad4",
   "metadata": {},
   "outputs": [],
   "source": [
    "#Computational Aspect: The function count_vowels takes an exercise group name \n",
    "#as the input and uses a Python loop to count the vowels in the given string.\n",
    "\n",
    "#Statistical Aspect: This task can be useful for text processing or summarizing group names."
   ]
  },
  {
   "cell_type": "code",
   "execution_count": 24,
   "id": "4d01ad97-5278-426c-906c-b7437da6e14f",
   "metadata": {},
   "outputs": [
    {
     "name": "stdout",
     "output_type": "stream",
     "text": [
      "Highest pre-exercise BP in yoga:\n",
      "    Participant ID Exercise group  Pre-exercise systolic blood pressure  \\\n",
      "17             277           yoga                                   144   \n",
      "98             617           yoga                                   144   \n",
      "\n",
      "    Post-exercise systolic blood pressure  \n",
      "17                                    139  \n",
      "98                                    118  \n",
      "Highest pre-exercise BP in weightlifting:\n",
      "    Participant ID Exercise group  Pre-exercise systolic blood pressure  \\\n",
      "65             478  weightlifting                                   142   \n",
      "\n",
      "    Post-exercise systolic blood pressure  \n",
      "65                                     93  \n",
      "Highest pre-exercise BP in jogging:\n",
      "    Participant ID Exercise group  Pre-exercise systolic blood pressure  \\\n",
      "18             141        jogging                                   145   \n",
      "\n",
      "    Post-exercise systolic blood pressure  \n",
      "18                                    118  \n"
     ]
    }
   ],
   "source": [
    "df = pd.read_csv('exercise_data.csv')\n",
    "\n",
    "for group in df['Exercise group'].unique():\n",
    "    max_pre_bp = df[df['Exercise group'] == group]['Pre-exercise systolic blood pressure'].max()\n",
    "    participant = df[(df['Exercise group'] == group) & (df['Pre-exercise systolic blood pressure'] == max_pre_bp)]\n",
    "    print(f\"Highest pre-exercise BP in {group}:\")\n",
    "    print(participant)"
   ]
  },
  {
   "cell_type": "code",
   "execution_count": 25,
   "id": "76977b62-e915-45f1-939e-4b6e3f9ad285",
   "metadata": {},
   "outputs": [],
   "source": [
    "# Computational Aspect: This task involves reading the CSV data into a DataFrame using pandas. \n",
    "# Then, it uses pandas' functionality to filter and find the participant with the highest\n",
    "# pre-exercise systolic blood pressure in each exercise group.\n",
    "\n",
    "# Statistical Aspect: This task identifies the participant with the highest pre-exercise blood pressure in each group, \n",
    "# which can be valuable for understanding the range and distribution of pre-exercise blood pressures within each group."
   ]
  },
  {
   "cell_type": "code",
   "execution_count": 26,
   "id": "ceeeaf4d-54ef-44ad-a1dd-9fc0d918f9e7",
   "metadata": {},
   "outputs": [
    {
     "name": "stdout",
     "output_type": "stream",
     "text": [
      "Even Participant IDs: [2, 4, 6, 8, 10]\n"
     ]
    }
   ],
   "source": [
    "def extract_even_ids(participant_ids):\n",
    "    return [id for id in participant_ids if id % 2 == 0]\n",
    "\n",
    "# Example usage:\n",
    "participant_ids = [1, 2, 3, 4, 5, 6, 7, 8, 9, 10]\n",
    "even_ids = extract_even_ids(participant_ids)\n",
    "print(\"Even Participant IDs:\", even_ids)"
   ]
  },
  {
   "cell_type": "code",
   "execution_count": 27,
   "id": "49cb0519-dd3e-4582-91f9-1f0283ed617b",
   "metadata": {},
   "outputs": [
    {
     "name": "stdout",
     "output_type": "stream",
     "text": [
      "Even Participant IDs: [264, 720, 308, 496, 762, 132, 592, 260, 448, 968, 258, 814, 508, 728, 600, 976, 208, 258, 808, 152, 980, 780, 310, 110, 900, 916, 526, 208, 400, 320, 152, 418, 434, 478, 334, 434, 492, 500, 204, 332, 684, 938, 900]\n"
     ]
    }
   ],
   "source": [
    "# Read the CSV data into a DataFrame\n",
    "df = pd.read_csv('exercise_data.csv')\n",
    "\n",
    "# Extract the \"Participant ID\" column\n",
    "participant_ids = df['Participant ID']\n",
    "\n",
    "# Define the extract_even_ids function\n",
    "def extract_even_ids(participant_ids):\n",
    "    return [id for id in participant_ids if id % 2 == 0]\n",
    "\n",
    "# Apply the extract_even_ids function\n",
    "even_ids = extract_even_ids(participant_ids)\n",
    "\n",
    "# Print the even participant IDs\n",
    "print(\"Even Participant IDs:\", even_ids)"
   ]
  },
  {
   "cell_type": "code",
   "execution_count": 28,
   "id": "af99101a-b021-4d47-b8c0-a834e80593ae",
   "metadata": {},
   "outputs": [],
   "source": [
    "# Computational Aspect: The extract_even_ids function iterates through a list of participant IDs, \n",
    "# checking each ID to see if it is even. If an ID is even (divisible by 2), it's included in the output list.\n",
    "\n",
    "# Statistical Aspect: Although this task involves primarily data processing. It enables researchers to create \n",
    "# specific subsets for potential statistical analysis, assisting in the exploration of patterns or differences\n",
    "# among even-numbered participants."
   ]
  },
  {
   "cell_type": "code",
   "execution_count": 29,
   "id": "33c14cc4-a1a8-44e5-99a3-71652f2889ea",
   "metadata": {},
   "outputs": [
    {
     "name": "stdout",
     "output_type": "stream",
     "text": [
      "Average monthly blood pressure change for yoga: -3.897\n",
      "Average monthly blood pressure change for weightlifting: -1.757\n",
      "Average monthly blood pressure change for jogging: -1.706\n"
     ]
    }
   ],
   "source": [
    "# Read the CSV data into a DataFrame\n",
    "#df = pd.read_csv('exercise_data.csv')\n",
    "\n",
    "for group in df['Exercise group'].unique():\n",
    "    group_df = df[df['Exercise group'] == group]\n",
    "    \n",
    "    # Calculate the average monthly blood pressure change and round to two decimal places\n",
    "    avg_change = round((group_df['Post-exercise systolic blood pressure'] - \n",
    "                        group_df['Pre-exercise systolic blood pressure']).mean(), 3)\n",
    "    \n",
    "    print(f\"Average monthly blood pressure change for {group}: {avg_change}\")"
   ]
  },
  {
   "cell_type": "code",
   "execution_count": 30,
   "id": "7ac0c916-dd3c-4b40-90a1-8c9645746825",
   "metadata": {},
   "outputs": [],
   "source": [
    "# Computational Aspect: The task reads the CSV data and uses pandas to group data by exercise group. \n",
    "# Then, it calculates the average monthly change in blood pressure for each group by subtracting \n",
    "# pre-exercise from post-exercise measurements.\n",
    "\n",
    "# Statistical Aspect: This task provides insight into the average changes in blood pressure over time \n",
    "# for each exercise group, helping assess the effectiveness of the exercise regimens in reducing blood pressure."
   ]
  },
  {
   "cell_type": "code",
   "execution_count": 31,
   "id": "f36111e6-b409-47f0-b49e-518dff876eb2",
   "metadata": {},
   "outputs": [
    {
     "name": "stdout",
     "output_type": "stream",
     "text": [
      "Blood Pressure Differences: [-10, -5, -5]\n"
     ]
    }
   ],
   "source": [
    "def compare_blood_pressure(pre_bp, post_bp):\n",
    "    return [post - pre for pre, post in zip(pre_bp, post_bp)]\n",
    "\n",
    "# Example usage:\n",
    "pre_bp = [120, 130, 140]\n",
    "post_bp = [110, 125, 135]\n",
    "differences = compare_blood_pressure(pre_bp, post_bp)\n",
    "print(\"Blood Pressure Differences:\", differences)"
   ]
  },
  {
   "cell_type": "code",
   "execution_count": 32,
   "id": "81a792d5-10d4-47c9-9023-04b8854bf21a",
   "metadata": {},
   "outputs": [],
   "source": [
    "# Computational Aspect: Using numpy, the function compare_blood_pressure calculates \n",
    "# the differences between pre- and post-exercise blood pressure.\n",
    "\n",
    "# Statistical Aspect: This task computes individual blood pressure changes from the lists and \n",
    "# analyzes the effectiveness of the exercise regimens. These differences can be used for further \n",
    "# statistical analysis, such as calculating means and standard deviations."
   ]
  },
  {
   "cell_type": "code",
   "execution_count": 33,
   "id": "353117cf-d2e4-4313-9471-aabcb7234d00",
   "metadata": {},
   "outputs": [
    {
     "name": "stdout",
     "output_type": "stream",
     "text": [
      "Total Blood Pressure Reduction by Exercise Group:\n",
      "                Pre-exercise systolic blood pressure  \\\n",
      "Exercise group                                         \n",
      "jogging                                         4135   \n",
      "weightlifting                                   4341   \n",
      "yoga                                            3587   \n",
      "\n",
      "                Post-exercise systolic blood pressure  Total Reduction  \n",
      "Exercise group                                                          \n",
      "jogging                                          4077               58  \n",
      "weightlifting                                    4276               65  \n",
      "yoga                                             3474              113  \n"
     ]
    }
   ],
   "source": [
    "df = pd.read_csv('exercise_data.csv')\n",
    "\n",
    "# Group by 'Exercise group' and calculate the sum of 'Pre-exercise systolic blood pressure' and 'Post-exercise systolic blood pressure'\n",
    "group_reduction = df.groupby('Exercise group')[['Pre-exercise systolic blood pressure', 'Post-exercise systolic blood pressure']].sum()\n",
    "\n",
    "# Calculate the total blood pressure reduction for each exercise group\n",
    "group_reduction['Total Reduction'] = group_reduction['Pre-exercise systolic blood pressure'] - group_reduction['Post-exercise systolic blood pressure']\n",
    "\n",
    "print(\"Total Blood Pressure Reduction by Exercise Group:\")\n",
    "print(group_reduction)"
   ]
  },
  {
   "cell_type": "code",
   "execution_count": 34,
   "id": "216daafc-c2ac-4477-8e5e-671ae39d51b7",
   "metadata": {},
   "outputs": [],
   "source": [
    "# Computational Aspect: This task uses pandas to group data by exercise group \n",
    "# then, calculates the total blood pressure reduction by subtracting the sum of post-exercise blood pressures \n",
    "# from the sum of pre-exercise blood pressures.\n",
    "\n",
    "# Statistical Aspect: The task provides a summary of the total blood pressure reduction for each exercise \n",
    "# group, allowing the researcher to compare the effectiveness of different exercise regimens in reducing blood pressure."
   ]
  }
 ],
 "metadata": {
  "kernelspec": {
   "display_name": "Python 3 (ipykernel)",
   "language": "python",
   "name": "python3"
  },
  "language_info": {
   "codemirror_mode": {
    "name": "ipython",
    "version": 3
   },
   "file_extension": ".py",
   "mimetype": "text/x-python",
   "name": "python",
   "nbconvert_exporter": "python",
   "pygments_lexer": "ipython3",
   "version": "3.10.9"
  },
  "toc-autonumbering": false,
  "toc-showmarkdowntxt": false
 },
 "nbformat": 4,
 "nbformat_minor": 5
}
