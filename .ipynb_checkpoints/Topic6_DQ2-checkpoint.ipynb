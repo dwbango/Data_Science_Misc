{
 "cells": [
  {
   "cell_type": "code",
   "execution_count": null,
   "id": "a835b3fa-b67e-435d-966d-4f5e3fdfd26a",
   "metadata": {},
   "outputs": [],
   "source": [
    "# Don\n",
    "# Dr. Ofori\n",
    "# Topic 6 DQ 2\n",
    "# 23 October 2023\n",
    "# Youtube Video: https://youtu.be/AA-gLS-2ID0"
   ]
  },
  {
   "cell_type": "code",
   "execution_count": 5,
   "id": "b3594df2-aad5-4f90-8b5b-2669c395a176",
   "metadata": {},
   "outputs": [
    {
     "data": {
      "text/plain": [
       "\" \\nScenario:\\nYou are a nutritionist working at a health clinic. Over the last year, you have introduced a new dietary \\nplan to combat high blood pressure, and you have been monitoring the blood pressure levels of a group of patients \\nbefore and after introducing them to this diet. Your goal is to determine if there's a significant change in the \\nblood pressure of the patients after following the diet.\\n\""
      ]
     },
     "execution_count": 5,
     "metadata": {},
     "output_type": "execute_result"
    }
   ],
   "source": [
    "''' \n",
    "Scenario:\n",
    "You are a nutritionist working at a health clinic. Over the last year, you have introduced a new dietary \n",
    "plan to combat high blood pressure, and you have been monitoring the blood pressure levels of a group of patients \n",
    "before and after introducing them to this diet. Your goal is to determine if there's a significant change in the \n",
    "blood pressure of the patients after following the diet.\n",
    "'''"
   ]
  },
  {
   "cell_type": "code",
   "execution_count": null,
   "id": "7bed3465-e063-4766-8867-3789149bf83d",
   "metadata": {},
   "outputs": [],
   "source": [
    "'''\n",
    "Descrbing the Data:\n",
    "\n",
    "We have carefully collected blood pressure data from a sample of 50 patients enrolled in our nutrition program\n",
    "at a health clinic. For each patient, two measurements were taken. \n",
    "\n",
    "The first set, labeled as `before_diet`, represents the blood pressure levels recorded before the patients \n",
    "started their new dietary regimen. These values provide a baseline, painting a picture of each patient's \n",
    "initial health state. \n",
    "\n",
    "The second set, labeled as `after_diet`, corresponds to readings taken after these patients had consistently \n",
    "followed the diet for a period of three months. This data structure allows for a direct comparison \n",
    "of health outcomes, aiming to gauge the efficacy of the introduced dietary plan in managing blood pressure.\n",
    "'''"
   ]
  },
  {
   "cell_type": "code",
   "execution_count": null,
   "id": "5e79c2e2-be57-4335-825e-26f41a76a219",
   "metadata": {},
   "outputs": [],
   "source": [
    "'''\n",
    "Research Question:\n",
    "Has the new dietary plan led to a significant reduction in the blood pressure levels of the patients?\n",
    "'''"
   ]
  },
  {
   "cell_type": "code",
   "execution_count": null,
   "id": "738a1b07-06f3-4381-ae81-26d00ff31bcb",
   "metadata": {},
   "outputs": [],
   "source": [
    "'''\n",
    "Null Hypothesis (H0): There is no significant difference in the blood pressure levels of patients \n",
    "before and after the dietary regimen. Any observed difference is due to random chance.\n",
    "\n",
    "Alternative Hypothesis (H1): There is a significant difference in the blood pressure levels of patients before \n",
    "and after the dietary regimen, indicating that the diet has had an effect.\n",
    "'''"
   ]
  },
  {
   "cell_type": "code",
   "execution_count": 4,
   "id": "c44f4b91-78df-4747-8346-b4fb18946498",
   "metadata": {},
   "outputs": [
    {
     "name": "stdout",
     "output_type": "stream",
     "text": [
      "T-statistic: 20.362\n",
      "P-value: 0.000\n"
     ]
    },
    {
     "data": {
      "image/png": "[encoded data removed]",
      "text/plain": [
       "<Figure size 640x480 with 1 Axes>"
      ]
     },
     "metadata": {},
     "output_type": "display_data"
    }
   ],
   "source": [
    "import numpy as np\n",
    "from scipy.stats import ttest_rel\n",
    "import seaborn as sns\n",
    "import matplotlib.pyplot as plt\n",
    "\n",
    "# Simulating data\n",
    "np.random.seed(42)\n",
    "before_diet = np.random.normal(140, 10, 50)  # Assuming an average BP of 140 with a std deviation of 10\n",
    "after_diet = before_diet - np.random.normal(5, 2, 50)  # Assuming an average reduction of 5 with a std deviation of 2\n",
    "\n",
    "# Paired Sample t-test\n",
    "t_stat, p_value = ttest_rel(before_diet, after_diet)\n",
    "\n",
    "print(f\"T-statistic: {t_stat:.3f}\")\n",
    "print(f\"P-value: {p_value:.3f}\")\n",
    "\n",
    "# Visualization\n",
    "sns.boxplot(data=[before_diet, after_diet])\n",
    "plt.xticks([0, 1], [\"Before Diet\", \"After Diet\"])\n",
    "plt.title(\"Blood Pressure Levels Before and After Diet\")\n",
    "plt.ylabel(\"Blood Pressure\")\n",
    "plt.show()\n"
   ]
  },
  {
   "cell_type": "code",
   "execution_count": null,
   "id": "9a0b7a1b-a340-4e29-9b5a-38da4ed92e66",
   "metadata": {},
   "outputs": [],
   "source": [
    "'''\n",
    "Check Assumptions:\n",
    "# Pairing: Observations in the datasets are paired, usually from \"before-and-after\" measurements \n",
    "or repeated measurements on the same subjects (pre and post treatment).\n",
    "# Interval or Ratio Scale: The outcome being measured is continuous\n",
    "# Normality of Differences: The differences between the paired observations are approximately normally distributed.\n",
    "# Independence: The differences between paired observations are independent of each other.\n",
    "# Random Sampling: Data pairs represent a random sample from the population, ensuring results can be generalized.\n",
    "# Absence of Outliers: There should not be significant outliers in the differences between paired observations.\n",
    "'''"
   ]
  },
  {
   "cell_type": "code",
   "execution_count": null,
   "id": "53df4e3d-2b82-4645-b8c7-377bde564646",
   "metadata": {},
   "outputs": [],
   "source": [
    "''' Interpretation of p-value\n",
    "The t-statistic value of 20.362 is indicative of a substantial difference between the blood pressure levels \n",
    "before and after the diet. A p-value of 0.000, which is below our selected significance threshold of 0.05,\n",
    "provides strong evidence against the null hypothesis. We conclude that there is a statistically significant \n",
    "reduction in blood pressure levels after patients followed the diet for three months. \n",
    "and the new dietary plan appears to have had a positive effect on the blood pressure levels of the patients \n",
    "in our sample.\n",
    "'''"
   ]
  },
  {
   "cell_type": "code",
   "execution_count": null,
   "id": "efcb854e-de19-4d65-b894-d35385cb3de7",
   "metadata": {},
   "outputs": [],
   "source": [
    "'''\n",
    "Real-world Implications:\n",
    "Since the p-value is less than 0.05, we conclude that the diet has a significant effect on reducing blood pressure. \n",
    "\n",
    "these findings could be used to:\n",
    "Advocate for the recommended continued use of the diet to patients with high blood pressure.\n",
    "Make a case/ plan for further research or potential modifications to the diet plan.\n",
    "Inform patients about the efficacy of the diet in managing high blood pressure.\n",
    "'''"
   ]
  },
  {
   "cell_type": "code",
   "execution_count": null,
   "id": "a14a0c10-b797-4db9-97a7-cae38534ff5c",
   "metadata": {},
   "outputs": [],
   "source": [
    "'''\n",
    "Python Tools:\n",
    "numpy: For numerical operations, data simulations, and array manipulations.\n",
    "scipy.stats: For conducting statistical tests, like the Paired Sample t-test.\n",
    "seaborn: For statistical data visualization, like generating box plots to compare blood pressure levels \n",
    "before and after the diet.\n",
    "matplotlib.pyplot: For plotting features and customizing visualizations\n",
    "'''"
   ]
  },
  {
   "cell_type": "code",
   "execution_count": null,
   "id": "c7f8ab6e-0a7a-49f2-96ae-f4ec7cbf8837",
   "metadata": {},
   "outputs": [],
   "source": [
    "# Reference:\n",
    "# Rogel-Salazar, J. (2022). Statistics and Data Visualization with Python. CRC Press/Taylor & Francis Group."
   ]
  }
 ],
 "metadata": {
  "kernelspec": {
   "display_name": "Python 3 (ipykernel)",
   "language": "python",
   "name": "python3"
  },
  "language_info": {
   "codemirror_mode": {
    "name": "ipython",
    "version": 3
   },
   "file_extension": ".py",
   "mimetype": "text/x-python",
   "name": "python",
   "nbconvert_exporter": "python",
   "pygments_lexer": "ipython3",
   "version": "3.10.9"
  }
 },
 "nbformat": 4,
 "nbformat_minor": 5
}
