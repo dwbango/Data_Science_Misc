{
 "cells": [
  {
   "cell_type": "code",
   "execution_count": 41,
   "id": "0e4f434a-f57d-475f-b84b-b7f8747d880a",
   "metadata": {},
   "outputs": [],
   "source": [
    "import numpy as np\n",
    "import pandas as pd\n",
    "import matplotlib.pyplot as plt\n",
    "import seaborn as sns"
   ]
  },
  {
   "cell_type": "code",
   "execution_count": 2,
   "id": "c9b0de20-9f59-47c2-990b-2d06e2f845c8",
   "metadata": {},
   "outputs": [],
   "source": [
    "# Load Dataset\n",
    "credit = pd.read_csv('/Users/don/Downloads/credit_record.csv')\n",
    "application = pd.read_csv('/Users/don/Downloads/application_record.csv')"
   ]
  },
  {
   "cell_type": "code",
   "execution_count": 4,
   "id": "b176ffc4-d467-4a23-bf61-90a910dd136c",
   "metadata": {},
   "outputs": [],
   "source": [
    "# merge dataset by client ID\n",
    "credit_app = pd.merge(credit, application, on='ID')\n",
    "\n",
    "#print(credit_app.head())\n"
   ]
  },
  {
   "cell_type": "code",
   "execution_count": null,
   "id": "121d8a7b-9dc1-4692-a34f-1e15e4efe51b",
   "metadata": {},
   "outputs": [],
   "source": [
    "'''\n",
    "INITIAL EXPLORATORY TASKS:\n",
    "Display representative portions of the data\n",
    "'''"
   ]
  },
  {
   "cell_type": "code",
   "execution_count": null,
   "id": "0d06eb77-c316-4c18-87d1-47f2903fb26a",
   "metadata": {},
   "outputs": [],
   "source": [
    "print(credit_app.head())\n",
    "#print(credit_app.tail())"
   ]
  },
  {
   "cell_type": "code",
   "execution_count": 5,
   "id": "81730e15-0d6d-4486-a0d6-077919353ab8",
   "metadata": {},
   "outputs": [
    {
     "name": "stdout",
     "output_type": "stream",
     "text": [
      "<class 'pandas.core.frame.DataFrame'>\n",
      "Int64Index: 777715 entries, 0 to 777714\n",
      "Data columns (total 20 columns):\n",
      " #   Column               Non-Null Count   Dtype  \n",
      "---  ------               --------------   -----  \n",
      " 0   ID                   777715 non-null  int64  \n",
      " 1   MONTHS_BALANCE       777715 non-null  int64  \n",
      " 2   STATUS               777715 non-null  object \n",
      " 3   CODE_GENDER          777715 non-null  object \n",
      " 4   FLAG_OWN_CAR         777715 non-null  object \n",
      " 5   FLAG_OWN_REALTY      777715 non-null  object \n",
      " 6   CNT_CHILDREN         777715 non-null  int64  \n",
      " 7   AMT_INCOME_TOTAL     777715 non-null  float64\n",
      " 8   NAME_INCOME_TYPE     777715 non-null  object \n",
      " 9   NAME_EDUCATION_TYPE  777715 non-null  object \n",
      " 10  NAME_FAMILY_STATUS   777715 non-null  object \n",
      " 11  NAME_HOUSING_TYPE    777715 non-null  object \n",
      " 12  DAYS_BIRTH           777715 non-null  int64  \n",
      " 13  DAYS_EMPLOYED        777715 non-null  int64  \n",
      " 14  FLAG_MOBIL           777715 non-null  int64  \n",
      " 15  FLAG_WORK_PHONE      777715 non-null  int64  \n",
      " 16  FLAG_PHONE           777715 non-null  int64  \n",
      " 17  FLAG_EMAIL           777715 non-null  int64  \n",
      " 18  OCCUPATION_TYPE      537667 non-null  object \n",
      " 19  CNT_FAM_MEMBERS      777715 non-null  float64\n",
      "dtypes: float64(2), int64(9), object(9)\n",
      "memory usage: 124.6+ MB\n"
     ]
    }
   ],
   "source": [
    "(credit_app.info())"
   ]
  },
  {
   "cell_type": "code",
   "execution_count": 6,
   "id": "46c4fffa-afee-453e-b6fe-9ee453b53186",
   "metadata": {},
   "outputs": [
    {
     "data": {
      "text/html": [
       "<div>\n",
       "<style scoped>\n",
       "    .dataframe tbody tr th:only-of-type {\n",
       "        vertical-align: middle;\n",
       "    }\n",
       "\n",
       "    .dataframe tbody tr th {\n",
       "        vertical-align: top;\n",
       "    }\n",
       "\n",
       "    .dataframe thead th {\n",
       "        text-align: right;\n",
       "    }\n",
       "</style>\n",
       "<table border=\"1\" class=\"dataframe\">\n",
       "  <thead>\n",
       "    <tr style=\"text-align: right;\">\n",
       "      <th></th>\n",
       "      <th>ID</th>\n",
       "      <th>MONTHS_BALANCE</th>\n",
       "      <th>CNT_CHILDREN</th>\n",
       "      <th>AMT_INCOME_TOTAL</th>\n",
       "      <th>DAYS_BIRTH</th>\n",
       "      <th>DAYS_EMPLOYED</th>\n",
       "      <th>FLAG_MOBIL</th>\n",
       "      <th>FLAG_WORK_PHONE</th>\n",
       "      <th>FLAG_PHONE</th>\n",
       "      <th>FLAG_EMAIL</th>\n",
       "      <th>CNT_FAM_MEMBERS</th>\n",
       "    </tr>\n",
       "  </thead>\n",
       "  <tbody>\n",
       "    <tr>\n",
       "      <th>count</th>\n",
       "      <td>7.777150e+05</td>\n",
       "      <td>777715.000000</td>\n",
       "      <td>777715.000000</td>\n",
       "      <td>7.777150e+05</td>\n",
       "      <td>777715.000000</td>\n",
       "      <td>777715.000000</td>\n",
       "      <td>777715.0</td>\n",
       "      <td>777715.000000</td>\n",
       "      <td>777715.000000</td>\n",
       "      <td>777715.000000</td>\n",
       "      <td>777715.000000</td>\n",
       "    </tr>\n",
       "    <tr>\n",
       "      <th>mean</th>\n",
       "      <td>5.078743e+06</td>\n",
       "      <td>-19.373564</td>\n",
       "      <td>0.428082</td>\n",
       "      <td>1.885348e+05</td>\n",
       "      <td>-16124.937046</td>\n",
       "      <td>57775.825016</td>\n",
       "      <td>1.0</td>\n",
       "      <td>0.231818</td>\n",
       "      <td>0.300965</td>\n",
       "      <td>0.091675</td>\n",
       "      <td>2.208837</td>\n",
       "    </tr>\n",
       "    <tr>\n",
       "      <th>std</th>\n",
       "      <td>4.180442e+04</td>\n",
       "      <td>14.082208</td>\n",
       "      <td>0.745755</td>\n",
       "      <td>1.016225e+05</td>\n",
       "      <td>4104.304018</td>\n",
       "      <td>136471.735391</td>\n",
       "      <td>0.0</td>\n",
       "      <td>0.421993</td>\n",
       "      <td>0.458678</td>\n",
       "      <td>0.288567</td>\n",
       "      <td>0.907380</td>\n",
       "    </tr>\n",
       "    <tr>\n",
       "      <th>min</th>\n",
       "      <td>5.008804e+06</td>\n",
       "      <td>-60.000000</td>\n",
       "      <td>0.000000</td>\n",
       "      <td>2.700000e+04</td>\n",
       "      <td>-25152.000000</td>\n",
       "      <td>-15713.000000</td>\n",
       "      <td>1.0</td>\n",
       "      <td>0.000000</td>\n",
       "      <td>0.000000</td>\n",
       "      <td>0.000000</td>\n",
       "      <td>1.000000</td>\n",
       "    </tr>\n",
       "    <tr>\n",
       "      <th>25%</th>\n",
       "      <td>5.044568e+06</td>\n",
       "      <td>-29.000000</td>\n",
       "      <td>0.000000</td>\n",
       "      <td>1.215000e+05</td>\n",
       "      <td>-19453.000000</td>\n",
       "      <td>-3292.000000</td>\n",
       "      <td>1.0</td>\n",
       "      <td>0.000000</td>\n",
       "      <td>0.000000</td>\n",
       "      <td>0.000000</td>\n",
       "      <td>2.000000</td>\n",
       "    </tr>\n",
       "    <tr>\n",
       "      <th>50%</th>\n",
       "      <td>5.069530e+06</td>\n",
       "      <td>-17.000000</td>\n",
       "      <td>0.000000</td>\n",
       "      <td>1.620000e+05</td>\n",
       "      <td>-15760.000000</td>\n",
       "      <td>-1682.000000</td>\n",
       "      <td>1.0</td>\n",
       "      <td>0.000000</td>\n",
       "      <td>0.000000</td>\n",
       "      <td>0.000000</td>\n",
       "      <td>2.000000</td>\n",
       "    </tr>\n",
       "    <tr>\n",
       "      <th>75%</th>\n",
       "      <td>5.115551e+06</td>\n",
       "      <td>-8.000000</td>\n",
       "      <td>1.000000</td>\n",
       "      <td>2.250000e+05</td>\n",
       "      <td>-12716.000000</td>\n",
       "      <td>-431.000000</td>\n",
       "      <td>1.0</td>\n",
       "      <td>0.000000</td>\n",
       "      <td>1.000000</td>\n",
       "      <td>0.000000</td>\n",
       "      <td>3.000000</td>\n",
       "    </tr>\n",
       "    <tr>\n",
       "      <th>max</th>\n",
       "      <td>5.150487e+06</td>\n",
       "      <td>0.000000</td>\n",
       "      <td>19.000000</td>\n",
       "      <td>1.575000e+06</td>\n",
       "      <td>-7489.000000</td>\n",
       "      <td>365243.000000</td>\n",
       "      <td>1.0</td>\n",
       "      <td>1.000000</td>\n",
       "      <td>1.000000</td>\n",
       "      <td>1.000000</td>\n",
       "      <td>20.000000</td>\n",
       "    </tr>\n",
       "  </tbody>\n",
       "</table>\n",
       "</div>"
      ],
      "text/plain": [
       "                 ID  MONTHS_BALANCE   CNT_CHILDREN  AMT_INCOME_TOTAL  \\\n",
       "count  7.777150e+05   777715.000000  777715.000000      7.777150e+05   \n",
       "mean   5.078743e+06      -19.373564       0.428082      1.885348e+05   \n",
       "std    4.180442e+04       14.082208       0.745755      1.016225e+05   \n",
       "min    5.008804e+06      -60.000000       0.000000      2.700000e+04   \n",
       "25%    5.044568e+06      -29.000000       0.000000      1.215000e+05   \n",
       "50%    5.069530e+06      -17.000000       0.000000      1.620000e+05   \n",
       "75%    5.115551e+06       -8.000000       1.000000      2.250000e+05   \n",
       "max    5.150487e+06        0.000000      19.000000      1.575000e+06   \n",
       "\n",
       "          DAYS_BIRTH  DAYS_EMPLOYED  FLAG_MOBIL  FLAG_WORK_PHONE  \\\n",
       "count  777715.000000  777715.000000    777715.0    777715.000000   \n",
       "mean   -16124.937046   57775.825016         1.0         0.231818   \n",
       "std      4104.304018  136471.735391         0.0         0.421993   \n",
       "min    -25152.000000  -15713.000000         1.0         0.000000   \n",
       "25%    -19453.000000   -3292.000000         1.0         0.000000   \n",
       "50%    -15760.000000   -1682.000000         1.0         0.000000   \n",
       "75%    -12716.000000    -431.000000         1.0         0.000000   \n",
       "max     -7489.000000  365243.000000         1.0         1.000000   \n",
       "\n",
       "          FLAG_PHONE     FLAG_EMAIL  CNT_FAM_MEMBERS  \n",
       "count  777715.000000  777715.000000    777715.000000  \n",
       "mean        0.300965       0.091675         2.208837  \n",
       "std         0.458678       0.288567         0.907380  \n",
       "min         0.000000       0.000000         1.000000  \n",
       "25%         0.000000       0.000000         2.000000  \n",
       "50%         0.000000       0.000000         2.000000  \n",
       "75%         1.000000       0.000000         3.000000  \n",
       "max         1.000000       1.000000        20.000000  "
      ]
     },
     "execution_count": 6,
     "metadata": {},
     "output_type": "execute_result"
    }
   ],
   "source": [
    "(credit_app.describe())"
   ]
  },
  {
   "cell_type": "code",
   "execution_count": 7,
   "id": "f62a057a-cc34-4de2-a800-1622f689e23a",
   "metadata": {},
   "outputs": [
    {
     "data": {
      "text/plain": [
       "(777715, 20)"
      ]
     },
     "execution_count": 7,
     "metadata": {},
     "output_type": "execute_result"
    }
   ],
   "source": [
    "credit_app.shape"
   ]
  },
  {
   "cell_type": "code",
   "execution_count": null,
   "id": "bc45304c-a44a-4fa1-b14f-d1fc944bfd1e",
   "metadata": {},
   "outputs": [],
   "source": [
    "'''Check for missing values and clean the data''''"
   ]
  },
  {
   "cell_type": "code",
   "execution_count": 8,
   "id": "5a19ad22-e70f-4da4-a512-86c23cecb197",
   "metadata": {},
   "outputs": [
    {
     "data": {
      "text/plain": [
       "ID                          0\n",
       "MONTHS_BALANCE              0\n",
       "STATUS                      0\n",
       "CODE_GENDER                 0\n",
       "FLAG_OWN_CAR                0\n",
       "FLAG_OWN_REALTY             0\n",
       "CNT_CHILDREN                0\n",
       "AMT_INCOME_TOTAL            0\n",
       "NAME_INCOME_TYPE            0\n",
       "NAME_EDUCATION_TYPE         0\n",
       "NAME_FAMILY_STATUS          0\n",
       "NAME_HOUSING_TYPE           0\n",
       "DAYS_BIRTH                  0\n",
       "DAYS_EMPLOYED               0\n",
       "FLAG_MOBIL                  0\n",
       "FLAG_WORK_PHONE             0\n",
       "FLAG_PHONE                  0\n",
       "FLAG_EMAIL                  0\n",
       "OCCUPATION_TYPE        240048\n",
       "CNT_FAM_MEMBERS             0\n",
       "dtype: int64"
      ]
     },
     "execution_count": 8,
     "metadata": {},
     "output_type": "execute_result"
    }
   ],
   "source": [
    "credit_app.isnull().sum()"
   ]
  },
  {
   "cell_type": "code",
   "execution_count": 9,
   "id": "17335966-7909-48d5-874e-995ad4b7da63",
   "metadata": {},
   "outputs": [],
   "source": [
    "# dropping occupation type which contains 240048 null values\n",
    "credit_app.drop('OCCUPATION_TYPE', axis=1, inplace=True)"
   ]
  },
  {
   "cell_type": "code",
   "execution_count": 12,
   "id": "f2717792-9673-47ed-9768-71422b680599",
   "metadata": {},
   "outputs": [
    {
     "name": "stdout",
     "output_type": "stream",
     "text": [
      "Number of duplicate IDs in credit_app: 0\n"
     ]
    }
   ],
   "source": [
    "# Checking duplicates in 'ID' column\n",
    "num_duplicates = len(credit_app['ID']) - len(credit_app['ID'].unique())\n",
    "print(\"Number of duplicate IDs in credit_app:\", num_duplicates)"
   ]
  },
  {
   "cell_type": "code",
   "execution_count": 11,
   "id": "4c9bb59c-9d9a-427f-8429-2173a2796c69",
   "metadata": {},
   "outputs": [],
   "source": [
    "# Dropping duplicate entries from ID column\n",
    "credit_app = credit_app.drop_duplicates('ID', keep='last') "
   ]
  },
  {
   "cell_type": "code",
   "execution_count": 13,
   "id": "2ea19383-7ea4-47a0-9d5b-232844b4a1ce",
   "metadata": {},
   "outputs": [
    {
     "data": {
      "text/plain": [
       "['STATUS',\n",
       " 'CODE_GENDER',\n",
       " 'FLAG_OWN_CAR',\n",
       " 'FLAG_OWN_REALTY',\n",
       " 'NAME_INCOME_TYPE',\n",
       " 'NAME_EDUCATION_TYPE',\n",
       " 'NAME_FAMILY_STATUS',\n",
       " 'NAME_HOUSING_TYPE']"
      ]
     },
     "execution_count": 13,
     "metadata": {},
     "output_type": "execute_result"
    }
   ],
   "source": [
    "# Checking Non-Numerical Columns\n",
    "cat_columns = credit_app.columns[(credit_app.dtypes =='object').values].tolist()\n",
    "cat_columns"
   ]
  },
  {
   "cell_type": "code",
   "execution_count": 14,
   "id": "d888794b-5736-459e-9e8d-18e9d34595f9",
   "metadata": {},
   "outputs": [
    {
     "data": {
      "text/plain": [
       "['ID',\n",
       " 'MONTHS_BALANCE',\n",
       " 'CNT_CHILDREN',\n",
       " 'AMT_INCOME_TOTAL',\n",
       " 'DAYS_BIRTH',\n",
       " 'DAYS_EMPLOYED',\n",
       " 'FLAG_MOBIL',\n",
       " 'FLAG_WORK_PHONE',\n",
       " 'FLAG_PHONE',\n",
       " 'FLAG_EMAIL',\n",
       " 'CNT_FAM_MEMBERS']"
      ]
     },
     "execution_count": 14,
     "metadata": {},
     "output_type": "execute_result"
    }
   ],
   "source": [
    "# Checking Numerical Columns\n",
    "credit_app.columns[(credit_app.dtypes !='object').values].tolist()"
   ]
  },
  {
   "cell_type": "code",
   "execution_count": 15,
   "id": "608d1c01-834b-45c7-9cc3-94ca361e2621",
   "metadata": {},
   "outputs": [
    {
     "name": "stdout",
     "output_type": "stream",
     "text": [
      "STATUS \n",
      "\n",
      "0    21555\n",
      "X    14591\n",
      "C      302\n",
      "1        8\n",
      "5        1\n",
      "Name: STATUS, dtype: int64\n",
      "-----------------------------------------------\n",
      "CODE_GENDER \n",
      "\n",
      "F    24430\n",
      "M    12027\n",
      "Name: CODE_GENDER, dtype: int64\n",
      "-----------------------------------------------\n",
      "FLAG_OWN_CAR \n",
      "\n",
      "N    22614\n",
      "Y    13843\n",
      "Name: FLAG_OWN_CAR, dtype: int64\n",
      "-----------------------------------------------\n",
      "FLAG_OWN_REALTY \n",
      "\n",
      "Y    24506\n",
      "N    11951\n",
      "Name: FLAG_OWN_REALTY, dtype: int64\n",
      "-----------------------------------------------\n",
      "NAME_INCOME_TYPE \n",
      "\n",
      "Working                 18819\n",
      "Commercial associate     8490\n",
      "Pensioner                6152\n",
      "State servant            2985\n",
      "Student                    11\n",
      "Name: NAME_INCOME_TYPE, dtype: int64\n",
      "-----------------------------------------------\n",
      "NAME_EDUCATION_TYPE \n",
      "\n",
      "Secondary / secondary special    24777\n",
      "Higher education                  9864\n",
      "Incomplete higher                 1410\n",
      "Lower secondary                    374\n",
      "Academic degree                     32\n",
      "Name: NAME_EDUCATION_TYPE, dtype: int64\n",
      "-----------------------------------------------\n",
      "NAME_FAMILY_STATUS \n",
      "\n",
      "Married                 25048\n",
      "Single / not married     4829\n",
      "Civil marriage           2945\n",
      "Separated                2103\n",
      "Widow                    1532\n",
      "Name: NAME_FAMILY_STATUS, dtype: int64\n",
      "-----------------------------------------------\n",
      "NAME_HOUSING_TYPE \n",
      "\n",
      "House / apartment      32548\n",
      "With parents            1776\n",
      "Municipal apartment     1128\n",
      "Rented apartment         575\n",
      "Office apartment         262\n",
      "Co-op apartment          168\n",
      "Name: NAME_HOUSING_TYPE, dtype: int64\n",
      "-----------------------------------------------\n"
     ]
    }
   ],
   "source": [
    "# Checking unique values from Categorical Columns\n",
    "for i in credit_app.columns[(credit_app.dtypes =='object').values].tolist():\n",
    "    print(i,'\\n')\n",
    "    print(credit_app[i].value_counts())\n",
    "    print('-----------------------------------------------')"
   ]
  },
  {
   "cell_type": "code",
   "execution_count": null,
   "id": "ec8a7bd3-b460-4d01-bcc0-0dec37a3f469",
   "metadata": {},
   "outputs": [],
   "source": [
    "# Checking unique values from Numerical Columns"
   ]
  },
  {
   "cell_type": "code",
   "execution_count": 20,
   "id": "e68cb4ad-6222-4121-a061-073aee375c69",
   "metadata": {},
   "outputs": [
    {
     "name": "stdout",
     "output_type": "stream",
     "text": [
      "0     25201\n",
      "1      7492\n",
      "2      3256\n",
      "3       419\n",
      "4        63\n",
      "5        20\n",
      "14        3\n",
      "7         2\n",
      "19        1\n",
      "Name: CNT_CHILDREN, dtype: int64\n"
     ]
    }
   ],
   "source": [
    "print(credit_app['CNT_CHILDREN'].value_counts())"
   ]
  },
  {
   "cell_type": "code",
   "execution_count": 19,
   "id": "0b653250-9f61-4564-8f4f-5ade94ba4d55",
   "metadata": {},
   "outputs": [
    {
     "name": "stdout",
     "output_type": "stream",
     "text": [
      "Min DAYS_BIRTH : -25152 \n",
      "Max DAYS_BIRTH : -7489\n"
     ]
    }
   ],
   "source": [
    "# Checking Min , Max values from 'DAYS_BIRTH' column\n",
    "print('Min DAYS_BIRTH :', credit_app['DAYS_BIRTH'].min(),'\\nMax DAYS_BIRTH :', credit_app['DAYS_BIRTH'].max())"
   ]
  },
  {
   "cell_type": "code",
   "execution_count": 21,
   "id": "9827c0b9-aaf8-423f-845b-f7b23ab00a3e",
   "metadata": {},
   "outputs": [],
   "source": [
    "# Converting 'DAYS_BIRTH' values from Day to Years\n",
    "credit_app['DAYS_BIRTH'] = round(credit_app['DAYS_BIRTH']/-365,0)\n",
    "credit_app.rename(columns={'DAYS_BIRTH':'AGE_YEARS'}, inplace=True)"
   ]
  },
  {
   "cell_type": "code",
   "execution_count": 22,
   "id": "10a76857-3ced-40ac-a3fa-a143ac643aac",
   "metadata": {},
   "outputs": [
    {
     "data": {
      "text/plain": [
       "array([365243])"
      ]
     },
     "execution_count": 22,
     "metadata": {},
     "output_type": "execute_result"
    }
   ],
   "source": [
    "# Checking unique values greater than 0\n",
    "credit_app[credit_app['DAYS_EMPLOYED']>0]['DAYS_EMPLOYED'].unique()"
   ]
  },
  {
   "cell_type": "code",
   "execution_count": 24,
   "id": "91a4e372-28bb-4333-ae9e-f15b19821549",
   "metadata": {},
   "outputs": [],
   "source": [
    "# If 'DAYS_EMPLOYED' is positive no, it means person currently unemployed, hence replacing it with 0\n",
    "credit_app['DAYS_EMPLOYED'].replace(365243, 0, inplace=True)"
   ]
  },
  {
   "cell_type": "code",
   "execution_count": 26,
   "id": "95a7a859-841f-414a-9048-92d1e02ba9e3",
   "metadata": {},
   "outputs": [],
   "source": [
    "# Converting 'DAYS_EMPLOYED' values from Day to Years\n",
    "credit_app['DAYS_EMPLOYED'] = abs(round(credit_app['DAYS_EMPLOYED']/-365,0))\n",
    "credit_app.rename(columns={'DAYS_EMPLOYED':'YEARS_EMPLOYED'}, inplace=True) "
   ]
  },
  {
   "cell_type": "code",
   "execution_count": 27,
   "id": "30fd5361-1061-440a-a4a9-787870ce3d7a",
   "metadata": {},
   "outputs": [
    {
     "data": {
      "text/plain": [
       "1    36457\n",
       "Name: FLAG_MOBIL, dtype: int64"
      ]
     },
     "execution_count": 27,
     "metadata": {},
     "output_type": "execute_result"
    }
   ],
   "source": [
    "credit_app['FLAG_MOBIL'].value_counts()"
   ]
  },
  {
   "cell_type": "code",
   "execution_count": 29,
   "id": "f1d9bfc4-89d7-4d18-97ef-c9e5e4e09e55",
   "metadata": {},
   "outputs": [],
   "source": [
    "# All the values in 'FLAG_MOBIL\" column are 1, hence dropping column\n",
    "credit_app.drop('FLAG_MOBIL', axis=1, inplace=True)"
   ]
  },
  {
   "cell_type": "code",
   "execution_count": 30,
   "id": "adfab8ae-df46-49a5-aadb-0d537420d850",
   "metadata": {},
   "outputs": [
    {
     "data": {
      "text/plain": [
       "0    28235\n",
       "1     8222\n",
       "Name: FLAG_WORK_PHONE, dtype: int64"
      ]
     },
     "execution_count": 30,
     "metadata": {},
     "output_type": "execute_result"
    }
   ],
   "source": [
    "credit_app['FLAG_WORK_PHONE'].value_counts()"
   ]
  },
  {
   "cell_type": "code",
   "execution_count": null,
   "id": "1687be8f-0d57-4e89-93f7-904a2ca18e86",
   "metadata": {},
   "outputs": [],
   "source": [
    "# drop \"FLAG_WORK_PHONE\"\n",
    "credit_app.drop('FLAG_WORK_PHONE', axis=1, inplace=True)"
   ]
  },
  {
   "cell_type": "code",
   "execution_count": null,
   "id": "c18e1dec-2875-4cf1-b54e-c2b6726d2d65",
   "metadata": {},
   "outputs": [],
   "source": [
    "credit_app['FLAG_PHONE'].value_counts()"
   ]
  },
  {
   "cell_type": "code",
   "execution_count": 35,
   "id": "51839758-7fc9-4b9b-ad56-8d57b2ff8015",
   "metadata": {},
   "outputs": [],
   "source": [
    "# drop \"FLAG_PHONE\"\n",
    "credit_app.drop('FLAG_PHONE', axis=1, inplace=True)"
   ]
  },
  {
   "cell_type": "code",
   "execution_count": 37,
   "id": "9bf24380-2cb8-4b34-9ee2-d6905a747127",
   "metadata": {},
   "outputs": [
    {
     "ename": "KeyError",
     "evalue": "'FLAG_EMAIL'",
     "output_type": "error",
     "traceback": [
      "\u001b[0;31m---------------------------------------------------------------------------\u001b[0m",
      "\u001b[0;31mKeyError\u001b[0m                                  Traceback (most recent call last)",
      "File \u001b[0;32m~/anaconda3/lib/python3.10/site-packages/pandas/core/indexes/base.py:3802\u001b[0m, in \u001b[0;36mIndex.get_loc\u001b[0;34m(self, key, method, tolerance)\u001b[0m\n\u001b[1;32m   3801\u001b[0m \u001b[38;5;28;01mtry\u001b[39;00m:\n\u001b[0;32m-> 3802\u001b[0m     \u001b[38;5;28;01mreturn\u001b[39;00m \u001b[38;5;28;43mself\u001b[39;49m\u001b[38;5;241;43m.\u001b[39;49m\u001b[43m_engine\u001b[49m\u001b[38;5;241;43m.\u001b[39;49m\u001b[43mget_loc\u001b[49m\u001b[43m(\u001b[49m\u001b[43mcasted_key\u001b[49m\u001b[43m)\u001b[49m\n\u001b[1;32m   3803\u001b[0m \u001b[38;5;28;01mexcept\u001b[39;00m \u001b[38;5;167;01mKeyError\u001b[39;00m \u001b[38;5;28;01mas\u001b[39;00m err:\n",
      "File \u001b[0;32m~/anaconda3/lib/python3.10/site-packages/pandas/_libs/index.pyx:138\u001b[0m, in \u001b[0;36mpandas._libs.index.IndexEngine.get_loc\u001b[0;34m()\u001b[0m\n",
      "File \u001b[0;32m~/anaconda3/lib/python3.10/site-packages/pandas/_libs/index.pyx:165\u001b[0m, in \u001b[0;36mpandas._libs.index.IndexEngine.get_loc\u001b[0;34m()\u001b[0m\n",
      "File \u001b[0;32mpandas/_libs/hashtable_class_helper.pxi:5745\u001b[0m, in \u001b[0;36mpandas._libs.hashtable.PyObjectHashTable.get_item\u001b[0;34m()\u001b[0m\n",
      "File \u001b[0;32mpandas/_libs/hashtable_class_helper.pxi:5753\u001b[0m, in \u001b[0;36mpandas._libs.hashtable.PyObjectHashTable.get_item\u001b[0;34m()\u001b[0m\n",
      "\u001b[0;31mKeyError\u001b[0m: 'FLAG_EMAIL'",
      "\nThe above exception was the direct cause of the following exception:\n",
      "\u001b[0;31mKeyError\u001b[0m                                  Traceback (most recent call last)",
      "Cell \u001b[0;32mIn[37], line 1\u001b[0m\n\u001b[0;32m----> 1\u001b[0m \u001b[43mcredit_app\u001b[49m\u001b[43m[\u001b[49m\u001b[38;5;124;43m'\u001b[39;49m\u001b[38;5;124;43mFLAG_EMAIL\u001b[39;49m\u001b[38;5;124;43m'\u001b[39;49m\u001b[43m]\u001b[49m\u001b[38;5;241m.\u001b[39mvalue_counts()\n",
      "File \u001b[0;32m~/anaconda3/lib/python3.10/site-packages/pandas/core/frame.py:3807\u001b[0m, in \u001b[0;36mDataFrame.__getitem__\u001b[0;34m(self, key)\u001b[0m\n\u001b[1;32m   3805\u001b[0m \u001b[38;5;28;01mif\u001b[39;00m \u001b[38;5;28mself\u001b[39m\u001b[38;5;241m.\u001b[39mcolumns\u001b[38;5;241m.\u001b[39mnlevels \u001b[38;5;241m>\u001b[39m \u001b[38;5;241m1\u001b[39m:\n\u001b[1;32m   3806\u001b[0m     \u001b[38;5;28;01mreturn\u001b[39;00m \u001b[38;5;28mself\u001b[39m\u001b[38;5;241m.\u001b[39m_getitem_multilevel(key)\n\u001b[0;32m-> 3807\u001b[0m indexer \u001b[38;5;241m=\u001b[39m \u001b[38;5;28;43mself\u001b[39;49m\u001b[38;5;241;43m.\u001b[39;49m\u001b[43mcolumns\u001b[49m\u001b[38;5;241;43m.\u001b[39;49m\u001b[43mget_loc\u001b[49m\u001b[43m(\u001b[49m\u001b[43mkey\u001b[49m\u001b[43m)\u001b[49m\n\u001b[1;32m   3808\u001b[0m \u001b[38;5;28;01mif\u001b[39;00m is_integer(indexer):\n\u001b[1;32m   3809\u001b[0m     indexer \u001b[38;5;241m=\u001b[39m [indexer]\n",
      "File \u001b[0;32m~/anaconda3/lib/python3.10/site-packages/pandas/core/indexes/base.py:3804\u001b[0m, in \u001b[0;36mIndex.get_loc\u001b[0;34m(self, key, method, tolerance)\u001b[0m\n\u001b[1;32m   3802\u001b[0m     \u001b[38;5;28;01mreturn\u001b[39;00m \u001b[38;5;28mself\u001b[39m\u001b[38;5;241m.\u001b[39m_engine\u001b[38;5;241m.\u001b[39mget_loc(casted_key)\n\u001b[1;32m   3803\u001b[0m \u001b[38;5;28;01mexcept\u001b[39;00m \u001b[38;5;167;01mKeyError\u001b[39;00m \u001b[38;5;28;01mas\u001b[39;00m err:\n\u001b[0;32m-> 3804\u001b[0m     \u001b[38;5;28;01mraise\u001b[39;00m \u001b[38;5;167;01mKeyError\u001b[39;00m(key) \u001b[38;5;28;01mfrom\u001b[39;00m \u001b[38;5;21;01merr\u001b[39;00m\n\u001b[1;32m   3805\u001b[0m \u001b[38;5;28;01mexcept\u001b[39;00m \u001b[38;5;167;01mTypeError\u001b[39;00m:\n\u001b[1;32m   3806\u001b[0m     \u001b[38;5;66;03m# If we have a listlike key, _check_indexing_error will raise\u001b[39;00m\n\u001b[1;32m   3807\u001b[0m     \u001b[38;5;66;03m#  InvalidIndexError. Otherwise we fall through and re-raise\u001b[39;00m\n\u001b[1;32m   3808\u001b[0m     \u001b[38;5;66;03m#  the TypeError.\u001b[39;00m\n\u001b[1;32m   3809\u001b[0m     \u001b[38;5;28mself\u001b[39m\u001b[38;5;241m.\u001b[39m_check_indexing_error(key)\n",
      "\u001b[0;31mKeyError\u001b[0m: 'FLAG_EMAIL'"
     ]
    }
   ],
   "source": [
    "credit_app['FLAG_EMAIL'].value_counts()"
   ]
  },
  {
   "cell_type": "code",
   "execution_count": null,
   "id": "ac50b4b0-19bb-4fc9-9915-e3bfe45981ab",
   "metadata": {},
   "outputs": [],
   "source": [
    "credit_app.drop('FLAG_EMAIL', axis=1, inplace=True)"
   ]
  },
  {
   "cell_type": "code",
   "execution_count": 38,
   "id": "18a9b06e-c28a-4f5d-97af-9fa1549de748",
   "metadata": {},
   "outputs": [
    {
     "data": {
      "text/plain": [
       "2.0     19463\n",
       "1.0      6987\n",
       "3.0      6421\n",
       "4.0      3106\n",
       "5.0       397\n",
       "6.0        58\n",
       "7.0        19\n",
       "15.0        3\n",
       "9.0         2\n",
       "20.0        1\n",
       "Name: CNT_FAM_MEMBERS, dtype: int64"
      ]
     },
     "execution_count": 38,
     "metadata": {},
     "output_type": "execute_result"
    }
   ],
   "source": [
    "credit_app['CNT_FAM_MEMBERS'].value_counts()"
   ]
  },
  {
   "cell_type": "code",
   "execution_count": 39,
   "id": "b8b73d8c-2f11-473c-a903-833f5ec5c843",
   "metadata": {},
   "outputs": [
    {
     "data": {
      "text/html": [
       "<div>\n",
       "<style scoped>\n",
       "    .dataframe tbody tr th:only-of-type {\n",
       "        vertical-align: middle;\n",
       "    }\n",
       "\n",
       "    .dataframe tbody tr th {\n",
       "        vertical-align: top;\n",
       "    }\n",
       "\n",
       "    .dataframe thead th {\n",
       "        text-align: right;\n",
       "    }\n",
       "</style>\n",
       "<table border=\"1\" class=\"dataframe\">\n",
       "  <thead>\n",
       "    <tr style=\"text-align: right;\">\n",
       "      <th></th>\n",
       "      <th>ID</th>\n",
       "      <th>MONTHS_BALANCE</th>\n",
       "      <th>STATUS</th>\n",
       "      <th>CODE_GENDER</th>\n",
       "      <th>FLAG_OWN_CAR</th>\n",
       "      <th>FLAG_OWN_REALTY</th>\n",
       "      <th>CNT_CHILDREN</th>\n",
       "      <th>AMT_INCOME_TOTAL</th>\n",
       "      <th>NAME_INCOME_TYPE</th>\n",
       "      <th>NAME_EDUCATION_TYPE</th>\n",
       "      <th>NAME_FAMILY_STATUS</th>\n",
       "      <th>NAME_HOUSING_TYPE</th>\n",
       "      <th>AGE_YEARS</th>\n",
       "      <th>YEARS_EMPLOYED</th>\n",
       "      <th>FLAG_WORK_PHONE</th>\n",
       "      <th>CNT_FAM_MEMBERS</th>\n",
       "    </tr>\n",
       "  </thead>\n",
       "  <tbody>\n",
       "    <tr>\n",
       "      <th>15</th>\n",
       "      <td>5008804</td>\n",
       "      <td>-15</td>\n",
       "      <td>X</td>\n",
       "      <td>M</td>\n",
       "      <td>Y</td>\n",
       "      <td>Y</td>\n",
       "      <td>0</td>\n",
       "      <td>427500.0</td>\n",
       "      <td>Working</td>\n",
       "      <td>Higher education</td>\n",
       "      <td>Civil marriage</td>\n",
       "      <td>Rented apartment</td>\n",
       "      <td>33.0</td>\n",
       "      <td>12.0</td>\n",
       "      <td>1</td>\n",
       "      <td>2.0</td>\n",
       "    </tr>\n",
       "    <tr>\n",
       "      <th>30</th>\n",
       "      <td>5008805</td>\n",
       "      <td>-14</td>\n",
       "      <td>X</td>\n",
       "      <td>M</td>\n",
       "      <td>Y</td>\n",
       "      <td>Y</td>\n",
       "      <td>0</td>\n",
       "      <td>427500.0</td>\n",
       "      <td>Working</td>\n",
       "      <td>Higher education</td>\n",
       "      <td>Civil marriage</td>\n",
       "      <td>Rented apartment</td>\n",
       "      <td>33.0</td>\n",
       "      <td>12.0</td>\n",
       "      <td>1</td>\n",
       "      <td>2.0</td>\n",
       "    </tr>\n",
       "    <tr>\n",
       "      <th>60</th>\n",
       "      <td>5008806</td>\n",
       "      <td>-29</td>\n",
       "      <td>X</td>\n",
       "      <td>M</td>\n",
       "      <td>Y</td>\n",
       "      <td>Y</td>\n",
       "      <td>0</td>\n",
       "      <td>112500.0</td>\n",
       "      <td>Working</td>\n",
       "      <td>Secondary / secondary special</td>\n",
       "      <td>Married</td>\n",
       "      <td>House / apartment</td>\n",
       "      <td>59.0</td>\n",
       "      <td>3.0</td>\n",
       "      <td>0</td>\n",
       "      <td>2.0</td>\n",
       "    </tr>\n",
       "    <tr>\n",
       "      <th>65</th>\n",
       "      <td>5008808</td>\n",
       "      <td>-4</td>\n",
       "      <td>X</td>\n",
       "      <td>F</td>\n",
       "      <td>N</td>\n",
       "      <td>Y</td>\n",
       "      <td>0</td>\n",
       "      <td>270000.0</td>\n",
       "      <td>Commercial associate</td>\n",
       "      <td>Secondary / secondary special</td>\n",
       "      <td>Single / not married</td>\n",
       "      <td>House / apartment</td>\n",
       "      <td>52.0</td>\n",
       "      <td>8.0</td>\n",
       "      <td>0</td>\n",
       "      <td>1.0</td>\n",
       "    </tr>\n",
       "    <tr>\n",
       "      <th>70</th>\n",
       "      <td>5008809</td>\n",
       "      <td>-26</td>\n",
       "      <td>X</td>\n",
       "      <td>F</td>\n",
       "      <td>N</td>\n",
       "      <td>Y</td>\n",
       "      <td>0</td>\n",
       "      <td>270000.0</td>\n",
       "      <td>Commercial associate</td>\n",
       "      <td>Secondary / secondary special</td>\n",
       "      <td>Single / not married</td>\n",
       "      <td>House / apartment</td>\n",
       "      <td>52.0</td>\n",
       "      <td>8.0</td>\n",
       "      <td>0</td>\n",
       "      <td>1.0</td>\n",
       "    </tr>\n",
       "  </tbody>\n",
       "</table>\n",
       "</div>"
      ],
      "text/plain": [
       "         ID  MONTHS_BALANCE STATUS CODE_GENDER FLAG_OWN_CAR FLAG_OWN_REALTY  \\\n",
       "15  5008804             -15      X           M            Y               Y   \n",
       "30  5008805             -14      X           M            Y               Y   \n",
       "60  5008806             -29      X           M            Y               Y   \n",
       "65  5008808              -4      X           F            N               Y   \n",
       "70  5008809             -26      X           F            N               Y   \n",
       "\n",
       "    CNT_CHILDREN  AMT_INCOME_TOTAL      NAME_INCOME_TYPE  \\\n",
       "15             0          427500.0               Working   \n",
       "30             0          427500.0               Working   \n",
       "60             0          112500.0               Working   \n",
       "65             0          270000.0  Commercial associate   \n",
       "70             0          270000.0  Commercial associate   \n",
       "\n",
       "              NAME_EDUCATION_TYPE    NAME_FAMILY_STATUS  NAME_HOUSING_TYPE  \\\n",
       "15               Higher education        Civil marriage   Rented apartment   \n",
       "30               Higher education        Civil marriage   Rented apartment   \n",
       "60  Secondary / secondary special               Married  House / apartment   \n",
       "65  Secondary / secondary special  Single / not married  House / apartment   \n",
       "70  Secondary / secondary special  Single / not married  House / apartment   \n",
       "\n",
       "    AGE_YEARS  YEARS_EMPLOYED  FLAG_WORK_PHONE  CNT_FAM_MEMBERS  \n",
       "15       33.0            12.0                1              2.0  \n",
       "30       33.0            12.0                1              2.0  \n",
       "60       59.0             3.0                0              2.0  \n",
       "65       52.0             8.0                0              1.0  \n",
       "70       52.0             8.0                0              1.0  "
      ]
     },
     "execution_count": 39,
     "metadata": {},
     "output_type": "execute_result"
    }
   ],
   "source": [
    "credit_app.head()"
   ]
  },
  {
   "cell_type": "code",
   "execution_count": null,
   "id": "767b1ef9-e024-40e9-adea-aec098bcdf38",
   "metadata": {},
   "outputs": [],
   "source": [
    "'''\n",
    "Check for outliers and decide if and how to process them.\n",
    "'''"
   ]
  },
  {
   "cell_type": "code",
   "execution_count": 45,
   "id": "f1d30378-9e3a-4680-8d35-fc1295c2458b",
   "metadata": {},
   "outputs": [
    {
     "data": {
      "image/png": "[encoded data removed]",
      "text/plain": [
       "<Figure size 640x480 with 1 Axes>"
      ]
     },
     "metadata": {},
     "output_type": "display_data"
    }
   ],
   "source": [
    "sns.boxplot(x=credit_app['CNT_CHILDREN'])\n",
    "plt.show()"
   ]
  },
  {
   "cell_type": "code",
   "execution_count": 46,
   "id": "d446bb24-d5ae-4dc8-a53d-4e79f2c26b28",
   "metadata": {},
   "outputs": [
    {
     "data": {
      "image/png": "[encoded data removed]",
      "text/plain": [
       "<Figure size 640x480 with 1 Axes>"
      ]
     },
     "metadata": {},
     "output_type": "display_data"
    }
   ],
   "source": [
    "# Create boxplot for 'AMT_INCOME_TOTAL'\n",
    "sns.boxplot(x=credit_app['AMT_INCOME_TOTAL'])\n",
    "plt.show()"
   ]
  },
  {
   "cell_type": "code",
   "execution_count": 49,
   "id": "c735584e-9133-4f47-94c8-d41d70e8b9a8",
   "metadata": {},
   "outputs": [
    {
     "data": {
      "text/plain": [
       "<Axes: xlabel='AGE_YEARS'>"
      ]
     },
     "execution_count": 49,
     "metadata": {},
     "output_type": "execute_result"
    },
    {
     "data": {
      "image/png": "[encoded data removed]",
      "text/plain": [
       "<Figure size 640x480 with 1 Axes>"
      ]
     },
     "metadata": {},
     "output_type": "display_data"
    }
   ],
   "source": [
    "sns.boxplot(x=credit_app['AGE_YEARS'])"
   ]
  },
  {
   "cell_type": "code",
   "execution_count": 50,
   "id": "b77e0c42-7826-4cf9-b941-763c1697306e",
   "metadata": {},
   "outputs": [
    {
     "data": {
      "text/plain": [
       "<Axes: xlabel='YEARS_EMPLOYED'>"
      ]
     },
     "execution_count": 50,
     "metadata": {},
     "output_type": "execute_result"
    },
    {
     "data": {
      "image/png": "[encoded data removed]",
      "text/plain": [
       "<Figure size 640x480 with 1 Axes>"
      ]
     },
     "metadata": {},
     "output_type": "display_data"
    }
   ],
   "source": [
    "sns.boxplot(x=credit_app['YEARS_EMPLOYED'])"
   ]
  },
  {
   "cell_type": "code",
   "execution_count": 51,
   "id": "142918ba-b018-459c-9654-7059c4ee5ade",
   "metadata": {},
   "outputs": [
    {
     "data": {
      "text/plain": [
       "<Axes: xlabel='CNT_FAM_MEMBERS'>"
      ]
     },
     "execution_count": 51,
     "metadata": {},
     "output_type": "execute_result"
    },
    {
     "data": {
      "image/png": "[encoded data removed]",
      "text/plain": [
       "<Figure size 640x480 with 1 Axes>"
      ]
     },
     "metadata": {},
     "output_type": "display_data"
    }
   ],
   "source": [
    "sns.boxplot(x=credit_app['CNT_FAM_MEMBERS'])"
   ]
  },
  {
   "cell_type": "code",
   "execution_count": null,
   "id": "e8158868-dd90-4289-b831-8fd5c87bcaa0",
   "metadata": {},
   "outputs": [],
   "source": [
    "# Removing Outliers\n"
   ]
  },
  {
   "cell_type": "code",
   "execution_count": 53,
   "id": "fa33294a-1f8a-4bc7-8afe-a95bb576bd60",
   "metadata": {},
   "outputs": [
    {
     "name": "stdout",
     "output_type": "stream",
     "text": [
      "high_bound : 4.0\n",
      "low_bound : 0.0\n"
     ]
    }
   ],
   "source": [
    "high_bound = credit_app['CNT_CHILDREN'].quantile(0.999)\n",
    "print('high_bound :', high_bound)\n",
    "low_bound = credit_app['CNT_CHILDREN'].quantile(0.001)\n",
    "print('low_bound :', low_bound)"
   ]
  },
  {
   "cell_type": "code",
   "execution_count": 59,
   "id": "8232fa5b-c15a-443c-928e-ee8292d7233e",
   "metadata": {},
   "outputs": [],
   "source": [
    "credit_app = credit_app[(credit_app['CNT_CHILDREN']>=low_bound) & (credit_app['CNT_CHILDREN']<=high_bound)]"
   ]
  },
  {
   "cell_type": "code",
   "execution_count": 60,
   "id": "ee5e6f1f-270e-49fb-ba15-ad1d5b0c007e",
   "metadata": {},
   "outputs": [
    {
     "name": "stdout",
     "output_type": "stream",
     "text": [
      "high_bound : 900000.0\n",
      "low_bound : 32400.0\n"
     ]
    }
   ],
   "source": [
    "high_bound = credit_app['AMT_INCOME_TOTAL'].quantile(0.999)\n",
    "print('high_bound :', high_bound)\n",
    "low_bound = app_df['AMT_INCOME_TOTAL'].quantile(0.001)\n",
    "print('low_bound :', low_bound)"
   ]
  },
  {
   "cell_type": "code",
   "execution_count": 61,
   "id": "114395a0-80aa-46bc-9985-437665ec46af",
   "metadata": {},
   "outputs": [],
   "source": [
    "credit_app = credit_app[(credit_app['AMT_INCOME_TOTAL']>=low_bound) & (credit_app['AMT_INCOME_TOTAL']<=high_bound)]"
   ]
  },
  {
   "cell_type": "code",
   "execution_count": 62,
   "id": "c89319f6-04aa-4d3f-ac32-3cc2ce83b916",
   "metadata": {},
   "outputs": [
    {
     "name": "stdout",
     "output_type": "stream",
     "text": [
      "high_bound : 41.0\n",
      "low_bound : 0.0\n"
     ]
    }
   ],
   "source": [
    "high_bound = credit_app['YEARS_EMPLOYED'].quantile(0.999)\n",
    "print('high_bound :', high_bound)\n",
    "low_bound = credit_app['YEARS_EMPLOYED'].quantile(0.001)\n",
    "print('low_bound :', low_bound)"
   ]
  },
  {
   "cell_type": "code",
   "execution_count": 63,
   "id": "e70d5e50-f545-44a4-aa6f-cfac2689c462",
   "metadata": {},
   "outputs": [],
   "source": [
    "app_df = credit_app[(credit_app['YEARS_EMPLOYED']>=low_bound) & (credit_app['YEARS_EMPLOYED']<=high_bound)]"
   ]
  },
  {
   "cell_type": "code",
   "execution_count": 64,
   "id": "45bf0bd8-3378-40da-a564-1d20538b072d",
   "metadata": {},
   "outputs": [
    {
     "name": "stdout",
     "output_type": "stream",
     "text": [
      "high_bound : 6.0\n",
      "low_bound : 1.0\n"
     ]
    }
   ],
   "source": [
    "high_bound = credit_app['CNT_FAM_MEMBERS'].quantile(0.999)\n",
    "print('high_bound :', high_bound)\n",
    "low_bound = credit_app['CNT_FAM_MEMBERS'].quantile(0.001)\n",
    "print('low_bound :', low_bound)"
   ]
  },
  {
   "cell_type": "code",
   "execution_count": 67,
   "id": "8540cf73-f7f5-490a-b225-8af5c00a4d8d",
   "metadata": {},
   "outputs": [],
   "source": [
    "credit_app = credit_app[(credit_app['CNT_FAM_MEMBERS']>=low_bound) & (credit_app['CNT_FAM_MEMBERS']<=high_bound)]"
   ]
  },
  {
   "cell_type": "code",
   "execution_count": 70,
   "id": "89be2d11-7569-4511-a52c-54ce2012f50c",
   "metadata": {},
   "outputs": [
    {
     "data": {
      "text/plain": [
       "0    21515\n",
       "X    14547\n",
       "C      302\n",
       "1        8\n",
       "5        1\n",
       "Name: STATUS, dtype: int64"
      ]
     },
     "execution_count": 70,
     "metadata": {},
     "output_type": "execute_result"
    }
   ],
   "source": [
    "credit_app['STATUS'].value_counts()"
   ]
  },
  {
   "cell_type": "code",
   "execution_count": 71,
   "id": "15266749-61eb-47f7-81e3-1daf848da6e6",
   "metadata": {},
   "outputs": [],
   "source": [
    "# categorizing 'STATUS' column to binary classification   0 : Good Client and 1 : bad client\n",
    "credit_app['STATUS'].replace(['C', 'X'],0, inplace=True)"
   ]
  },
  {
   "cell_type": "code",
   "execution_count": 74,
   "id": "02c9d057-4af0-471f-ba53-9c4ec3b93faf",
   "metadata": {},
   "outputs": [],
   "source": [
    "credit_app['STATUS'].replace(['2','3','4','5'],1, inplace=True)"
   ]
  },
  {
   "cell_type": "code",
   "execution_count": 75,
   "id": "44ed4859-811c-45ef-a285-f317e672364c",
   "metadata": {},
   "outputs": [],
   "source": [
    "credit_app['STATUS'] = credit_app['STATUS'].astype('int')"
   ]
  },
  {
   "cell_type": "code",
   "execution_count": 76,
   "id": "74040750-46f4-4193-b5a8-3172a375d013",
   "metadata": {},
   "outputs": [
    {
     "data": {
      "text/plain": [
       "0    99.975256\n",
       "1     0.024744\n",
       "Name: STATUS, dtype: float64"
      ]
     },
     "execution_count": 76,
     "metadata": {},
     "output_type": "execute_result"
    }
   ],
   "source": [
    "credit_app['STATUS'].value_counts(normalize=True)*100"
   ]
  },
  {
   "cell_type": "code",
   "execution_count": 88,
   "id": "32108378-e251-4686-bf15-2ff0cdcab711",
   "metadata": {},
   "outputs": [
    {
     "name": "stdout",
     "output_type": "stream",
     "text": [
      "<class 'pandas.core.frame.DataFrame'>\n",
      "Int64Index: 36373 entries, 15 to 777714\n",
      "Data columns (total 16 columns):\n",
      " #   Column               Non-Null Count  Dtype  \n",
      "---  ------               --------------  -----  \n",
      " 0   ID                   36373 non-null  int64  \n",
      " 1   MONTHS_BALANCE       36373 non-null  int64  \n",
      " 2   STATUS               36373 non-null  int64  \n",
      " 3   CODE_GENDER          36373 non-null  object \n",
      " 4   FLAG_OWN_CAR         36373 non-null  object \n",
      " 5   FLAG_OWN_REALTY      36373 non-null  object \n",
      " 6   CNT_CHILDREN         36373 non-null  int64  \n",
      " 7   AMT_INCOME_TOTAL     36373 non-null  float64\n",
      " 8   NAME_INCOME_TYPE     36373 non-null  object \n",
      " 9   NAME_EDUCATION_TYPE  36373 non-null  object \n",
      " 10  NAME_FAMILY_STATUS   36373 non-null  object \n",
      " 11  NAME_HOUSING_TYPE    36373 non-null  object \n",
      " 12  AGE_YEARS            36373 non-null  float64\n",
      " 13  YEARS_EMPLOYED       36373 non-null  float64\n",
      " 14  FLAG_WORK_PHONE      36373 non-null  int64  \n",
      " 15  CNT_FAM_MEMBERS      36373 non-null  float64\n",
      "dtypes: float64(4), int64(5), object(7)\n",
      "memory usage: 4.7+ MB\n"
     ]
    }
   ],
   "source": [
    "credit_app.info()"
   ]
  },
  {
   "cell_type": "code",
   "execution_count": 90,
   "id": "4958a379-de33-442e-bdcf-fc8b524cefb8",
   "metadata": {},
   "outputs": [],
   "source": [
    "credit_df_trans = credit_app.groupby('ID').agg(max).reset_index()"
   ]
  },
  {
   "cell_type": "code",
   "execution_count": 92,
   "id": "36f4880a-1bc0-48fe-8afd-654e013b197a",
   "metadata": {},
   "outputs": [
    {
     "ename": "KeyError",
     "evalue": "\"['MONTHS_BALANCE'] not found in axis\"",
     "output_type": "error",
     "traceback": [
      "\u001b[0;31m---------------------------------------------------------------------------\u001b[0m",
      "\u001b[0;31mKeyError\u001b[0m                                  Traceback (most recent call last)",
      "Cell \u001b[0;32mIn[92], line 1\u001b[0m\n\u001b[0;32m----> 1\u001b[0m \u001b[43mcredit_df_trans\u001b[49m\u001b[38;5;241;43m.\u001b[39;49m\u001b[43mdrop\u001b[49m\u001b[43m(\u001b[49m\u001b[38;5;124;43m'\u001b[39;49m\u001b[38;5;124;43mMONTHS_BALANCE\u001b[39;49m\u001b[38;5;124;43m'\u001b[39;49m\u001b[43m,\u001b[49m\u001b[43m \u001b[49m\u001b[43maxis\u001b[49m\u001b[38;5;241;43m=\u001b[39;49m\u001b[38;5;241;43m1\u001b[39;49m\u001b[43m,\u001b[49m\u001b[43m \u001b[49m\u001b[43minplace\u001b[49m\u001b[38;5;241;43m=\u001b[39;49m\u001b[38;5;28;43;01mTrue\u001b[39;49;00m\u001b[43m)\u001b[49m\n\u001b[1;32m      2\u001b[0m credit_df_trans\u001b[38;5;241m.\u001b[39mhead()\n",
      "File \u001b[0;32m~/anaconda3/lib/python3.10/site-packages/pandas/util/_decorators.py:331\u001b[0m, in \u001b[0;36mdeprecate_nonkeyword_arguments.<locals>.decorate.<locals>.wrapper\u001b[0;34m(*args, **kwargs)\u001b[0m\n\u001b[1;32m    325\u001b[0m \u001b[38;5;28;01mif\u001b[39;00m \u001b[38;5;28mlen\u001b[39m(args) \u001b[38;5;241m>\u001b[39m num_allow_args:\n\u001b[1;32m    326\u001b[0m     warnings\u001b[38;5;241m.\u001b[39mwarn(\n\u001b[1;32m    327\u001b[0m         msg\u001b[38;5;241m.\u001b[39mformat(arguments\u001b[38;5;241m=\u001b[39m_format_argument_list(allow_args)),\n\u001b[1;32m    328\u001b[0m         \u001b[38;5;167;01mFutureWarning\u001b[39;00m,\n\u001b[1;32m    329\u001b[0m         stacklevel\u001b[38;5;241m=\u001b[39mfind_stack_level(),\n\u001b[1;32m    330\u001b[0m     )\n\u001b[0;32m--> 331\u001b[0m \u001b[38;5;28;01mreturn\u001b[39;00m \u001b[43mfunc\u001b[49m\u001b[43m(\u001b[49m\u001b[38;5;241;43m*\u001b[39;49m\u001b[43margs\u001b[49m\u001b[43m,\u001b[49m\u001b[43m \u001b[49m\u001b[38;5;241;43m*\u001b[39;49m\u001b[38;5;241;43m*\u001b[39;49m\u001b[43mkwargs\u001b[49m\u001b[43m)\u001b[49m\n",
      "File \u001b[0;32m~/anaconda3/lib/python3.10/site-packages/pandas/core/frame.py:5399\u001b[0m, in \u001b[0;36mDataFrame.drop\u001b[0;34m(self, labels, axis, index, columns, level, inplace, errors)\u001b[0m\n\u001b[1;32m   5251\u001b[0m \u001b[38;5;129m@deprecate_nonkeyword_arguments\u001b[39m(version\u001b[38;5;241m=\u001b[39m\u001b[38;5;28;01mNone\u001b[39;00m, allowed_args\u001b[38;5;241m=\u001b[39m[\u001b[38;5;124m\"\u001b[39m\u001b[38;5;124mself\u001b[39m\u001b[38;5;124m\"\u001b[39m, \u001b[38;5;124m\"\u001b[39m\u001b[38;5;124mlabels\u001b[39m\u001b[38;5;124m\"\u001b[39m])\n\u001b[1;32m   5252\u001b[0m \u001b[38;5;28;01mdef\u001b[39;00m \u001b[38;5;21mdrop\u001b[39m(  \u001b[38;5;66;03m# type: ignore[override]\u001b[39;00m\n\u001b[1;32m   5253\u001b[0m     \u001b[38;5;28mself\u001b[39m,\n\u001b[0;32m   (...)\u001b[0m\n\u001b[1;32m   5260\u001b[0m     errors: IgnoreRaise \u001b[38;5;241m=\u001b[39m \u001b[38;5;124m\"\u001b[39m\u001b[38;5;124mraise\u001b[39m\u001b[38;5;124m\"\u001b[39m,\n\u001b[1;32m   5261\u001b[0m ) \u001b[38;5;241m-\u001b[39m\u001b[38;5;241m>\u001b[39m DataFrame \u001b[38;5;241m|\u001b[39m \u001b[38;5;28;01mNone\u001b[39;00m:\n\u001b[1;32m   5262\u001b[0m     \u001b[38;5;124;03m\"\"\"\u001b[39;00m\n\u001b[1;32m   5263\u001b[0m \u001b[38;5;124;03m    Drop specified labels from rows or columns.\u001b[39;00m\n\u001b[1;32m   5264\u001b[0m \n\u001b[0;32m   (...)\u001b[0m\n\u001b[1;32m   5397\u001b[0m \u001b[38;5;124;03m            weight  1.0     0.8\u001b[39;00m\n\u001b[1;32m   5398\u001b[0m \u001b[38;5;124;03m    \"\"\"\u001b[39;00m\n\u001b[0;32m-> 5399\u001b[0m     \u001b[38;5;28;01mreturn\u001b[39;00m \u001b[38;5;28;43msuper\u001b[39;49m\u001b[43m(\u001b[49m\u001b[43m)\u001b[49m\u001b[38;5;241;43m.\u001b[39;49m\u001b[43mdrop\u001b[49m\u001b[43m(\u001b[49m\n\u001b[1;32m   5400\u001b[0m \u001b[43m        \u001b[49m\u001b[43mlabels\u001b[49m\u001b[38;5;241;43m=\u001b[39;49m\u001b[43mlabels\u001b[49m\u001b[43m,\u001b[49m\n\u001b[1;32m   5401\u001b[0m \u001b[43m        \u001b[49m\u001b[43maxis\u001b[49m\u001b[38;5;241;43m=\u001b[39;49m\u001b[43maxis\u001b[49m\u001b[43m,\u001b[49m\n\u001b[1;32m   5402\u001b[0m \u001b[43m        \u001b[49m\u001b[43mindex\u001b[49m\u001b[38;5;241;43m=\u001b[39;49m\u001b[43mindex\u001b[49m\u001b[43m,\u001b[49m\n\u001b[1;32m   5403\u001b[0m \u001b[43m        \u001b[49m\u001b[43mcolumns\u001b[49m\u001b[38;5;241;43m=\u001b[39;49m\u001b[43mcolumns\u001b[49m\u001b[43m,\u001b[49m\n\u001b[1;32m   5404\u001b[0m \u001b[43m        \u001b[49m\u001b[43mlevel\u001b[49m\u001b[38;5;241;43m=\u001b[39;49m\u001b[43mlevel\u001b[49m\u001b[43m,\u001b[49m\n\u001b[1;32m   5405\u001b[0m \u001b[43m        \u001b[49m\u001b[43minplace\u001b[49m\u001b[38;5;241;43m=\u001b[39;49m\u001b[43minplace\u001b[49m\u001b[43m,\u001b[49m\n\u001b[1;32m   5406\u001b[0m \u001b[43m        \u001b[49m\u001b[43merrors\u001b[49m\u001b[38;5;241;43m=\u001b[39;49m\u001b[43merrors\u001b[49m\u001b[43m,\u001b[49m\n\u001b[1;32m   5407\u001b[0m \u001b[43m    \u001b[49m\u001b[43m)\u001b[49m\n",
      "File \u001b[0;32m~/anaconda3/lib/python3.10/site-packages/pandas/util/_decorators.py:331\u001b[0m, in \u001b[0;36mdeprecate_nonkeyword_arguments.<locals>.decorate.<locals>.wrapper\u001b[0;34m(*args, **kwargs)\u001b[0m\n\u001b[1;32m    325\u001b[0m \u001b[38;5;28;01mif\u001b[39;00m \u001b[38;5;28mlen\u001b[39m(args) \u001b[38;5;241m>\u001b[39m num_allow_args:\n\u001b[1;32m    326\u001b[0m     warnings\u001b[38;5;241m.\u001b[39mwarn(\n\u001b[1;32m    327\u001b[0m         msg\u001b[38;5;241m.\u001b[39mformat(arguments\u001b[38;5;241m=\u001b[39m_format_argument_list(allow_args)),\n\u001b[1;32m    328\u001b[0m         \u001b[38;5;167;01mFutureWarning\u001b[39;00m,\n\u001b[1;32m    329\u001b[0m         stacklevel\u001b[38;5;241m=\u001b[39mfind_stack_level(),\n\u001b[1;32m    330\u001b[0m     )\n\u001b[0;32m--> 331\u001b[0m \u001b[38;5;28;01mreturn\u001b[39;00m \u001b[43mfunc\u001b[49m\u001b[43m(\u001b[49m\u001b[38;5;241;43m*\u001b[39;49m\u001b[43margs\u001b[49m\u001b[43m,\u001b[49m\u001b[43m \u001b[49m\u001b[38;5;241;43m*\u001b[39;49m\u001b[38;5;241;43m*\u001b[39;49m\u001b[43mkwargs\u001b[49m\u001b[43m)\u001b[49m\n",
      "File \u001b[0;32m~/anaconda3/lib/python3.10/site-packages/pandas/core/generic.py:4505\u001b[0m, in \u001b[0;36mNDFrame.drop\u001b[0;34m(self, labels, axis, index, columns, level, inplace, errors)\u001b[0m\n\u001b[1;32m   4503\u001b[0m \u001b[38;5;28;01mfor\u001b[39;00m axis, labels \u001b[38;5;129;01min\u001b[39;00m axes\u001b[38;5;241m.\u001b[39mitems():\n\u001b[1;32m   4504\u001b[0m     \u001b[38;5;28;01mif\u001b[39;00m labels \u001b[38;5;129;01mis\u001b[39;00m \u001b[38;5;129;01mnot\u001b[39;00m \u001b[38;5;28;01mNone\u001b[39;00m:\n\u001b[0;32m-> 4505\u001b[0m         obj \u001b[38;5;241m=\u001b[39m \u001b[43mobj\u001b[49m\u001b[38;5;241;43m.\u001b[39;49m\u001b[43m_drop_axis\u001b[49m\u001b[43m(\u001b[49m\u001b[43mlabels\u001b[49m\u001b[43m,\u001b[49m\u001b[43m \u001b[49m\u001b[43maxis\u001b[49m\u001b[43m,\u001b[49m\u001b[43m \u001b[49m\u001b[43mlevel\u001b[49m\u001b[38;5;241;43m=\u001b[39;49m\u001b[43mlevel\u001b[49m\u001b[43m,\u001b[49m\u001b[43m \u001b[49m\u001b[43merrors\u001b[49m\u001b[38;5;241;43m=\u001b[39;49m\u001b[43merrors\u001b[49m\u001b[43m)\u001b[49m\n\u001b[1;32m   4507\u001b[0m \u001b[38;5;28;01mif\u001b[39;00m inplace:\n\u001b[1;32m   4508\u001b[0m     \u001b[38;5;28mself\u001b[39m\u001b[38;5;241m.\u001b[39m_update_inplace(obj)\n",
      "File \u001b[0;32m~/anaconda3/lib/python3.10/site-packages/pandas/core/generic.py:4546\u001b[0m, in \u001b[0;36mNDFrame._drop_axis\u001b[0;34m(self, labels, axis, level, errors, only_slice)\u001b[0m\n\u001b[1;32m   4544\u001b[0m         new_axis \u001b[38;5;241m=\u001b[39m axis\u001b[38;5;241m.\u001b[39mdrop(labels, level\u001b[38;5;241m=\u001b[39mlevel, errors\u001b[38;5;241m=\u001b[39merrors)\n\u001b[1;32m   4545\u001b[0m     \u001b[38;5;28;01melse\u001b[39;00m:\n\u001b[0;32m-> 4546\u001b[0m         new_axis \u001b[38;5;241m=\u001b[39m \u001b[43maxis\u001b[49m\u001b[38;5;241;43m.\u001b[39;49m\u001b[43mdrop\u001b[49m\u001b[43m(\u001b[49m\u001b[43mlabels\u001b[49m\u001b[43m,\u001b[49m\u001b[43m \u001b[49m\u001b[43merrors\u001b[49m\u001b[38;5;241;43m=\u001b[39;49m\u001b[43merrors\u001b[49m\u001b[43m)\u001b[49m\n\u001b[1;32m   4547\u001b[0m     indexer \u001b[38;5;241m=\u001b[39m axis\u001b[38;5;241m.\u001b[39mget_indexer(new_axis)\n\u001b[1;32m   4549\u001b[0m \u001b[38;5;66;03m# Case for non-unique axis\u001b[39;00m\n\u001b[1;32m   4550\u001b[0m \u001b[38;5;28;01melse\u001b[39;00m:\n",
      "File \u001b[0;32m~/anaconda3/lib/python3.10/site-packages/pandas/core/indexes/base.py:6934\u001b[0m, in \u001b[0;36mIndex.drop\u001b[0;34m(self, labels, errors)\u001b[0m\n\u001b[1;32m   6932\u001b[0m \u001b[38;5;28;01mif\u001b[39;00m mask\u001b[38;5;241m.\u001b[39many():\n\u001b[1;32m   6933\u001b[0m     \u001b[38;5;28;01mif\u001b[39;00m errors \u001b[38;5;241m!=\u001b[39m \u001b[38;5;124m\"\u001b[39m\u001b[38;5;124mignore\u001b[39m\u001b[38;5;124m\"\u001b[39m:\n\u001b[0;32m-> 6934\u001b[0m         \u001b[38;5;28;01mraise\u001b[39;00m \u001b[38;5;167;01mKeyError\u001b[39;00m(\u001b[38;5;124mf\u001b[39m\u001b[38;5;124m\"\u001b[39m\u001b[38;5;132;01m{\u001b[39;00m\u001b[38;5;28mlist\u001b[39m(labels[mask])\u001b[38;5;132;01m}\u001b[39;00m\u001b[38;5;124m not found in axis\u001b[39m\u001b[38;5;124m\"\u001b[39m)\n\u001b[1;32m   6935\u001b[0m     indexer \u001b[38;5;241m=\u001b[39m indexer[\u001b[38;5;241m~\u001b[39mmask]\n\u001b[1;32m   6936\u001b[0m \u001b[38;5;28;01mreturn\u001b[39;00m \u001b[38;5;28mself\u001b[39m\u001b[38;5;241m.\u001b[39mdelete(indexer)\n",
      "\u001b[0;31mKeyError\u001b[0m: \"['MONTHS_BALANCE'] not found in axis\""
     ]
    }
   ],
   "source": [
    "credit_df_trans.drop('MONTHS_BALANCE', axis=1, inplace=True)\n",
    "credit_df_trans.head()"
   ]
  },
  {
   "cell_type": "code",
   "execution_count": 93,
   "id": "4879c73a-ab84-4082-82b7-94ba1e8cf993",
   "metadata": {},
   "outputs": [
    {
     "data": {
      "text/plain": [
       "(36373, 16)"
      ]
     },
     "execution_count": 93,
     "metadata": {},
     "output_type": "execute_result"
    }
   ],
   "source": [
    "credit_app.shape"
   ]
  },
  {
   "cell_type": "code",
   "execution_count": 94,
   "id": "e2e88847-4ce1-4cd6-ba80-46f5d29e9af4",
   "metadata": {},
   "outputs": [],
   "source": [
    "credit_app.drop('ID', axis=1, inplace=True)"
   ]
  },
  {
   "cell_type": "code",
   "execution_count": 95,
   "id": "5353131b-e8f7-4a48-929a-b4d7acfcab8a",
   "metadata": {},
   "outputs": [
    {
     "data": {
      "text/plain": [
       "4402"
      ]
     },
     "execution_count": 95,
     "metadata": {},
     "output_type": "execute_result"
    }
   ],
   "source": [
    "# checking if there are still duplicate rows in credit_app Dataframe\n",
    "len(credit_app) - len(credit_app.drop_duplicates())"
   ]
  },
  {
   "cell_type": "code",
   "execution_count": 96,
   "id": "1c8d91e3-03c3-481c-b57a-4faf17dd8e3e",
   "metadata": {},
   "outputs": [],
   "source": [
    "# Dropping duplicate records\n",
    "credit_app = credit_app.drop_duplicates()\n",
    "credit_app.reset_index(drop=True ,inplace=True)"
   ]
  },
  {
   "cell_type": "code",
   "execution_count": 97,
   "id": "2de22a99-333c-45fa-9b79-5ed9cdcb499c",
   "metadata": {},
   "outputs": [
    {
     "data": {
      "text/plain": [
       "(31971, 15)"
      ]
     },
     "execution_count": 97,
     "metadata": {},
     "output_type": "execute_result"
    }
   ],
   "source": [
    "credit_app.shape"
   ]
  },
  {
   "cell_type": "code",
   "execution_count": 98,
   "id": "1efc6196-0f92-4141-92a7-ef402662b36e",
   "metadata": {},
   "outputs": [
    {
     "data": {
      "text/plain": [
       "0    99.971849\n",
       "1     0.028151\n",
       "Name: STATUS, dtype: float64"
      ]
     },
     "execution_count": 98,
     "metadata": {},
     "output_type": "execute_result"
    }
   ],
   "source": [
    "credit_app['STATUS'].value_counts(normalize=True)*100"
   ]
  },
  {
   "cell_type": "code",
   "execution_count": 77,
   "id": "a64f5baf-03aa-4644-a628-144480db8d3c",
   "metadata": {},
   "outputs": [
    {
     "data": {
      "text/plain": [
       "'\\nFormally state what your model will predict using the variables in the data.\\n\\nThe logistic regression model will predict binary loan approval outcomes (approved or not approved) from a bank loan application dataset.\\n'"
      ]
     },
     "execution_count": 77,
     "metadata": {},
     "output_type": "execute_result"
    }
   ],
   "source": [
    "'''\n",
    "Formally state what your model will predict using the variables in the data.\n",
    "\n",
    "The logistic regression model will predict binary loan approval outcomes (approved or not approved) from a bank loan application dataset.\n",
    "'''"
   ]
  },
  {
   "cell_type": "code",
   "execution_count": null,
   "id": "95088cb4-d261-4cb3-89d5-e050fdff098d",
   "metadata": {},
   "outputs": [],
   "source": [
    "#EDA PLOTS"
   ]
  },
  {
   "cell_type": "code",
   "execution_count": 99,
   "id": "381cd988-d708-420a-9f54-d83036219e54",
   "metadata": {},
   "outputs": [
    {
     "name": "stderr",
     "output_type": "stream",
     "text": [
      "/var/folders/87/282ht65d4m13tkmwtmpv92mw0000gn/T/ipykernel_12490/4171035595.py:3: FutureWarning: The default value of numeric_only in DataFrame.corr is deprecated. In a future version, it will default to False. Select only valid columns or specify the value of numeric_only to silence this warning.\n",
      "  sns.heatmap(credit_app.corr(), annot=True)\n"
     ]
    },
    {
     "data": {
      "image/png": "[encoded data removed]",
      "text/plain": [
       "<Figure size 800x800 with 2 Axes>"
      ]
     },
     "metadata": {},
     "output_type": "display_data"
    }
   ],
   "source": [
    "# This graph shows that, there is no column (Feature) which is highly co-related with 'Status'\n",
    "plt.figure(figsize = (8,8))\n",
    "sns.heatmap(credit_app.corr(), annot=True)\n",
    "plt.show()"
   ]
  },
  {
   "cell_type": "code",
   "execution_count": 106,
   "id": "754392e3-5ffb-4cbb-a444-46b62b4512d0",
   "metadata": {},
   "outputs": [
    {
     "data": {
      "text/html": [
       "<div>\n",
       "<style scoped>\n",
       "    .dataframe tbody tr th:only-of-type {\n",
       "        vertical-align: middle;\n",
       "    }\n",
       "\n",
       "    .dataframe tbody tr th {\n",
       "        vertical-align: top;\n",
       "    }\n",
       "\n",
       "    .dataframe thead th {\n",
       "        text-align: right;\n",
       "    }\n",
       "</style>\n",
       "<table border=\"1\" class=\"dataframe\">\n",
       "  <thead>\n",
       "    <tr style=\"text-align: right;\">\n",
       "      <th></th>\n",
       "      <th>MONTHS_BALANCE</th>\n",
       "      <th>STATUS</th>\n",
       "      <th>CODE_GENDER</th>\n",
       "      <th>FLAG_OWN_CAR</th>\n",
       "      <th>FLAG_OWN_REALTY</th>\n",
       "      <th>CNT_CHILDREN</th>\n",
       "      <th>AMT_INCOME_TOTAL</th>\n",
       "      <th>NAME_INCOME_TYPE</th>\n",
       "      <th>NAME_EDUCATION_TYPE</th>\n",
       "      <th>NAME_FAMILY_STATUS</th>\n",
       "      <th>NAME_HOUSING_TYPE</th>\n",
       "      <th>AGE_YEARS</th>\n",
       "      <th>YEARS_EMPLOYED</th>\n",
       "      <th>FLAG_WORK_PHONE</th>\n",
       "      <th>CNT_FAM_MEMBERS</th>\n",
       "    </tr>\n",
       "  </thead>\n",
       "  <tbody>\n",
       "    <tr>\n",
       "      <th>0</th>\n",
       "      <td>-15</td>\n",
       "      <td>0</td>\n",
       "      <td>1</td>\n",
       "      <td>1</td>\n",
       "      <td>1</td>\n",
       "      <td>0</td>\n",
       "      <td>427500.0</td>\n",
       "      <td>4</td>\n",
       "      <td>1</td>\n",
       "      <td>0</td>\n",
       "      <td>4</td>\n",
       "      <td>33.0</td>\n",
       "      <td>12.0</td>\n",
       "      <td>1</td>\n",
       "      <td>2.0</td>\n",
       "    </tr>\n",
       "    <tr>\n",
       "      <th>1</th>\n",
       "      <td>-14</td>\n",
       "      <td>0</td>\n",
       "      <td>1</td>\n",
       "      <td>1</td>\n",
       "      <td>1</td>\n",
       "      <td>0</td>\n",
       "      <td>427500.0</td>\n",
       "      <td>4</td>\n",
       "      <td>1</td>\n",
       "      <td>0</td>\n",
       "      <td>4</td>\n",
       "      <td>33.0</td>\n",
       "      <td>12.0</td>\n",
       "      <td>1</td>\n",
       "      <td>2.0</td>\n",
       "    </tr>\n",
       "    <tr>\n",
       "      <th>2</th>\n",
       "      <td>-29</td>\n",
       "      <td>0</td>\n",
       "      <td>1</td>\n",
       "      <td>1</td>\n",
       "      <td>1</td>\n",
       "      <td>0</td>\n",
       "      <td>112500.0</td>\n",
       "      <td>4</td>\n",
       "      <td>4</td>\n",
       "      <td>1</td>\n",
       "      <td>1</td>\n",
       "      <td>59.0</td>\n",
       "      <td>3.0</td>\n",
       "      <td>0</td>\n",
       "      <td>2.0</td>\n",
       "    </tr>\n",
       "    <tr>\n",
       "      <th>3</th>\n",
       "      <td>-4</td>\n",
       "      <td>0</td>\n",
       "      <td>0</td>\n",
       "      <td>0</td>\n",
       "      <td>1</td>\n",
       "      <td>0</td>\n",
       "      <td>270000.0</td>\n",
       "      <td>0</td>\n",
       "      <td>4</td>\n",
       "      <td>3</td>\n",
       "      <td>1</td>\n",
       "      <td>52.0</td>\n",
       "      <td>8.0</td>\n",
       "      <td>0</td>\n",
       "      <td>1.0</td>\n",
       "    </tr>\n",
       "    <tr>\n",
       "      <th>4</th>\n",
       "      <td>-26</td>\n",
       "      <td>0</td>\n",
       "      <td>0</td>\n",
       "      <td>0</td>\n",
       "      <td>1</td>\n",
       "      <td>0</td>\n",
       "      <td>270000.0</td>\n",
       "      <td>0</td>\n",
       "      <td>4</td>\n",
       "      <td>3</td>\n",
       "      <td>1</td>\n",
       "      <td>52.0</td>\n",
       "      <td>8.0</td>\n",
       "      <td>0</td>\n",
       "      <td>1.0</td>\n",
       "    </tr>\n",
       "  </tbody>\n",
       "</table>\n",
       "</div>"
      ],
      "text/plain": [
       "   MONTHS_BALANCE  STATUS  CODE_GENDER  FLAG_OWN_CAR  FLAG_OWN_REALTY  \\\n",
       "0             -15       0            1             1                1   \n",
       "1             -14       0            1             1                1   \n",
       "2             -29       0            1             1                1   \n",
       "3              -4       0            0             0                1   \n",
       "4             -26       0            0             0                1   \n",
       "\n",
       "   CNT_CHILDREN  AMT_INCOME_TOTAL  NAME_INCOME_TYPE  NAME_EDUCATION_TYPE  \\\n",
       "0             0          427500.0                 4                    1   \n",
       "1             0          427500.0                 4                    1   \n",
       "2             0          112500.0                 4                    4   \n",
       "3             0          270000.0                 0                    4   \n",
       "4             0          270000.0                 0                    4   \n",
       "\n",
       "   NAME_FAMILY_STATUS  NAME_HOUSING_TYPE  AGE_YEARS  YEARS_EMPLOYED  \\\n",
       "0                   0                  4       33.0            12.0   \n",
       "1                   0                  4       33.0            12.0   \n",
       "2                   1                  1       59.0             3.0   \n",
       "3                   3                  1       52.0             8.0   \n",
       "4                   3                  1       52.0             8.0   \n",
       "\n",
       "   FLAG_WORK_PHONE  CNT_FAM_MEMBERS  \n",
       "0                1              2.0  \n",
       "1                1              2.0  \n",
       "2                0              2.0  \n",
       "3                0              1.0  \n",
       "4                0              1.0  "
      ]
     },
     "execution_count": 106,
     "metadata": {},
     "output_type": "execute_result"
    }
   ],
   "source": [
    "#Converting all Non-Numerical Columns to Numerical\n",
    "from sklearn.preprocessing import LabelEncoder\n",
    "\n",
    "for col in cat_columns:\n",
    "        globals()['LE_{}'.format(col)] = LabelEncoder()\n",
    "        credit_app[col] = globals()['LE_{}'.format(col)].fit_transform(credit_app[col])\n",
    "credit_app.head()  "
   ]
  },
  {
   "cell_type": "code",
   "execution_count": 101,
   "id": "cf432676-bbad-4880-b4f4-190609e6ad04",
   "metadata": {},
   "outputs": [
    {
     "name": "stdout",
     "output_type": "stream",
     "text": [
      "STATUS   :  [0 1]\n",
      "CODE_GENDER   :  ['F' 'M']\n",
      "FLAG_OWN_CAR   :  ['N' 'Y']\n",
      "FLAG_OWN_REALTY   :  ['N' 'Y']\n",
      "NAME_INCOME_TYPE   :  ['Commercial associate' 'Pensioner' 'State servant' 'Student' 'Working']\n",
      "NAME_EDUCATION_TYPE   :  ['Academic degree' 'Higher education' 'Incomplete higher'\n",
      " 'Lower secondary' 'Secondary / secondary special']\n",
      "NAME_FAMILY_STATUS   :  ['Civil marriage' 'Married' 'Separated' 'Single / not married' 'Widow']\n",
      "NAME_HOUSING_TYPE   :  ['Co-op apartment' 'House / apartment' 'Municipal apartment'\n",
      " 'Office apartment' 'Rented apartment' 'With parents']\n"
     ]
    }
   ],
   "source": [
    "for col in cat_columns:\n",
    "    print(col , \"  : \", globals()['LE_{}'.format(col)].classes_)"
   ]
  },
  {
   "cell_type": "code",
   "execution_count": 112,
   "id": "f60332b8-2442-4e39-baed-9e87bd7c7776",
   "metadata": {},
   "outputs": [
    {
     "data": {
      "text/html": [
       "<div>\n",
       "<style scoped>\n",
       "    .dataframe tbody tr th:only-of-type {\n",
       "        vertical-align: middle;\n",
       "    }\n",
       "\n",
       "    .dataframe tbody tr th {\n",
       "        vertical-align: top;\n",
       "    }\n",
       "\n",
       "    .dataframe thead th {\n",
       "        text-align: right;\n",
       "    }\n",
       "</style>\n",
       "<table border=\"1\" class=\"dataframe\">\n",
       "  <thead>\n",
       "    <tr style=\"text-align: right;\">\n",
       "      <th></th>\n",
       "      <th>MONTHS_BALANCE</th>\n",
       "      <th>STATUS</th>\n",
       "      <th>CODE_GENDER</th>\n",
       "      <th>FLAG_OWN_CAR</th>\n",
       "      <th>FLAG_OWN_REALTY</th>\n",
       "      <th>CNT_CHILDREN</th>\n",
       "      <th>AMT_INCOME_TOTAL</th>\n",
       "      <th>NAME_INCOME_TYPE</th>\n",
       "      <th>NAME_EDUCATION_TYPE</th>\n",
       "      <th>NAME_FAMILY_STATUS</th>\n",
       "      <th>NAME_HOUSING_TYPE</th>\n",
       "      <th>AGE_YEARS</th>\n",
       "      <th>YEARS_EMPLOYED</th>\n",
       "      <th>FLAG_WORK_PHONE</th>\n",
       "      <th>CNT_FAM_MEMBERS</th>\n",
       "    </tr>\n",
       "  </thead>\n",
       "  <tbody>\n",
       "    <tr>\n",
       "      <th>MONTHS_BALANCE</th>\n",
       "      <td>1.000000</td>\n",
       "      <td>0.002556</td>\n",
       "      <td>0.007547</td>\n",
       "      <td>-0.026478</td>\n",
       "      <td>0.005645</td>\n",
       "      <td>0.002281</td>\n",
       "      <td>-0.018356</td>\n",
       "      <td>0.002072</td>\n",
       "      <td>0.013748</td>\n",
       "      <td>0.026632</td>\n",
       "      <td>0.033355</td>\n",
       "      <td>-0.062021</td>\n",
       "      <td>-0.072923</td>\n",
       "      <td>-0.008550</td>\n",
       "      <td>-0.015441</td>\n",
       "    </tr>\n",
       "    <tr>\n",
       "      <th>STATUS</th>\n",
       "      <td>0.002556</td>\n",
       "      <td>1.000000</td>\n",
       "      <td>-0.007845</td>\n",
       "      <td>-0.009271</td>\n",
       "      <td>0.007793</td>\n",
       "      <td>-0.007407</td>\n",
       "      <td>-0.008965</td>\n",
       "      <td>-0.007066</td>\n",
       "      <td>0.002942</td>\n",
       "      <td>0.016929</td>\n",
       "      <td>-0.005017</td>\n",
       "      <td>0.008775</td>\n",
       "      <td>-0.003527</td>\n",
       "      <td>-0.004603</td>\n",
       "      <td>-0.012017</td>\n",
       "    </tr>\n",
       "    <tr>\n",
       "      <th>CODE_GENDER</th>\n",
       "      <td>0.007547</td>\n",
       "      <td>-0.007845</td>\n",
       "      <td>1.000000</td>\n",
       "      <td>0.362990</td>\n",
       "      <td>-0.051151</td>\n",
       "      <td>0.077879</td>\n",
       "      <td>0.207807</td>\n",
       "      <td>0.105205</td>\n",
       "      <td>0.007118</td>\n",
       "      <td>-0.097720</td>\n",
       "      <td>0.068686</td>\n",
       "      <td>-0.201889</td>\n",
       "      <td>-0.033440</td>\n",
       "      <td>0.063817</td>\n",
       "      <td>0.110536</td>\n",
       "    </tr>\n",
       "    <tr>\n",
       "      <th>FLAG_OWN_CAR</th>\n",
       "      <td>-0.026478</td>\n",
       "      <td>-0.009271</td>\n",
       "      <td>0.362990</td>\n",
       "      <td>1.000000</td>\n",
       "      <td>-0.012634</td>\n",
       "      <td>0.105473</td>\n",
       "      <td>0.220272</td>\n",
       "      <td>0.053713</td>\n",
       "      <td>-0.100355</td>\n",
       "      <td>-0.124323</td>\n",
       "      <td>0.015492</td>\n",
       "      <td>-0.155631</td>\n",
       "      <td>0.005722</td>\n",
       "      <td>0.021258</td>\n",
       "      <td>0.152462</td>\n",
       "    </tr>\n",
       "    <tr>\n",
       "      <th>FLAG_OWN_REALTY</th>\n",
       "      <td>0.005645</td>\n",
       "      <td>0.007793</td>\n",
       "      <td>-0.051151</td>\n",
       "      <td>-0.012634</td>\n",
       "      <td>1.000000</td>\n",
       "      <td>-0.002125</td>\n",
       "      <td>0.035356</td>\n",
       "      <td>-0.045849</td>\n",
       "      <td>0.008140</td>\n",
       "      <td>0.017875</td>\n",
       "      <td>-0.185510</td>\n",
       "      <td>0.131689</td>\n",
       "      <td>-0.028489</td>\n",
       "      <td>-0.206146</td>\n",
       "      <td>-0.004838</td>\n",
       "    </tr>\n",
       "    <tr>\n",
       "      <th>CNT_CHILDREN</th>\n",
       "      <td>0.002281</td>\n",
       "      <td>-0.007407</td>\n",
       "      <td>0.077879</td>\n",
       "      <td>0.105473</td>\n",
       "      <td>-0.002125</td>\n",
       "      <td>1.000000</td>\n",
       "      <td>0.035688</td>\n",
       "      <td>0.105467</td>\n",
       "      <td>-0.048928</td>\n",
       "      <td>-0.168138</td>\n",
       "      <td>0.029721</td>\n",
       "      <td>-0.347830</td>\n",
       "      <td>0.044037</td>\n",
       "      <td>0.048063</td>\n",
       "      <td>0.884392</td>\n",
       "    </tr>\n",
       "    <tr>\n",
       "      <th>AMT_INCOME_TOTAL</th>\n",
       "      <td>-0.018356</td>\n",
       "      <td>-0.008965</td>\n",
       "      <td>0.207807</td>\n",
       "      <td>0.220272</td>\n",
       "      <td>0.035356</td>\n",
       "      <td>0.035688</td>\n",
       "      <td>1.000000</td>\n",
       "      <td>-0.072156</td>\n",
       "      <td>-0.229888</td>\n",
       "      <td>-0.008048</td>\n",
       "      <td>-0.012370</td>\n",
       "      <td>-0.065602</td>\n",
       "      <td>0.085968</td>\n",
       "      <td>-0.039292</td>\n",
       "      <td>0.027763</td>\n",
       "    </tr>\n",
       "    <tr>\n",
       "      <th>NAME_INCOME_TYPE</th>\n",
       "      <td>0.002072</td>\n",
       "      <td>-0.007066</td>\n",
       "      <td>0.105205</td>\n",
       "      <td>0.053713</td>\n",
       "      <td>-0.045849</td>\n",
       "      <td>0.105467</td>\n",
       "      <td>-0.072156</td>\n",
       "      <td>1.000000</td>\n",
       "      <td>0.058954</td>\n",
       "      <td>-0.045789</td>\n",
       "      <td>0.039386</td>\n",
       "      <td>-0.211774</td>\n",
       "      <td>0.190383</td>\n",
       "      <td>0.166096</td>\n",
       "      <td>0.103993</td>\n",
       "    </tr>\n",
       "    <tr>\n",
       "      <th>NAME_EDUCATION_TYPE</th>\n",
       "      <td>0.013748</td>\n",
       "      <td>0.002942</td>\n",
       "      <td>0.007118</td>\n",
       "      <td>-0.100355</td>\n",
       "      <td>0.008140</td>\n",
       "      <td>-0.048928</td>\n",
       "      <td>-0.229888</td>\n",
       "      <td>0.058954</td>\n",
       "      <td>1.000000</td>\n",
       "      <td>0.006779</td>\n",
       "      <td>-0.036735</td>\n",
       "      <td>0.165627</td>\n",
       "      <td>-0.016681</td>\n",
       "      <td>-0.018147</td>\n",
       "      <td>-0.039350</td>\n",
       "    </tr>\n",
       "    <tr>\n",
       "      <th>NAME_FAMILY_STATUS</th>\n",
       "      <td>0.026632</td>\n",
       "      <td>0.016929</td>\n",
       "      <td>-0.097720</td>\n",
       "      <td>-0.124323</td>\n",
       "      <td>0.017875</td>\n",
       "      <td>-0.168138</td>\n",
       "      <td>-0.008048</td>\n",
       "      <td>-0.045789</td>\n",
       "      <td>0.006779</td>\n",
       "      <td>1.000000</td>\n",
       "      <td>0.009693</td>\n",
       "      <td>0.108179</td>\n",
       "      <td>-0.050593</td>\n",
       "      <td>-0.060866</td>\n",
       "      <td>-0.559519</td>\n",
       "    </tr>\n",
       "    <tr>\n",
       "      <th>NAME_HOUSING_TYPE</th>\n",
       "      <td>0.033355</td>\n",
       "      <td>-0.005017</td>\n",
       "      <td>0.068686</td>\n",
       "      <td>0.015492</td>\n",
       "      <td>-0.185510</td>\n",
       "      <td>0.029721</td>\n",
       "      <td>-0.012370</td>\n",
       "      <td>0.039386</td>\n",
       "      <td>-0.036735</td>\n",
       "      <td>0.009693</td>\n",
       "      <td>1.000000</td>\n",
       "      <td>-0.214570</td>\n",
       "      <td>-0.022833</td>\n",
       "      <td>0.034825</td>\n",
       "      <td>0.008008</td>\n",
       "    </tr>\n",
       "    <tr>\n",
       "      <th>AGE_YEARS</th>\n",
       "      <td>-0.062021</td>\n",
       "      <td>0.008775</td>\n",
       "      <td>-0.201889</td>\n",
       "      <td>-0.155631</td>\n",
       "      <td>0.131689</td>\n",
       "      <td>-0.347830</td>\n",
       "      <td>-0.065602</td>\n",
       "      <td>-0.211774</td>\n",
       "      <td>0.165627</td>\n",
       "      <td>0.108179</td>\n",
       "      <td>-0.214570</td>\n",
       "      <td>1.000000</td>\n",
       "      <td>-0.019165</td>\n",
       "      <td>-0.180176</td>\n",
       "      <td>-0.308470</td>\n",
       "    </tr>\n",
       "    <tr>\n",
       "      <th>YEARS_EMPLOYED</th>\n",
       "      <td>-0.072923</td>\n",
       "      <td>-0.003527</td>\n",
       "      <td>-0.033440</td>\n",
       "      <td>0.005722</td>\n",
       "      <td>-0.028489</td>\n",
       "      <td>0.044037</td>\n",
       "      <td>0.085968</td>\n",
       "      <td>0.190383</td>\n",
       "      <td>-0.016681</td>\n",
       "      <td>-0.050593</td>\n",
       "      <td>-0.022833</td>\n",
       "      <td>-0.019165</td>\n",
       "      <td>1.000000</td>\n",
       "      <td>0.110582</td>\n",
       "      <td>0.056118</td>\n",
       "    </tr>\n",
       "    <tr>\n",
       "      <th>FLAG_WORK_PHONE</th>\n",
       "      <td>-0.008550</td>\n",
       "      <td>-0.004603</td>\n",
       "      <td>0.063817</td>\n",
       "      <td>0.021258</td>\n",
       "      <td>-0.206146</td>\n",
       "      <td>0.048063</td>\n",
       "      <td>-0.039292</td>\n",
       "      <td>0.166096</td>\n",
       "      <td>-0.018147</td>\n",
       "      <td>-0.060866</td>\n",
       "      <td>0.034825</td>\n",
       "      <td>-0.180176</td>\n",
       "      <td>0.110582</td>\n",
       "      <td>1.000000</td>\n",
       "      <td>0.063567</td>\n",
       "    </tr>\n",
       "    <tr>\n",
       "      <th>CNT_FAM_MEMBERS</th>\n",
       "      <td>-0.015441</td>\n",
       "      <td>-0.012017</td>\n",
       "      <td>0.110536</td>\n",
       "      <td>0.152462</td>\n",
       "      <td>-0.004838</td>\n",
       "      <td>0.884392</td>\n",
       "      <td>0.027763</td>\n",
       "      <td>0.103993</td>\n",
       "      <td>-0.039350</td>\n",
       "      <td>-0.559519</td>\n",
       "      <td>0.008008</td>\n",
       "      <td>-0.308470</td>\n",
       "      <td>0.056118</td>\n",
       "      <td>0.063567</td>\n",
       "      <td>1.000000</td>\n",
       "    </tr>\n",
       "  </tbody>\n",
       "</table>\n",
       "</div>"
      ],
      "text/plain": [
       "                     MONTHS_BALANCE    STATUS  CODE_GENDER  FLAG_OWN_CAR  \\\n",
       "MONTHS_BALANCE             1.000000  0.002556     0.007547     -0.026478   \n",
       "STATUS                     0.002556  1.000000    -0.007845     -0.009271   \n",
       "CODE_GENDER                0.007547 -0.007845     1.000000      0.362990   \n",
       "FLAG_OWN_CAR              -0.026478 -0.009271     0.362990      1.000000   \n",
       "FLAG_OWN_REALTY            0.005645  0.007793    -0.051151     -0.012634   \n",
       "CNT_CHILDREN               0.002281 -0.007407     0.077879      0.105473   \n",
       "AMT_INCOME_TOTAL          -0.018356 -0.008965     0.207807      0.220272   \n",
       "NAME_INCOME_TYPE           0.002072 -0.007066     0.105205      0.053713   \n",
       "NAME_EDUCATION_TYPE        0.013748  0.002942     0.007118     -0.100355   \n",
       "NAME_FAMILY_STATUS         0.026632  0.016929    -0.097720     -0.124323   \n",
       "NAME_HOUSING_TYPE          0.033355 -0.005017     0.068686      0.015492   \n",
       "AGE_YEARS                 -0.062021  0.008775    -0.201889     -0.155631   \n",
       "YEARS_EMPLOYED            -0.072923 -0.003527    -0.033440      0.005722   \n",
       "FLAG_WORK_PHONE           -0.008550 -0.004603     0.063817      0.021258   \n",
       "CNT_FAM_MEMBERS           -0.015441 -0.012017     0.110536      0.152462   \n",
       "\n",
       "                     FLAG_OWN_REALTY  CNT_CHILDREN  AMT_INCOME_TOTAL  \\\n",
       "MONTHS_BALANCE              0.005645      0.002281         -0.018356   \n",
       "STATUS                      0.007793     -0.007407         -0.008965   \n",
       "CODE_GENDER                -0.051151      0.077879          0.207807   \n",
       "FLAG_OWN_CAR               -0.012634      0.105473          0.220272   \n",
       "FLAG_OWN_REALTY             1.000000     -0.002125          0.035356   \n",
       "CNT_CHILDREN               -0.002125      1.000000          0.035688   \n",
       "AMT_INCOME_TOTAL            0.035356      0.035688          1.000000   \n",
       "NAME_INCOME_TYPE           -0.045849      0.105467         -0.072156   \n",
       "NAME_EDUCATION_TYPE         0.008140     -0.048928         -0.229888   \n",
       "NAME_FAMILY_STATUS          0.017875     -0.168138         -0.008048   \n",
       "NAME_HOUSING_TYPE          -0.185510      0.029721         -0.012370   \n",
       "AGE_YEARS                   0.131689     -0.347830         -0.065602   \n",
       "YEARS_EMPLOYED             -0.028489      0.044037          0.085968   \n",
       "FLAG_WORK_PHONE            -0.206146      0.048063         -0.039292   \n",
       "CNT_FAM_MEMBERS            -0.004838      0.884392          0.027763   \n",
       "\n",
       "                     NAME_INCOME_TYPE  NAME_EDUCATION_TYPE  \\\n",
       "MONTHS_BALANCE               0.002072             0.013748   \n",
       "STATUS                      -0.007066             0.002942   \n",
       "CODE_GENDER                  0.105205             0.007118   \n",
       "FLAG_OWN_CAR                 0.053713            -0.100355   \n",
       "FLAG_OWN_REALTY             -0.045849             0.008140   \n",
       "CNT_CHILDREN                 0.105467            -0.048928   \n",
       "AMT_INCOME_TOTAL            -0.072156            -0.229888   \n",
       "NAME_INCOME_TYPE             1.000000             0.058954   \n",
       "NAME_EDUCATION_TYPE          0.058954             1.000000   \n",
       "NAME_FAMILY_STATUS          -0.045789             0.006779   \n",
       "NAME_HOUSING_TYPE            0.039386            -0.036735   \n",
       "AGE_YEARS                   -0.211774             0.165627   \n",
       "YEARS_EMPLOYED               0.190383            -0.016681   \n",
       "FLAG_WORK_PHONE              0.166096            -0.018147   \n",
       "CNT_FAM_MEMBERS              0.103993            -0.039350   \n",
       "\n",
       "                     NAME_FAMILY_STATUS  NAME_HOUSING_TYPE  AGE_YEARS  \\\n",
       "MONTHS_BALANCE                 0.026632           0.033355  -0.062021   \n",
       "STATUS                         0.016929          -0.005017   0.008775   \n",
       "CODE_GENDER                   -0.097720           0.068686  -0.201889   \n",
       "FLAG_OWN_CAR                  -0.124323           0.015492  -0.155631   \n",
       "FLAG_OWN_REALTY                0.017875          -0.185510   0.131689   \n",
       "CNT_CHILDREN                  -0.168138           0.029721  -0.347830   \n",
       "AMT_INCOME_TOTAL              -0.008048          -0.012370  -0.065602   \n",
       "NAME_INCOME_TYPE              -0.045789           0.039386  -0.211774   \n",
       "NAME_EDUCATION_TYPE            0.006779          -0.036735   0.165627   \n",
       "NAME_FAMILY_STATUS             1.000000           0.009693   0.108179   \n",
       "NAME_HOUSING_TYPE              0.009693           1.000000  -0.214570   \n",
       "AGE_YEARS                      0.108179          -0.214570   1.000000   \n",
       "YEARS_EMPLOYED                -0.050593          -0.022833  -0.019165   \n",
       "FLAG_WORK_PHONE               -0.060866           0.034825  -0.180176   \n",
       "CNT_FAM_MEMBERS               -0.559519           0.008008  -0.308470   \n",
       "\n",
       "                     YEARS_EMPLOYED  FLAG_WORK_PHONE  CNT_FAM_MEMBERS  \n",
       "MONTHS_BALANCE            -0.072923        -0.008550        -0.015441  \n",
       "STATUS                    -0.003527        -0.004603        -0.012017  \n",
       "CODE_GENDER               -0.033440         0.063817         0.110536  \n",
       "FLAG_OWN_CAR               0.005722         0.021258         0.152462  \n",
       "FLAG_OWN_REALTY           -0.028489        -0.206146        -0.004838  \n",
       "CNT_CHILDREN               0.044037         0.048063         0.884392  \n",
       "AMT_INCOME_TOTAL           0.085968        -0.039292         0.027763  \n",
       "NAME_INCOME_TYPE           0.190383         0.166096         0.103993  \n",
       "NAME_EDUCATION_TYPE       -0.016681        -0.018147        -0.039350  \n",
       "NAME_FAMILY_STATUS        -0.050593        -0.060866        -0.559519  \n",
       "NAME_HOUSING_TYPE         -0.022833         0.034825         0.008008  \n",
       "AGE_YEARS                 -0.019165        -0.180176        -0.308470  \n",
       "YEARS_EMPLOYED             1.000000         0.110582         0.056118  \n",
       "FLAG_WORK_PHONE            0.110582         1.000000         0.063567  \n",
       "CNT_FAM_MEMBERS            0.056118         0.063567         1.000000  "
      ]
     },
     "execution_count": 112,
     "metadata": {},
     "output_type": "execute_result"
    }
   ],
   "source": [
    "credit_app.corr()"
   ]
  },
  {
   "cell_type": "code",
   "execution_count": 108,
   "id": "69704f22-1969-4929-aab9-47a7b9fa75b9",
   "metadata": {},
   "outputs": [],
   "source": [
    "features = credit_app.drop(['STATUS'], axis=1)\n",
    "label = credit_app['STATUS']"
   ]
  },
  {
   "cell_type": "code",
   "execution_count": 109,
   "id": "fdf3fb0c-1feb-4606-b818-64cccac00322",
   "metadata": {},
   "outputs": [
    {
     "data": {
      "text/html": [
       "<div>\n",
       "<style scoped>\n",
       "    .dataframe tbody tr th:only-of-type {\n",
       "        vertical-align: middle;\n",
       "    }\n",
       "\n",
       "    .dataframe tbody tr th {\n",
       "        vertical-align: top;\n",
       "    }\n",
       "\n",
       "    .dataframe thead th {\n",
       "        text-align: right;\n",
       "    }\n",
       "</style>\n",
       "<table border=\"1\" class=\"dataframe\">\n",
       "  <thead>\n",
       "    <tr style=\"text-align: right;\">\n",
       "      <th></th>\n",
       "      <th>MONTHS_BALANCE</th>\n",
       "      <th>CODE_GENDER</th>\n",
       "      <th>FLAG_OWN_CAR</th>\n",
       "      <th>FLAG_OWN_REALTY</th>\n",
       "      <th>CNT_CHILDREN</th>\n",
       "      <th>AMT_INCOME_TOTAL</th>\n",
       "      <th>NAME_INCOME_TYPE</th>\n",
       "      <th>NAME_EDUCATION_TYPE</th>\n",
       "      <th>NAME_FAMILY_STATUS</th>\n",
       "      <th>NAME_HOUSING_TYPE</th>\n",
       "      <th>AGE_YEARS</th>\n",
       "      <th>YEARS_EMPLOYED</th>\n",
       "      <th>FLAG_WORK_PHONE</th>\n",
       "      <th>CNT_FAM_MEMBERS</th>\n",
       "    </tr>\n",
       "  </thead>\n",
       "  <tbody>\n",
       "    <tr>\n",
       "      <th>0</th>\n",
       "      <td>-15</td>\n",
       "      <td>1</td>\n",
       "      <td>1</td>\n",
       "      <td>1</td>\n",
       "      <td>0</td>\n",
       "      <td>427500.0</td>\n",
       "      <td>4</td>\n",
       "      <td>1</td>\n",
       "      <td>0</td>\n",
       "      <td>4</td>\n",
       "      <td>33.0</td>\n",
       "      <td>12.0</td>\n",
       "      <td>1</td>\n",
       "      <td>2.0</td>\n",
       "    </tr>\n",
       "    <tr>\n",
       "      <th>1</th>\n",
       "      <td>-14</td>\n",
       "      <td>1</td>\n",
       "      <td>1</td>\n",
       "      <td>1</td>\n",
       "      <td>0</td>\n",
       "      <td>427500.0</td>\n",
       "      <td>4</td>\n",
       "      <td>1</td>\n",
       "      <td>0</td>\n",
       "      <td>4</td>\n",
       "      <td>33.0</td>\n",
       "      <td>12.0</td>\n",
       "      <td>1</td>\n",
       "      <td>2.0</td>\n",
       "    </tr>\n",
       "    <tr>\n",
       "      <th>2</th>\n",
       "      <td>-29</td>\n",
       "      <td>1</td>\n",
       "      <td>1</td>\n",
       "      <td>1</td>\n",
       "      <td>0</td>\n",
       "      <td>112500.0</td>\n",
       "      <td>4</td>\n",
       "      <td>4</td>\n",
       "      <td>1</td>\n",
       "      <td>1</td>\n",
       "      <td>59.0</td>\n",
       "      <td>3.0</td>\n",
       "      <td>0</td>\n",
       "      <td>2.0</td>\n",
       "    </tr>\n",
       "    <tr>\n",
       "      <th>3</th>\n",
       "      <td>-4</td>\n",
       "      <td>0</td>\n",
       "      <td>0</td>\n",
       "      <td>1</td>\n",
       "      <td>0</td>\n",
       "      <td>270000.0</td>\n",
       "      <td>0</td>\n",
       "      <td>4</td>\n",
       "      <td>3</td>\n",
       "      <td>1</td>\n",
       "      <td>52.0</td>\n",
       "      <td>8.0</td>\n",
       "      <td>0</td>\n",
       "      <td>1.0</td>\n",
       "    </tr>\n",
       "    <tr>\n",
       "      <th>4</th>\n",
       "      <td>-26</td>\n",
       "      <td>0</td>\n",
       "      <td>0</td>\n",
       "      <td>1</td>\n",
       "      <td>0</td>\n",
       "      <td>270000.0</td>\n",
       "      <td>0</td>\n",
       "      <td>4</td>\n",
       "      <td>3</td>\n",
       "      <td>1</td>\n",
       "      <td>52.0</td>\n",
       "      <td>8.0</td>\n",
       "      <td>0</td>\n",
       "      <td>1.0</td>\n",
       "    </tr>\n",
       "  </tbody>\n",
       "</table>\n",
       "</div>"
      ],
      "text/plain": [
       "   MONTHS_BALANCE  CODE_GENDER  FLAG_OWN_CAR  FLAG_OWN_REALTY  CNT_CHILDREN  \\\n",
       "0             -15            1             1                1             0   \n",
       "1             -14            1             1                1             0   \n",
       "2             -29            1             1                1             0   \n",
       "3              -4            0             0                1             0   \n",
       "4             -26            0             0                1             0   \n",
       "\n",
       "   AMT_INCOME_TOTAL  NAME_INCOME_TYPE  NAME_EDUCATION_TYPE  \\\n",
       "0          427500.0                 4                    1   \n",
       "1          427500.0                 4                    1   \n",
       "2          112500.0                 4                    4   \n",
       "3          270000.0                 0                    4   \n",
       "4          270000.0                 0                    4   \n",
       "\n",
       "   NAME_FAMILY_STATUS  NAME_HOUSING_TYPE  AGE_YEARS  YEARS_EMPLOYED  \\\n",
       "0                   0                  4       33.0            12.0   \n",
       "1                   0                  4       33.0            12.0   \n",
       "2                   1                  1       59.0             3.0   \n",
       "3                   3                  1       52.0             8.0   \n",
       "4                   3                  1       52.0             8.0   \n",
       "\n",
       "   FLAG_WORK_PHONE  CNT_FAM_MEMBERS  \n",
       "0                1              2.0  \n",
       "1                1              2.0  \n",
       "2                0              2.0  \n",
       "3                0              1.0  \n",
       "4                0              1.0  "
      ]
     },
     "execution_count": 109,
     "metadata": {},
     "output_type": "execute_result"
    }
   ],
   "source": [
    "features.head()"
   ]
  },
  {
   "cell_type": "code",
   "execution_count": 116,
   "id": "1cfcbbd0-835a-4ed0-b236-a726962109ca",
   "metadata": {},
   "outputs": [],
   "source": [
    "#split data into 70% training set and use % 30 testing set for predictions.\n",
    "from sklearn.model_selection import train_test_split\n",
    "\n",
    "# Splitting the data into training and testing sets (70% train, 30% test)\n",
    "x_train, x_test, y_train, y_test = train_test_split(features,\n",
    "                                                    label,\n",
    "                                                    test_size=0.3,  # 30% for the testing set\n",
    "                                                    random_state=10)\n"
   ]
  },
  {
   "cell_type": "code",
   "execution_count": 117,
   "id": "dc2e66b4-8575-4338-b666-d3cc83b83228",
   "metadata": {},
   "outputs": [
    {
     "name": "stdout",
     "output_type": "stream",
     "text": [
      "Logistic Model Accuracy :  99.94787322768974 %\n",
      "\n",
      "Confusion matrix :\n",
      "[[9587    0]\n",
      " [   5    0]]\n",
      "\n",
      "Classification report:\n",
      "              precision    recall  f1-score   support\n",
      "\n",
      "           0       1.00      1.00      1.00      9587\n",
      "           1       0.00      0.00      0.00         5\n",
      "\n",
      "    accuracy                           1.00      9592\n",
      "   macro avg       0.50      0.50      0.50      9592\n",
      "weighted avg       1.00      1.00      1.00      9592\n",
      "\n"
     ]
    },
    {
     "name": "stderr",
     "output_type": "stream",
     "text": [
      "/Users/don/anaconda3/lib/python3.10/site-packages/sklearn/metrics/_classification.py:1344: UndefinedMetricWarning: Precision and F-score are ill-defined and being set to 0.0 in labels with no predicted samples. Use `zero_division` parameter to control this behavior.\n",
      "  _warn_prf(average, modifier, msg_start, len(result))\n",
      "/Users/don/anaconda3/lib/python3.10/site-packages/sklearn/metrics/_classification.py:1344: UndefinedMetricWarning: Precision and F-score are ill-defined and being set to 0.0 in labels with no predicted samples. Use `zero_division` parameter to control this behavior.\n",
      "  _warn_prf(average, modifier, msg_start, len(result))\n",
      "/Users/don/anaconda3/lib/python3.10/site-packages/sklearn/metrics/_classification.py:1344: UndefinedMetricWarning: Precision and F-score are ill-defined and being set to 0.0 in labels with no predicted samples. Use `zero_division` parameter to control this behavior.\n",
      "  _warn_prf(average, modifier, msg_start, len(result))\n"
     ]
    }
   ],
   "source": [
    "# Logistic Regression\n",
    "\n",
    "from sklearn.linear_model import LogisticRegression\n",
    "from sklearn.metrics import classification_report, accuracy_score, confusion_matrix\n",
    "\n",
    "log_model = LogisticRegression()\n",
    "log_model.fit(x_train, y_train)\n",
    "\n",
    "print('Logistic Model Accuracy : ', log_model.score(x_test, y_test)*100, '%')\n",
    "\n",
    "prediction = log_model.predict(x_test)\n",
    "print('\\nConfusion matrix :')\n",
    "print(confusion_matrix(y_test, prediction))\n",
    "      \n",
    "print('\\nClassification report:')      \n",
    "print(classification_report(y_test, prediction))"
   ]
  },
  {
   "cell_type": "code",
   "execution_count": null,
   "id": "9f847167-6f74-4681-a672-ccee92889eca",
   "metadata": {},
   "outputs": [],
   "source": [
    "Make Predictions:\n",
    "Demonstrate a few examples of predictions your model can make."
   ]
  }
 ],
 "metadata": {
  "kernelspec": {
   "display_name": "Python 3 (ipykernel)",
   "language": "python",
   "name": "python3"
  },
  "language_info": {
   "codemirror_mode": {
    "name": "ipython",
    "version": 3
   },
   "file_extension": ".py",
   "mimetype": "text/x-python",
   "name": "python",
   "nbconvert_exporter": "python",
   "pygments_lexer": "ipython3",
   "version": "3.10.9"
  }
 },
 "nbformat": 4,
 "nbformat_minor": 5
}
